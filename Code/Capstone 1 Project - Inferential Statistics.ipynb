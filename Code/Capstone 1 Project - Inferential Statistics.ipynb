{
 "cells": [
  {
   "cell_type": "markdown",
   "metadata": {},
   "source": [
    "In this inferential statistics analysis, I will see if there are statistically significant differences in following variables between the users that churned and those that did not churn:\n",
    "* Age\n",
    "* Auto renew\n",
    "* Number of transactions made\n",
    "* Number of seconds listened\n",
    "* Number of unique songs listened"
   ]
  },
  {
   "cell_type": "markdown",
   "metadata": {},
   "source": [
    "# Load Libraries"
   ]
  },
  {
   "cell_type": "code",
   "execution_count": 30,
   "metadata": {},
   "outputs": [],
   "source": [
    "import pandas as pd\n",
    "import time\n",
    "from datetime import datetime\n",
    "import numpy as np\n",
    "\n",
    "# Data Visualization\n",
    "import matplotlib.pyplot as plt"
   ]
  },
  {
   "cell_type": "code",
   "execution_count": 7,
   "metadata": {},
   "outputs": [],
   "source": [
    "train = pd.read_csv('./EDA_Data/train_modified.csv')\n",
    "train_churn = train[train.is_churn == 1].msno\n",
    "train_nochurn = train[train.is_churn == 0].msno"
   ]
  },
  {
   "cell_type": "markdown",
   "metadata": {},
   "source": [
    "# Inferential Statistics"
   ]
  },
  {
   "cell_type": "markdown",
   "metadata": {},
   "source": [
    "### Age\n",
    "$H_0$: There's no difference in the age between user who churned and did not churn. <br>\n",
    "$H_A$: There's a difference."
   ]
  },
  {
   "cell_type": "code",
   "execution_count": 19,
   "metadata": {},
   "outputs": [],
   "source": [
    "# Load Data\n",
    "members = pd.read_csv('./EDA_Data/members_modified.csv')"
   ]
  },
  {
   "cell_type": "code",
   "execution_count": 21,
   "metadata": {},
   "outputs": [],
   "source": [
    "# Merge Data\n",
    "members = pd.merge(left = members, right = train,how = 'left',on=['msno'])\n",
    "members_churn = members[members.is_churn == 1]\n",
    "members_nochurn = members[members.is_churn == 0]"
   ]
  },
  {
   "cell_type": "code",
   "execution_count": 40,
   "metadata": {},
   "outputs": [
    {
     "name": "stdout",
     "output_type": "stream",
     "text": [
      "Mean Difference: 2.5739036785245375 \n",
      "Margin of error: 0.13734545113421098 \n",
      "95% Confidence Interval: [2.4365582273903263, 2.7112491296587486]\n"
     ]
    }
   ],
   "source": [
    "# Calculating Age statistics\n",
    "age_churn = members_churn.bd.dropna()\n",
    "age_nochurn = members_nochurn.bd.dropna()\n",
    "\n",
    "# Computing statistics for group churn\n",
    "churn_mean = np.mean(age_churn)\n",
    "churn_std = np.std(age_churn)\n",
    "\n",
    "# Computing statistics for group no churn\n",
    "nochurn_mean = np.mean(age_nochurn)\n",
    "nochurn_std = np.std(age_nochurn)\n",
    "\n",
    "# Difference Stats\n",
    "diff_mean = nochurn_mean - churn_mean\n",
    "diff_se = np.sqrt(churn_std**2/len(age_churn) + nochurn_std**2/len(age_nochurn))\n",
    "\n",
    "# Margin of error\n",
    "moe = 1.96 * diff_se\n",
    "lower_bd = diff_mean - moe\n",
    "upper_bd = diff_mean + moe\n",
    "\n",
    "print(f'Mean Difference: {diff_mean}', \n",
    "      f'\\nMargin of error: {moe}', \n",
    "      f'\\n95% Confidence Interval: [{lower_bd}, {upper_bd}]')"
   ]
  },
  {
   "cell_type": "code",
   "execution_count": 45,
   "metadata": {},
   "outputs": [
    {
     "name": "stdout",
     "output_type": "stream",
     "text": [
      "p-value: 0.0\n"
     ]
    }
   ],
   "source": [
    "bootstrap_replicates = np.empty(10000)\n",
    "\n",
    "for i in range (10000):\n",
    "    perm = np.random.permutation(np.concatenate((age_churn, age_nochurn)))\n",
    "    churn_perm = perm[:len(age_churn)]\n",
    "    nochurn_perm = perm[len(age_churn):]\n",
    "    bootstrap_replicates[i] = np.mean(nochurn_perm) - np.mean(churn_perm)\n",
    "\n",
    "perm_pval = np.sum(bootstrap_replicates >= diff_mean)/10000\n",
    "print(f'p-value: {perm_pval}')"
   ]
  },
  {
   "cell_type": "markdown",
   "metadata": {},
   "source": [
    "There is a mean difference of 2.574 in age between the group that churn and did not churn. The confidence interval does not contain 0; therefore, we are 95% confident that there is a difference. After conducting a bootstrap test, the null hypothesis was rejected due to a p-value of 0. This means that there is an age difference between the two groups, and that younger users are more likely to churn."
   ]
  },
  {
   "cell_type": "markdown",
   "metadata": {},
   "source": [
    "### Auto-Renew\n",
    "$H_0$ : There's no difference in auto-renewal rate between user who churned and did not churn. <br>\n",
    "$H_A$ : There's a difference."
   ]
  },
  {
   "cell_type": "code",
   "execution_count": 48,
   "metadata": {},
   "outputs": [],
   "source": [
    "# Load data\n",
    "transactions = pd.read_csv('./EDA_Data/transactions_modified.csv')"
   ]
  },
  {
   "cell_type": "code",
   "execution_count": 63,
   "metadata": {},
   "outputs": [
    {
     "name": "stdout",
     "output_type": "stream",
     "text": [
      "<class 'pandas.core.frame.DataFrame'>\n",
      "RangeIndex: 1909677 entries, 0 to 1909676\n",
      "Data columns (total 9 columns):\n",
      "msno                      object\n",
      "payment_method_id         int64\n",
      "payment_plan_days         int64\n",
      "plan_list_price           int64\n",
      "actual_amount_paid        int64\n",
      "is_auto_renew             int64\n",
      "transaction_date          object\n",
      "membership_expire_date    object\n",
      "is_cancel                 int64\n",
      "dtypes: int64(6), object(3)\n",
      "memory usage: 131.1+ MB\n"
     ]
    }
   ],
   "source": [
    "transactions.info()"
   ]
  },
  {
   "cell_type": "code",
   "execution_count": 54,
   "metadata": {},
   "outputs": [],
   "source": [
    "# Merge Data\n",
    "auto_renew = transactions[['msno', 'is_auto_renew']].groupby('msno').mean()\n",
    "auto_renew = pd.merge(left = auto_renew, right = train, how = 'left', on = ['msno'])"
   ]
  },
  {
   "cell_type": "code",
   "execution_count": 58,
   "metadata": {},
   "outputs": [
    {
     "name": "stdout",
     "output_type": "stream",
     "text": [
      "Mean Difference: 0.44100533658159546 \n",
      "Margin of error: 0.004210435379622165 \n",
      "95% Confidence Interval: [0.4367949012019733, 0.44521577196121764]\n"
     ]
    }
   ],
   "source": [
    "# Calculating Age statistics\n",
    "ar_churn = auto_renew[auto_renew.is_churn == 1].is_auto_renew\n",
    "ar_nochurn = auto_renew[auto_renew.is_churn == 0].is_auto_renew\n",
    "\n",
    "# Computing statistics for group churn\n",
    "churn_mean = np.mean(ar_churn)\n",
    "churn_std = np.std(ar_churn)\n",
    "\n",
    "# Computing statistics for group no churn\n",
    "nochurn_mean = np.mean(ar_nochurn)\n",
    "nochurn_std = np.std(ar_nochurn)\n",
    "\n",
    "# Difference Stats\n",
    "diff_mean = nochurn_mean - churn_mean\n",
    "diff_se = np.sqrt(churn_std**2/len(ar_churn) + nochurn_std**2/len(ar_nochurn))\n",
    "\n",
    "# Margin of error\n",
    "moe = 1.96 * diff_se\n",
    "lower_bd = diff_mean - moe\n",
    "upper_bd = diff_mean + moe\n",
    "\n",
    "print(f'Mean Difference: {diff_mean}', \n",
    "      f'\\nMargin of error: {moe}', \n",
    "      f'\\n95% Confidence Interval: [{lower_bd}, {upper_bd}]')"
   ]
  },
  {
   "cell_type": "code",
   "execution_count": 59,
   "metadata": {},
   "outputs": [
    {
     "name": "stdout",
     "output_type": "stream",
     "text": [
      "p-value: 0.0\n"
     ]
    }
   ],
   "source": [
    "bootstrap_replicates = np.empty(10000)\n",
    "\n",
    "for i in range (10000):\n",
    "    perm = np.random.permutation(np.concatenate((ar_churn, ar_nochurn)))\n",
    "    churn_perm = perm[:len(ar_churn)]\n",
    "    nochurn_perm = perm[len(ar_churn):]\n",
    "    bootstrap_replicates[i] = np.mean(nochurn_perm) - np.mean(churn_perm)\n",
    "\n",
    "perm_pval = np.sum(bootstrap_replicates >= diff_mean)/10000\n",
    "print(f'p-value: {perm_pval}')"
   ]
  },
  {
   "cell_type": "markdown",
   "metadata": {},
   "source": [
    "There was a difference of 0.441 in mean auto renewal rate between those that churned and did not churn. The confidence interval is very narrow [0.437, 0.445], meaning it is not likely that there is no difference in auto renewal rate. The bootstrap test had a p-value of 0; therefore, the null hypothesis was rejected. There is statisically significant difference in auto renewal rate between the churn and not churn group. On average, those who did not churn were 44% more likely to have their subscription auto-renewed."
   ]
  },
  {
   "cell_type": "markdown",
   "metadata": {},
   "source": [
    "### Number of Transactions\n",
    "$H_0$: There's no difference in the number of transactions between user who churned and did not churn. <br>\n",
    "$H_A$: Those who did not churn made more transactions than those who churned."
   ]
  },
  {
   "cell_type": "code",
   "execution_count": 67,
   "metadata": {},
   "outputs": [],
   "source": [
    "# Merge data\n",
    "transaction_made = transactions[['msno', 'transaction_date']].groupby('msno').count()\n",
    "transaction_made = pd.merge(left = transaction_made, right = train, how = 'left', on = ['msno'])"
   ]
  },
  {
   "cell_type": "code",
   "execution_count": 69,
   "metadata": {},
   "outputs": [
    {
     "name": "stdout",
     "output_type": "stream",
     "text": [
      "Mean Difference: 5.5200867432370675 \n",
      "Margin of error: 0.08865758164061524 \n",
      "95% Confidence Interval: [5.431429161596452, 5.608744324877683]\n"
     ]
    }
   ],
   "source": [
    "# Calculating Age statistics\n",
    "trans_churn = transaction_made[transaction_made.is_churn == 1].transaction_date\n",
    "trans_nochurn = transaction_made[transaction_made.is_churn == 0].transaction_date\n",
    "\n",
    "# Computing statistics for group churn\n",
    "churn_mean = np.mean(trans_churn)\n",
    "churn_std = np.std(trans_churn)\n",
    "\n",
    "# Computing statistics for group no churn\n",
    "nochurn_mean = np.mean(trans_nochurn)\n",
    "nochurn_std = np.std(trans_nochurn)\n",
    "\n",
    "# Difference Stats\n",
    "diff_mean = nochurn_mean - churn_mean\n",
    "diff_se = np.sqrt(churn_std**2/len(trans_churn) + nochurn_std**2/len(trans_nochurn))\n",
    "\n",
    "# Margin of error\n",
    "moe = 1.96 * diff_se\n",
    "lower_bd = diff_mean - moe\n",
    "upper_bd = diff_mean + moe\n",
    "\n",
    "print(f'Mean Difference: {diff_mean}', \n",
    "      f'\\nMargin of error: {moe}', \n",
    "      f'\\n95% Confidence Interval: [{lower_bd}, {upper_bd}]')"
   ]
  },
  {
   "cell_type": "code",
   "execution_count": 71,
   "metadata": {},
   "outputs": [
    {
     "name": "stdout",
     "output_type": "stream",
     "text": [
      "p-value: 0.0\n"
     ]
    }
   ],
   "source": [
    "bootstrap_replicates = np.empty(10000)\n",
    "\n",
    "for i in range (10000):\n",
    "    perm = np.random.permutation(np.concatenate((trans_churn, trans_nochurn)))\n",
    "    churn_perm = perm[:len(trans_churn)]\n",
    "    nochurn_perm = perm[len(trans_churn):]\n",
    "    bootstrap_replicates[i] = np.mean(nochurn_perm) - np.mean(churn_perm)\n",
    "\n",
    "perm_pval = np.sum(bootstrap_replicates >= diff_mean)/10000\n",
    "print(f'p-value: {perm_pval}')"
   ]
  },
  {
   "cell_type": "markdown",
   "metadata": {},
   "source": [
    "On average, those who did not churn made 5.52 more transactions than those that churned. The 95% confidence interval is [5.431, 5.609]. The bootstrap test resulted in a p-value of 0.0, meaning that the null hypothesis can be rejected. Therefore, we can say that there were more transactions made by those who did not churn."
   ]
  },
  {
   "cell_type": "markdown",
   "metadata": {},
   "source": [
    "### Number of Seconds Listened\n",
    "\n",
    "$H_0$: There's no difference in the total number of seconds listened between user who churned and did not churn. <br>\n",
    "$H_A$: There's a difference between the groups."
   ]
  },
  {
   "cell_type": "code",
   "execution_count": 72,
   "metadata": {},
   "outputs": [],
   "source": [
    "user = pd.read_csv('./EDA_Data/user_logs_modified.csv')"
   ]
  },
  {
   "cell_type": "code",
   "execution_count": 110,
   "metadata": {},
   "outputs": [
    {
     "name": "stdout",
     "output_type": "stream",
     "text": [
      "<class 'pandas.core.frame.DataFrame'>\n",
      "RangeIndex: 10927698 entries, 0 to 10927697\n",
      "Data columns (total 9 columns):\n",
      "msno          object\n",
      "date          object\n",
      "num_25        float64\n",
      "num_50        float64\n",
      "num_75        float64\n",
      "num_985       float64\n",
      "num_100       float64\n",
      "num_unq       float64\n",
      "total_secs    float64\n",
      "dtypes: float64(7), object(2)\n",
      "memory usage: 750.3+ MB\n"
     ]
    }
   ],
   "source": [
    "user.info()"
   ]
  },
  {
   "cell_type": "code",
   "execution_count": 100,
   "metadata": {},
   "outputs": [],
   "source": [
    "# Merge data\n",
    "seconds = user[['msno', 'total_secs']].groupby('msno').sum()\n",
    "seconds = pd.merge(left = seconds, right = train, how = 'left', on = ['msno'])"
   ]
  },
  {
   "cell_type": "code",
   "execution_count": 108,
   "metadata": {},
   "outputs": [
    {
     "name": "stdout",
     "output_type": "stream",
     "text": [
      "Mean Difference: 21891093981546.016 \n",
      "Margin of error: 18958175174543.344 \n",
      "95% Confidence Interval: [2932918807002.672, 40849269156089.36]\n"
     ]
    }
   ],
   "source": [
    "# Calculating Age statistics\n",
    "secs_churn = seconds[seconds.is_churn == 1].total_secs\n",
    "secs_nochurn = seconds[seconds.is_churn == 0].total_secs\n",
    "\n",
    "# Computing statistics for group churn\n",
    "churn_mean = np.mean(secs_churn)\n",
    "churn_std = np.std(secs_churn)\n",
    "\n",
    "# Computing statistics for group no churn\n",
    "nochurn_mean = np.mean(secs_nochurn)\n",
    "nochurn_std = np.std(secs_nochurn)\n",
    "\n",
    "# Difference Stats\n",
    "diff_mean = abs(nochurn_mean - churn_mean)\n",
    "diff_se = np.sqrt(churn_std**2/len(secs_churn) + nochurn_std**2/len(secs_nochurn))\n",
    "\n",
    "# Margin of error\n",
    "moe = 1.96 * diff_se\n",
    "lower_bd = diff_mean - moe\n",
    "upper_bd = diff_mean + moe\n",
    "\n",
    "print(f'Mean Difference: {diff_mean}', \n",
    "      f'\\nMargin of error: {moe}', \n",
    "      f'\\n95% Confidence Interval: [{lower_bd}, {upper_bd}]')"
   ]
  },
  {
   "cell_type": "code",
   "execution_count": 109,
   "metadata": {},
   "outputs": [
    {
     "name": "stdout",
     "output_type": "stream",
     "text": [
      "p-value: 0.0245\n"
     ]
    }
   ],
   "source": [
    "bootstrap_replicates = np.empty(10000)\n",
    "\n",
    "for i in range (10000):\n",
    "    perm = np.random.permutation(np.concatenate((secs_churn, secs_nochurn)))\n",
    "    churn_perm = perm[:len(secs_churn)]\n",
    "    nochurn_perm = perm[len(secs_churn):]\n",
    "    bootstrap_replicates[i] = abs(np.mean(nochurn_perm) - np.mean(churn_perm))\n",
    "\n",
    "perm_pval = np.sum(bootstrap_replicates >= diff_mean)/10000\n",
    "print(f'p-value: {perm_pval}')"
   ]
  },
  {
   "cell_type": "markdown",
   "metadata": {},
   "source": [
    "There seems to be a difference in the total number of seconds listened. After conducting the bootstrap test, we fail to reject the null hypothesis at 0.01 significance level. This means that number of total seconds listened may not differ between those that churned and did not churn."
   ]
  },
  {
   "cell_type": "markdown",
   "metadata": {},
   "source": [
    "### Number of Unique Songs Listened\n",
    "\n",
    "$H_0$: There's no difference in the number of unique songs listened per session between user who churned and did not churn. <br>\n",
    "$H_A$: There's a difference between the groups."
   ]
  },
  {
   "cell_type": "code",
   "execution_count": 116,
   "metadata": {},
   "outputs": [],
   "source": [
    "# Merge data\n",
    "unique = user[['msno', 'num_unq']].groupby('msno').mean()\n",
    "unique = pd.merge(left = unique, right = train, how = 'left', on = ['msno'])"
   ]
  },
  {
   "cell_type": "code",
   "execution_count": 122,
   "metadata": {},
   "outputs": [
    {
     "name": "stdout",
     "output_type": "stream",
     "text": [
      "Mean Difference: -1.093376972354637 \n",
      "Margin of error: 0.2055256639861163 \n",
      "95% Confidence Interval: [-1.2989026363407532, -0.8878513083685207]\n"
     ]
    }
   ],
   "source": [
    "# Calculating Age statistics\n",
    "unq_churn = unique[unique.is_churn == 1].num_unq\n",
    "unq_nochurn = unique[unique.is_churn == 0].num_unq\n",
    "\n",
    "# Computing statistics for group churn\n",
    "churn_mean = np.mean(unq_churn)\n",
    "churn_std = np.std(unq_churn)\n",
    "\n",
    "# Computing statistics for group no churn\n",
    "nochurn_mean = np.mean(unq_nochurn)\n",
    "nochurn_std = np.std(unq_nochurn)\n",
    "\n",
    "# Difference Stats\n",
    "diff_mean = nochurn_mean - churn_mean\n",
    "diff_se = np.sqrt(churn_std**2/len(secs_churn) + nochurn_std**2/len(secs_nochurn))\n",
    "\n",
    "# Margin of error\n",
    "moe = 1.96 * diff_se\n",
    "lower_bd = diff_mean - moe\n",
    "upper_bd = diff_mean + moe\n",
    "\n",
    "print(f'Mean Difference: {diff_mean}', \n",
    "      f'\\nMargin of error: {moe}', \n",
    "      f'\\n95% Confidence Interval: [{lower_bd}, {upper_bd}]')"
   ]
  },
  {
   "cell_type": "code",
   "execution_count": 123,
   "metadata": {},
   "outputs": [
    {
     "name": "stdout",
     "output_type": "stream",
     "text": [
      "p-value: 0.0\n"
     ]
    }
   ],
   "source": [
    "bootstrap_replicates = np.empty(10000)\n",
    "\n",
    "for i in range (10000):\n",
    "    perm = np.random.permutation(np.concatenate((unq_churn, unq_nochurn)))\n",
    "    churn_perm = perm[:len(secs_churn)]\n",
    "    nochurn_perm = perm[len(secs_churn):]\n",
    "    bootstrap_replicates[i] = np.mean(nochurn_perm) - np.mean(churn_perm)\n",
    "\n",
    "perm_pval = np.sum(bootstrap_replicates <= diff_mean)/10000\n",
    "print(f'p-value: {perm_pval}')"
   ]
  },
  {
   "cell_type": "markdown",
   "metadata": {},
   "source": [
    "On average, those that churned listened to one more unique song per session than those that did not churn. The confidence interval does not contain 0, so we are 95% confident this finding is significant. After conducting the bootstrap test, we are able to reject the null hypothesis since we received a p-value of 0.0. "
   ]
  },
  {
   "cell_type": "markdown",
   "metadata": {},
   "source": [
    "## Conclusion\n",
    "\n",
    "Out of the 5 variables we've tested, 4 of the variables were proven to have statisically significant differences in distribution. These variables should be included in the predictor model:\n",
    "* Age\n",
    "* Auto-Renew\n",
    "* Number of Transactions\n",
    "* Number of Unique Songs"
   ]
  }
 ],
 "metadata": {
  "kernelspec": {
   "display_name": "Python 3",
   "language": "python",
   "name": "python3"
  },
  "language_info": {
   "codemirror_mode": {
    "name": "ipython",
    "version": 3
   },
   "file_extension": ".py",
   "mimetype": "text/x-python",
   "name": "python",
   "nbconvert_exporter": "python",
   "pygments_lexer": "ipython3",
   "version": "3.7.1"
  }
 },
 "nbformat": 4,
 "nbformat_minor": 2
}
