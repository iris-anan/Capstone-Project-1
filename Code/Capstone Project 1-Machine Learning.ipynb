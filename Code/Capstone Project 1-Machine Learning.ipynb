{
 "cells": [
  {
   "cell_type": "markdown",
   "metadata": {},
   "source": [
    "To take advantage of the temporal aspect of the data, we will split the dataset into 2 separate time periods for training and testing data:\n",
    "* Training Data: February (2017/02/01 - 2017/02/28)\n",
    "* Testing Data: March (2017/03/01 - 2017/03/31)"
   ]
  },
  {
   "cell_type": "code",
   "execution_count": 2,
   "metadata": {},
   "outputs": [],
   "source": [
    "# Load Libraries\n",
    "import pandas as pd\n",
    "import time\n",
    "from datetime import datetime\n",
    "import numpy as np"
   ]
  },
  {
   "cell_type": "markdown",
   "metadata": {},
   "source": [
    "## Data Preprocessing <br>\n",
    "\n",
    "Both the training data and the testing data are biased towards user who did not churn. To balance it out, both need to be downsampled. Previously we had already downsampled the churn data for February. We also have to do it for our churn data for March."
   ]
  },
  {
   "cell_type": "code",
   "execution_count": 3,
   "metadata": {},
   "outputs": [],
   "source": [
    "feb_churn = pd.read_csv('./EDA_Data/train_modified.csv')\n",
    "march_churn = pd.read_csv('./Data2/train_v2.csv')"
   ]
  },
  {
   "cell_type": "code",
   "execution_count": 9,
   "metadata": {
    "scrolled": true
   },
   "outputs": [
    {
     "data": {
      "text/html": [
       "<div>\n",
       "<style scoped>\n",
       "    .dataframe tbody tr th:only-of-type {\n",
       "        vertical-align: middle;\n",
       "    }\n",
       "\n",
       "    .dataframe tbody tr th {\n",
       "        vertical-align: top;\n",
       "    }\n",
       "\n",
       "    .dataframe thead th {\n",
       "        text-align: right;\n",
       "    }\n",
       "</style>\n",
       "<table border=\"1\" class=\"dataframe\">\n",
       "  <thead>\n",
       "    <tr style=\"text-align: right;\">\n",
       "      <th></th>\n",
       "      <th>is_churn</th>\n",
       "    </tr>\n",
       "  </thead>\n",
       "  <tbody>\n",
       "    <tr>\n",
       "      <th>count</th>\n",
       "      <td>138471.000000</td>\n",
       "    </tr>\n",
       "    <tr>\n",
       "      <th>mean</th>\n",
       "      <td>0.458370</td>\n",
       "    </tr>\n",
       "    <tr>\n",
       "      <th>std</th>\n",
       "      <td>0.498266</td>\n",
       "    </tr>\n",
       "    <tr>\n",
       "      <th>min</th>\n",
       "      <td>0.000000</td>\n",
       "    </tr>\n",
       "    <tr>\n",
       "      <th>25%</th>\n",
       "      <td>0.000000</td>\n",
       "    </tr>\n",
       "    <tr>\n",
       "      <th>50%</th>\n",
       "      <td>0.000000</td>\n",
       "    </tr>\n",
       "    <tr>\n",
       "      <th>75%</th>\n",
       "      <td>1.000000</td>\n",
       "    </tr>\n",
       "    <tr>\n",
       "      <th>max</th>\n",
       "      <td>1.000000</td>\n",
       "    </tr>\n",
       "  </tbody>\n",
       "</table>\n",
       "</div>"
      ],
      "text/plain": [
       "            is_churn\n",
       "count  138471.000000\n",
       "mean        0.458370\n",
       "std         0.498266\n",
       "min         0.000000\n",
       "25%         0.000000\n",
       "50%         0.000000\n",
       "75%         1.000000\n",
       "max         1.000000"
      ]
     },
     "execution_count": 9,
     "metadata": {},
     "output_type": "execute_result"
    }
   ],
   "source": [
    "feb_churn.describe()"
   ]
  },
  {
   "cell_type": "code",
   "execution_count": 6,
   "metadata": {},
   "outputs": [
    {
     "data": {
      "text/html": [
       "<div>\n",
       "<style scoped>\n",
       "    .dataframe tbody tr th:only-of-type {\n",
       "        vertical-align: middle;\n",
       "    }\n",
       "\n",
       "    .dataframe tbody tr th {\n",
       "        vertical-align: top;\n",
       "    }\n",
       "\n",
       "    .dataframe thead th {\n",
       "        text-align: right;\n",
       "    }\n",
       "</style>\n",
       "<table border=\"1\" class=\"dataframe\">\n",
       "  <thead>\n",
       "    <tr style=\"text-align: right;\">\n",
       "      <th></th>\n",
       "      <th>is_churn</th>\n",
       "    </tr>\n",
       "  </thead>\n",
       "  <tbody>\n",
       "    <tr>\n",
       "      <th>count</th>\n",
       "      <td>970960.000000</td>\n",
       "    </tr>\n",
       "    <tr>\n",
       "      <th>mean</th>\n",
       "      <td>0.089942</td>\n",
       "    </tr>\n",
       "    <tr>\n",
       "      <th>std</th>\n",
       "      <td>0.286099</td>\n",
       "    </tr>\n",
       "    <tr>\n",
       "      <th>min</th>\n",
       "      <td>0.000000</td>\n",
       "    </tr>\n",
       "    <tr>\n",
       "      <th>25%</th>\n",
       "      <td>0.000000</td>\n",
       "    </tr>\n",
       "    <tr>\n",
       "      <th>50%</th>\n",
       "      <td>0.000000</td>\n",
       "    </tr>\n",
       "    <tr>\n",
       "      <th>75%</th>\n",
       "      <td>0.000000</td>\n",
       "    </tr>\n",
       "    <tr>\n",
       "      <th>max</th>\n",
       "      <td>1.000000</td>\n",
       "    </tr>\n",
       "  </tbody>\n",
       "</table>\n",
       "</div>"
      ],
      "text/plain": [
       "            is_churn\n",
       "count  970960.000000\n",
       "mean        0.089942\n",
       "std         0.286099\n",
       "min         0.000000\n",
       "25%         0.000000\n",
       "50%         0.000000\n",
       "75%         0.000000\n",
       "max         1.000000"
      ]
     },
     "execution_count": 6,
     "metadata": {},
     "output_type": "execute_result"
    }
   ],
   "source": [
    "march_churn.describe()"
   ]
  },
  {
   "cell_type": "code",
   "execution_count": 11,
   "metadata": {},
   "outputs": [
    {
     "data": {
      "text/plain": [
       "87330"
      ]
     },
     "execution_count": 11,
     "metadata": {},
     "output_type": "execute_result"
    }
   ],
   "source": [
    "np.sum(march_churn.is_churn == 1)"
   ]
  },
  {
   "cell_type": "code",
   "execution_count": 4,
   "metadata": {},
   "outputs": [],
   "source": [
    "#Split train data into churn and no churn dataframes\n",
    "train_churn = march_churn[march_churn.is_churn == 1]\n",
    "train_nochurn = march_churn[march_churn.is_churn == 0]\n",
    "\n",
    "#Sample nochurn group\n",
    "nochurn_sample = train_nochurn.msno.sample(n=87500, random_state=3).tolist()\n",
    "train_nochurn = march_churn[march_churn.msno.isin(nochurn_sample)]\n",
    "\n",
    "#Combine the two dataframes\n",
    "march_churn = pd.concat([train_churn, train_nochurn])\n",
    "march_churn.reset_index(drop=True, inplace=True)"
   ]
  },
  {
   "cell_type": "code",
   "execution_count": 5,
   "metadata": {},
   "outputs": [
    {
     "data": {
      "text/html": [
       "<div>\n",
       "<style scoped>\n",
       "    .dataframe tbody tr th:only-of-type {\n",
       "        vertical-align: middle;\n",
       "    }\n",
       "\n",
       "    .dataframe tbody tr th {\n",
       "        vertical-align: top;\n",
       "    }\n",
       "\n",
       "    .dataframe thead th {\n",
       "        text-align: right;\n",
       "    }\n",
       "</style>\n",
       "<table border=\"1\" class=\"dataframe\">\n",
       "  <thead>\n",
       "    <tr style=\"text-align: right;\">\n",
       "      <th></th>\n",
       "      <th>is_churn</th>\n",
       "    </tr>\n",
       "  </thead>\n",
       "  <tbody>\n",
       "    <tr>\n",
       "      <th>count</th>\n",
       "      <td>174830.000000</td>\n",
       "    </tr>\n",
       "    <tr>\n",
       "      <th>mean</th>\n",
       "      <td>0.499514</td>\n",
       "    </tr>\n",
       "    <tr>\n",
       "      <th>std</th>\n",
       "      <td>0.500001</td>\n",
       "    </tr>\n",
       "    <tr>\n",
       "      <th>min</th>\n",
       "      <td>0.000000</td>\n",
       "    </tr>\n",
       "    <tr>\n",
       "      <th>25%</th>\n",
       "      <td>0.000000</td>\n",
       "    </tr>\n",
       "    <tr>\n",
       "      <th>50%</th>\n",
       "      <td>0.000000</td>\n",
       "    </tr>\n",
       "    <tr>\n",
       "      <th>75%</th>\n",
       "      <td>1.000000</td>\n",
       "    </tr>\n",
       "    <tr>\n",
       "      <th>max</th>\n",
       "      <td>1.000000</td>\n",
       "    </tr>\n",
       "  </tbody>\n",
       "</table>\n",
       "</div>"
      ],
      "text/plain": [
       "            is_churn\n",
       "count  174830.000000\n",
       "mean        0.499514\n",
       "std         0.500001\n",
       "min         0.000000\n",
       "25%         0.000000\n",
       "50%         0.000000\n",
       "75%         1.000000\n",
       "max         1.000000"
      ]
     },
     "execution_count": 5,
     "metadata": {},
     "output_type": "execute_result"
    }
   ],
   "source": [
    "march_churn.describe()"
   ]
  },
  {
   "cell_type": "markdown",
   "metadata": {},
   "source": [
    "Now, the test data is also balanced out with ~50% churn rate compared to the previous 9% churn rate."
   ]
  },
  {
   "cell_type": "markdown",
   "metadata": {},
   "source": [
    "## Feature Engineering\n",
    "### Member Data\n",
    "We will need to convert all the categorical data into dummy variables. The categorical data includes:\n",
    "* City\n",
    "* Gender\n",
    "* Registration Method\n",
    "\n",
    "As well as creating a variable that turns registration initiation date into a relative feature. This means that we will find the difference between the registration initiation date and the end date of the time period."
   ]
  },
  {
   "cell_type": "markdown",
   "metadata": {},
   "source": [
    "**Train Data: February**"
   ]
  },
  {
   "cell_type": "code",
   "execution_count": 6,
   "metadata": {},
   "outputs": [
    {
     "data": {
      "text/html": [
       "<div>\n",
       "<style scoped>\n",
       "    .dataframe tbody tr th:only-of-type {\n",
       "        vertical-align: middle;\n",
       "    }\n",
       "\n",
       "    .dataframe tbody tr th {\n",
       "        vertical-align: top;\n",
       "    }\n",
       "\n",
       "    .dataframe thead th {\n",
       "        text-align: right;\n",
       "    }\n",
       "</style>\n",
       "<table border=\"1\" class=\"dataframe\">\n",
       "  <thead>\n",
       "    <tr style=\"text-align: right;\">\n",
       "      <th></th>\n",
       "      <th>city_3</th>\n",
       "      <th>city_4</th>\n",
       "      <th>city_5</th>\n",
       "      <th>city_6</th>\n",
       "      <th>city_7</th>\n",
       "      <th>city_8</th>\n",
       "      <th>city_9</th>\n",
       "      <th>city_10</th>\n",
       "      <th>city_11</th>\n",
       "      <th>city_12</th>\n",
       "      <th>...</th>\n",
       "      <th>city_21</th>\n",
       "      <th>city_22</th>\n",
       "      <th>gender_male</th>\n",
       "      <th>registered_via_4</th>\n",
       "      <th>registered_via_7</th>\n",
       "      <th>registered_via_9</th>\n",
       "      <th>registered_via_13</th>\n",
       "      <th>msno</th>\n",
       "      <th>days_since_reg</th>\n",
       "      <th>age</th>\n",
       "    </tr>\n",
       "  </thead>\n",
       "  <tbody>\n",
       "    <tr>\n",
       "      <th>0</th>\n",
       "      <td>0</td>\n",
       "      <td>0</td>\n",
       "      <td>1</td>\n",
       "      <td>0</td>\n",
       "      <td>0</td>\n",
       "      <td>0</td>\n",
       "      <td>0</td>\n",
       "      <td>0</td>\n",
       "      <td>0</td>\n",
       "      <td>0</td>\n",
       "      <td>...</td>\n",
       "      <td>0</td>\n",
       "      <td>0</td>\n",
       "      <td>1</td>\n",
       "      <td>0</td>\n",
       "      <td>0</td>\n",
       "      <td>1</td>\n",
       "      <td>0</td>\n",
       "      <td>WH5Jq4mgtfUFXh2yz+HrcTXKS4Oess4k4W3qKolAeb0=</td>\n",
       "      <td>1992</td>\n",
       "      <td>34.0</td>\n",
       "    </tr>\n",
       "    <tr>\n",
       "      <th>1</th>\n",
       "      <td>0</td>\n",
       "      <td>0</td>\n",
       "      <td>0</td>\n",
       "      <td>0</td>\n",
       "      <td>0</td>\n",
       "      <td>0</td>\n",
       "      <td>0</td>\n",
       "      <td>0</td>\n",
       "      <td>0</td>\n",
       "      <td>0</td>\n",
       "      <td>...</td>\n",
       "      <td>0</td>\n",
       "      <td>1</td>\n",
       "      <td>0</td>\n",
       "      <td>0</td>\n",
       "      <td>0</td>\n",
       "      <td>1</td>\n",
       "      <td>0</td>\n",
       "      <td>Z6WIOK9vXy+e2XDBiioNAxuZ0ScXSU/Ebq4tUwqVSrE=</td>\n",
       "      <td>1979</td>\n",
       "      <td>38.0</td>\n",
       "    </tr>\n",
       "    <tr>\n",
       "      <th>2</th>\n",
       "      <td>0</td>\n",
       "      <td>1</td>\n",
       "      <td>0</td>\n",
       "      <td>0</td>\n",
       "      <td>0</td>\n",
       "      <td>0</td>\n",
       "      <td>0</td>\n",
       "      <td>0</td>\n",
       "      <td>0</td>\n",
       "      <td>0</td>\n",
       "      <td>...</td>\n",
       "      <td>0</td>\n",
       "      <td>0</td>\n",
       "      <td>1</td>\n",
       "      <td>0</td>\n",
       "      <td>0</td>\n",
       "      <td>1</td>\n",
       "      <td>0</td>\n",
       "      <td>i4kmzPli+nl4XagzznO+oCcPeXfjcLSKIn8xE9oGU5E=</td>\n",
       "      <td>1972</td>\n",
       "      <td>58.0</td>\n",
       "    </tr>\n",
       "    <tr>\n",
       "      <th>3</th>\n",
       "      <td>0</td>\n",
       "      <td>0</td>\n",
       "      <td>0</td>\n",
       "      <td>0</td>\n",
       "      <td>0</td>\n",
       "      <td>0</td>\n",
       "      <td>0</td>\n",
       "      <td>0</td>\n",
       "      <td>0</td>\n",
       "      <td>0</td>\n",
       "      <td>...</td>\n",
       "      <td>0</td>\n",
       "      <td>0</td>\n",
       "      <td>0</td>\n",
       "      <td>0</td>\n",
       "      <td>0</td>\n",
       "      <td>0</td>\n",
       "      <td>0</td>\n",
       "      <td>7oCpSPj4+SdVJLfDRc+tN5HLp2R1DRozaWsTpbLTz5g=</td>\n",
       "      <td>862</td>\n",
       "      <td>21.0</td>\n",
       "    </tr>\n",
       "    <tr>\n",
       "      <th>4</th>\n",
       "      <td>0</td>\n",
       "      <td>0</td>\n",
       "      <td>0</td>\n",
       "      <td>0</td>\n",
       "      <td>0</td>\n",
       "      <td>0</td>\n",
       "      <td>0</td>\n",
       "      <td>0</td>\n",
       "      <td>0</td>\n",
       "      <td>0</td>\n",
       "      <td>...</td>\n",
       "      <td>0</td>\n",
       "      <td>0</td>\n",
       "      <td>0</td>\n",
       "      <td>0</td>\n",
       "      <td>0</td>\n",
       "      <td>0</td>\n",
       "      <td>0</td>\n",
       "      <td>bPHi7VPQkMtdeIqJAktzYSITpRSt9F9mCdhddPTSlOY=</td>\n",
       "      <td>861</td>\n",
       "      <td>17.0</td>\n",
       "    </tr>\n",
       "  </tbody>\n",
       "</table>\n",
       "<p>5 rows × 28 columns</p>\n",
       "</div>"
      ],
      "text/plain": [
       "   city_3  city_4  city_5  city_6  city_7  city_8  city_9  city_10  city_11  \\\n",
       "0       0       0       1       0       0       0       0        0        0   \n",
       "1       0       0       0       0       0       0       0        0        0   \n",
       "2       0       1       0       0       0       0       0        0        0   \n",
       "3       0       0       0       0       0       0       0        0        0   \n",
       "4       0       0       0       0       0       0       0        0        0   \n",
       "\n",
       "   city_12  ...   city_21  city_22  gender_male  registered_via_4  \\\n",
       "0        0  ...         0        0            1                 0   \n",
       "1        0  ...         0        1            0                 0   \n",
       "2        0  ...         0        0            1                 0   \n",
       "3        0  ...         0        0            0                 0   \n",
       "4        0  ...         0        0            0                 0   \n",
       "\n",
       "   registered_via_7  registered_via_9  registered_via_13  \\\n",
       "0                 0                 1                  0   \n",
       "1                 0                 1                  0   \n",
       "2                 0                 1                  0   \n",
       "3                 0                 0                  0   \n",
       "4                 0                 0                  0   \n",
       "\n",
       "                                           msno  days_since_reg   age  \n",
       "0  WH5Jq4mgtfUFXh2yz+HrcTXKS4Oess4k4W3qKolAeb0=            1992  34.0  \n",
       "1  Z6WIOK9vXy+e2XDBiioNAxuZ0ScXSU/Ebq4tUwqVSrE=            1979  38.0  \n",
       "2  i4kmzPli+nl4XagzznO+oCcPeXfjcLSKIn8xE9oGU5E=            1972  58.0  \n",
       "3  7oCpSPj4+SdVJLfDRc+tN5HLp2R1DRozaWsTpbLTz5g=             862  21.0  \n",
       "4  bPHi7VPQkMtdeIqJAktzYSITpRSt9F9mCdhddPTSlOY=             861  17.0  \n",
       "\n",
       "[5 rows x 28 columns]"
      ]
     },
     "execution_count": 6,
     "metadata": {},
     "output_type": "execute_result"
    }
   ],
   "source": [
    "# Read Member data file\n",
    "feb_members = pd.read_csv('./EDA_Data/members_modified.csv')\n",
    "\n",
    "# Convert Registration into date time object\n",
    "feb_members['registration_init_time'] = pd.to_datetime(feb_members.registration_init_time)\n",
    "\n",
    "# Convert columns into categorical data\n",
    "cat_list = ['city', 'gender', 'registered_via']\n",
    "for col in cat_list:\n",
    "    feb_members[col] = feb_members[col].astype('category')\n",
    "    \n",
    "# Converting categorical data into dummy variables\n",
    "feb_cat_data = feb_members[cat_list]\n",
    "feb_cat_data = pd.get_dummies(feb_cat_data, drop_first = True).to_sparse(fill_value=0)\n",
    "feb_cat_data['msno'] = feb_members.msno\n",
    "\n",
    "# Create Days since registration feature\n",
    "feb_cat_data['days_since_reg'] = feb_members.registration_init_time.apply(lambda x: (pd.Timestamp(2017,2,28) - x).days)\n",
    "\n",
    "# Add Age data\n",
    "feb_cat_data['age'] = feb_members['bd']\n",
    "\n",
    "feb_cat_data.head()"
   ]
  },
  {
   "cell_type": "markdown",
   "metadata": {},
   "source": [
    "**Test Data: March**"
   ]
  },
  {
   "cell_type": "code",
   "execution_count": 7,
   "metadata": {},
   "outputs": [],
   "source": [
    "# Load member data for test data\n",
    "march_members = pd.read_csv('./Data/members_v3.csv')\n",
    "march_members = march_members[march_members.msno.isin(march_churn.msno.tolist())]\n",
    "march_members.reset_index(drop=True, inplace=True)\n",
    "march_members.registration_init_time = march_members.registration_init_time.apply(lambda x: pd.to_datetime(datetime.strptime(str(x), \"%Y%m%d\").date() if pd.notnull(x) else None))"
   ]
  },
  {
   "cell_type": "code",
   "execution_count": 8,
   "metadata": {},
   "outputs": [
    {
     "data": {
      "text/html": [
       "<div>\n",
       "<style scoped>\n",
       "    .dataframe tbody tr th:only-of-type {\n",
       "        vertical-align: middle;\n",
       "    }\n",
       "\n",
       "    .dataframe tbody tr th {\n",
       "        vertical-align: top;\n",
       "    }\n",
       "\n",
       "    .dataframe thead th {\n",
       "        text-align: right;\n",
       "    }\n",
       "</style>\n",
       "<table border=\"1\" class=\"dataframe\">\n",
       "  <thead>\n",
       "    <tr style=\"text-align: right;\">\n",
       "      <th></th>\n",
       "      <th>city_3</th>\n",
       "      <th>city_4</th>\n",
       "      <th>city_5</th>\n",
       "      <th>city_6</th>\n",
       "      <th>city_7</th>\n",
       "      <th>city_8</th>\n",
       "      <th>city_9</th>\n",
       "      <th>city_10</th>\n",
       "      <th>city_11</th>\n",
       "      <th>city_12</th>\n",
       "      <th>...</th>\n",
       "      <th>city_21</th>\n",
       "      <th>city_22</th>\n",
       "      <th>gender_male</th>\n",
       "      <th>registered_via_4</th>\n",
       "      <th>registered_via_7</th>\n",
       "      <th>registered_via_9</th>\n",
       "      <th>registered_via_13</th>\n",
       "      <th>msno</th>\n",
       "      <th>days_since_reg</th>\n",
       "      <th>age</th>\n",
       "    </tr>\n",
       "  </thead>\n",
       "  <tbody>\n",
       "    <tr>\n",
       "      <th>0</th>\n",
       "      <td>0</td>\n",
       "      <td>1</td>\n",
       "      <td>0</td>\n",
       "      <td>0</td>\n",
       "      <td>0</td>\n",
       "      <td>0</td>\n",
       "      <td>0</td>\n",
       "      <td>0</td>\n",
       "      <td>0</td>\n",
       "      <td>0</td>\n",
       "      <td>...</td>\n",
       "      <td>0</td>\n",
       "      <td>0</td>\n",
       "      <td>1</td>\n",
       "      <td>0</td>\n",
       "      <td>0</td>\n",
       "      <td>1</td>\n",
       "      <td>0</td>\n",
       "      <td>yLkV2gbZ4GLFwqTOXLVHz0VGrMYcgBGgKZ3kj9RiYu8=</td>\n",
       "      <td>2023</td>\n",
       "      <td>30.0</td>\n",
       "    </tr>\n",
       "    <tr>\n",
       "      <th>1</th>\n",
       "      <td>0</td>\n",
       "      <td>0</td>\n",
       "      <td>0</td>\n",
       "      <td>0</td>\n",
       "      <td>0</td>\n",
       "      <td>0</td>\n",
       "      <td>0</td>\n",
       "      <td>0</td>\n",
       "      <td>0</td>\n",
       "      <td>0</td>\n",
       "      <td>...</td>\n",
       "      <td>0</td>\n",
       "      <td>0</td>\n",
       "      <td>0</td>\n",
       "      <td>0</td>\n",
       "      <td>1</td>\n",
       "      <td>0</td>\n",
       "      <td>0</td>\n",
       "      <td>OoDwiKZM+ZGr9P3fRivavgOtglTEaNfWJO4KaJcTTts=</td>\n",
       "      <td>2021</td>\n",
       "      <td>NaN</td>\n",
       "    </tr>\n",
       "    <tr>\n",
       "      <th>2</th>\n",
       "      <td>0</td>\n",
       "      <td>0</td>\n",
       "      <td>0</td>\n",
       "      <td>0</td>\n",
       "      <td>0</td>\n",
       "      <td>0</td>\n",
       "      <td>0</td>\n",
       "      <td>0</td>\n",
       "      <td>0</td>\n",
       "      <td>0</td>\n",
       "      <td>...</td>\n",
       "      <td>0</td>\n",
       "      <td>1</td>\n",
       "      <td>0</td>\n",
       "      <td>0</td>\n",
       "      <td>0</td>\n",
       "      <td>1</td>\n",
       "      <td>0</td>\n",
       "      <td>Z6WIOK9vXy+e2XDBiioNAxuZ0ScXSU/Ebq4tUwqVSrE=</td>\n",
       "      <td>2010</td>\n",
       "      <td>38.0</td>\n",
       "    </tr>\n",
       "    <tr>\n",
       "      <th>3</th>\n",
       "      <td>0</td>\n",
       "      <td>0</td>\n",
       "      <td>0</td>\n",
       "      <td>0</td>\n",
       "      <td>0</td>\n",
       "      <td>0</td>\n",
       "      <td>0</td>\n",
       "      <td>0</td>\n",
       "      <td>0</td>\n",
       "      <td>0</td>\n",
       "      <td>...</td>\n",
       "      <td>0</td>\n",
       "      <td>1</td>\n",
       "      <td>0</td>\n",
       "      <td>0</td>\n",
       "      <td>0</td>\n",
       "      <td>1</td>\n",
       "      <td>0</td>\n",
       "      <td>XmV2kHCnqnQf4oTJ4LCS7F02cpxnzqGIDDRGHe4dw8c=</td>\n",
       "      <td>2003</td>\n",
       "      <td>31.0</td>\n",
       "    </tr>\n",
       "    <tr>\n",
       "      <th>4</th>\n",
       "      <td>0</td>\n",
       "      <td>0</td>\n",
       "      <td>0</td>\n",
       "      <td>0</td>\n",
       "      <td>0</td>\n",
       "      <td>0</td>\n",
       "      <td>0</td>\n",
       "      <td>0</td>\n",
       "      <td>0</td>\n",
       "      <td>0</td>\n",
       "      <td>...</td>\n",
       "      <td>0</td>\n",
       "      <td>0</td>\n",
       "      <td>1</td>\n",
       "      <td>0</td>\n",
       "      <td>0</td>\n",
       "      <td>1</td>\n",
       "      <td>0</td>\n",
       "      <td>75A0yqLXt/ZZ+DY30gjRr/mJG8rDOexVswfVw1dVbt0=</td>\n",
       "      <td>1999</td>\n",
       "      <td>21.0</td>\n",
       "    </tr>\n",
       "  </tbody>\n",
       "</table>\n",
       "<p>5 rows × 28 columns</p>\n",
       "</div>"
      ],
      "text/plain": [
       "   city_3  city_4  city_5  city_6  city_7  city_8  city_9  city_10  city_11  \\\n",
       "0       0       1       0       0       0       0       0        0        0   \n",
       "1       0       0       0       0       0       0       0        0        0   \n",
       "2       0       0       0       0       0       0       0        0        0   \n",
       "3       0       0       0       0       0       0       0        0        0   \n",
       "4       0       0       0       0       0       0       0        0        0   \n",
       "\n",
       "   city_12  ...   city_21  city_22  gender_male  registered_via_4  \\\n",
       "0        0  ...         0        0            1                 0   \n",
       "1        0  ...         0        0            0                 0   \n",
       "2        0  ...         0        1            0                 0   \n",
       "3        0  ...         0        1            0                 0   \n",
       "4        0  ...         0        0            1                 0   \n",
       "\n",
       "   registered_via_7  registered_via_9  registered_via_13  \\\n",
       "0                 0                 1                  0   \n",
       "1                 1                 0                  0   \n",
       "2                 0                 1                  0   \n",
       "3                 0                 1                  0   \n",
       "4                 0                 1                  0   \n",
       "\n",
       "                                           msno  days_since_reg   age  \n",
       "0  yLkV2gbZ4GLFwqTOXLVHz0VGrMYcgBGgKZ3kj9RiYu8=            2023  30.0  \n",
       "1  OoDwiKZM+ZGr9P3fRivavgOtglTEaNfWJO4KaJcTTts=            2021   NaN  \n",
       "2  Z6WIOK9vXy+e2XDBiioNAxuZ0ScXSU/Ebq4tUwqVSrE=            2010  38.0  \n",
       "3  XmV2kHCnqnQf4oTJ4LCS7F02cpxnzqGIDDRGHe4dw8c=            2003  31.0  \n",
       "4  75A0yqLXt/ZZ+DY30gjRr/mJG8rDOexVswfVw1dVbt0=            1999  21.0  \n",
       "\n",
       "[5 rows x 28 columns]"
      ]
     },
     "execution_count": 8,
     "metadata": {},
     "output_type": "execute_result"
    }
   ],
   "source": [
    "# Convert Registration into date time object\n",
    "march_members['registration_init_time'] = pd.to_datetime(march_members.registration_init_time)\n",
    "\n",
    "# Convert columns into categorical data\n",
    "cat_list = ['city', 'gender', 'registered_via']\n",
    "for col in cat_list:\n",
    "    march_members[col] = march_members[col].astype('category')\n",
    "    \n",
    "# Converting categorical data into dummy variables\n",
    "march_cat_data = march_members[cat_list]\n",
    "march_cat_data = pd.get_dummies(march_cat_data, drop_first = True).to_sparse(fill_value=0)\n",
    "march_cat_data['msno'] = march_members.msno\n",
    "\n",
    "# Create Days since registration feature\n",
    "march_cat_data['days_since_reg'] = march_members.registration_init_time.apply(lambda x: (pd.Timestamp(2017,3,31) - x).days)\n",
    "\n",
    "# Add Age data\n",
    "march_cat_data['age'] = march_members.bd.apply(lambda x: int(x) if x in range(1,101) else None)\n",
    "\n",
    "march_cat_data.head()"
   ]
  },
  {
   "cell_type": "markdown",
   "metadata": {},
   "source": [
    "### Transactions Data"
   ]
  },
  {
   "cell_type": "markdown",
   "metadata": {},
   "source": [
    "We will only use transactions data 3 months before the month of interest. For example, for the train data, we will only consider transactions from 11/01/2016 - 01/31/2017."
   ]
  },
  {
   "cell_type": "markdown",
   "metadata": {},
   "source": [
    "New features to be created include:\n",
    "\n",
    "* dummy variables for type of payment plan (7 or 30)\n",
    "* \\# of transactions made\n",
    "* average auto renew rate\n",
    "* average actual paid\n",
    "* average discount received\n",
    "* average cancelled rate"
   ]
  },
  {
   "cell_type": "markdown",
   "metadata": {},
   "source": [
    "**Train Transactions Data**"
   ]
  },
  {
   "cell_type": "code",
   "execution_count": 9,
   "metadata": {},
   "outputs": [],
   "source": [
    "# Load data\n",
    "train_trans = pd.read_csv('./EDA_Data/transactions_modified.csv')\n",
    "\n",
    "# Convert transaction date into date time object\n",
    "train_trans['transaction_date'] = pd.to_datetime(train_trans.transaction_date)\n",
    "\n",
    "# Filter November - January\n",
    "train_trans = train_trans.loc[(train_trans.transaction_date <= '01-31-2017') & (train_trans.transaction_date >= '11-01-2016')]"
   ]
  },
  {
   "cell_type": "code",
   "execution_count": 10,
   "metadata": {},
   "outputs": [],
   "source": [
    "# Payment Plan dummies\n",
    "train_trans['payment_plan_7'] = (train_trans.payment_plan_days == 7) * 1\n",
    "train_trans['payment_plan_30'] = (train_trans.payment_plan_days == 30) * 1\n",
    "\n",
    "# Discounts Received\n",
    "train_trans['discount_received'] = train_trans.plan_list_price - train_trans.actual_amount_paid"
   ]
  },
  {
   "cell_type": "code",
   "execution_count": 11,
   "metadata": {},
   "outputs": [],
   "source": [
    "# Finding aggregrated average\n",
    "agg_train_trans = train_trans.groupby(['msno']).mean().reset_index()\n",
    "agg_train_trans = agg_train_trans.drop(['payment_method_id', 'plan_list_price', 'payment_plan_days'], axis = 1)\n",
    "\n",
    "new_col = ['msno']\n",
    "new_col.extend('avg_' + agg_train_trans.columns[1:])\n",
    "\n",
    "agg_train_trans.columns = new_col\n",
    "\n",
    "# Transactions count \n",
    "agg_train_trans['trans_count'] = train_trans.groupby(['msno']).size().reset_index()[0]"
   ]
  },
  {
   "cell_type": "code",
   "execution_count": 12,
   "metadata": {},
   "outputs": [
    {
     "data": {
      "text/html": [
       "<div>\n",
       "<style scoped>\n",
       "    .dataframe tbody tr th:only-of-type {\n",
       "        vertical-align: middle;\n",
       "    }\n",
       "\n",
       "    .dataframe tbody tr th {\n",
       "        vertical-align: top;\n",
       "    }\n",
       "\n",
       "    .dataframe thead th {\n",
       "        text-align: right;\n",
       "    }\n",
       "</style>\n",
       "<table border=\"1\" class=\"dataframe\">\n",
       "  <thead>\n",
       "    <tr style=\"text-align: right;\">\n",
       "      <th></th>\n",
       "      <th>msno</th>\n",
       "      <th>avg_actual_amount_paid</th>\n",
       "      <th>avg_is_auto_renew</th>\n",
       "      <th>avg_is_cancel</th>\n",
       "      <th>avg_payment_plan_7</th>\n",
       "      <th>avg_payment_plan_30</th>\n",
       "      <th>avg_discount_received</th>\n",
       "      <th>trans_count</th>\n",
       "    </tr>\n",
       "  </thead>\n",
       "  <tbody>\n",
       "    <tr>\n",
       "      <th>0</th>\n",
       "      <td>+++snpr7pmobhLKUgSHTv/mpkqgBT0tQJ0zQj6qKrqc=</td>\n",
       "      <td>149.0</td>\n",
       "      <td>1.0</td>\n",
       "      <td>0.0</td>\n",
       "      <td>0.0</td>\n",
       "      <td>1.0</td>\n",
       "      <td>0.0</td>\n",
       "      <td>3</td>\n",
       "    </tr>\n",
       "    <tr>\n",
       "      <th>1</th>\n",
       "      <td>++3A6JMzYJeron30GTcDostfXoAl8rTBuB2M8GeVdNU=</td>\n",
       "      <td>149.0</td>\n",
       "      <td>1.0</td>\n",
       "      <td>0.0</td>\n",
       "      <td>0.0</td>\n",
       "      <td>1.0</td>\n",
       "      <td>0.0</td>\n",
       "      <td>3</td>\n",
       "    </tr>\n",
       "    <tr>\n",
       "      <th>2</th>\n",
       "      <td>++57miEuSte1zcmehY9pZ1u9mZAqA3wX4h6CA5L17SA=</td>\n",
       "      <td>149.0</td>\n",
       "      <td>0.0</td>\n",
       "      <td>0.0</td>\n",
       "      <td>0.0</td>\n",
       "      <td>1.0</td>\n",
       "      <td>0.0</td>\n",
       "      <td>2</td>\n",
       "    </tr>\n",
       "    <tr>\n",
       "      <th>3</th>\n",
       "      <td>++BBU1qnsavj2eC5j5G6dTda9ntLhRiz+pidG73im5s=</td>\n",
       "      <td>149.0</td>\n",
       "      <td>1.0</td>\n",
       "      <td>0.0</td>\n",
       "      <td>0.0</td>\n",
       "      <td>1.0</td>\n",
       "      <td>0.0</td>\n",
       "      <td>3</td>\n",
       "    </tr>\n",
       "    <tr>\n",
       "      <th>4</th>\n",
       "      <td>++CITmZPtQDWOi01uceGb75QJblInDRhjjGM1MmsiSY=</td>\n",
       "      <td>149.0</td>\n",
       "      <td>1.0</td>\n",
       "      <td>0.0</td>\n",
       "      <td>0.0</td>\n",
       "      <td>1.0</td>\n",
       "      <td>0.0</td>\n",
       "      <td>3</td>\n",
       "    </tr>\n",
       "  </tbody>\n",
       "</table>\n",
       "</div>"
      ],
      "text/plain": [
       "                                           msno  avg_actual_amount_paid  \\\n",
       "0  +++snpr7pmobhLKUgSHTv/mpkqgBT0tQJ0zQj6qKrqc=                   149.0   \n",
       "1  ++3A6JMzYJeron30GTcDostfXoAl8rTBuB2M8GeVdNU=                   149.0   \n",
       "2  ++57miEuSte1zcmehY9pZ1u9mZAqA3wX4h6CA5L17SA=                   149.0   \n",
       "3  ++BBU1qnsavj2eC5j5G6dTda9ntLhRiz+pidG73im5s=                   149.0   \n",
       "4  ++CITmZPtQDWOi01uceGb75QJblInDRhjjGM1MmsiSY=                   149.0   \n",
       "\n",
       "   avg_is_auto_renew  avg_is_cancel  avg_payment_plan_7  avg_payment_plan_30  \\\n",
       "0                1.0            0.0                 0.0                  1.0   \n",
       "1                1.0            0.0                 0.0                  1.0   \n",
       "2                0.0            0.0                 0.0                  1.0   \n",
       "3                1.0            0.0                 0.0                  1.0   \n",
       "4                1.0            0.0                 0.0                  1.0   \n",
       "\n",
       "   avg_discount_received  trans_count  \n",
       "0                    0.0            3  \n",
       "1                    0.0            3  \n",
       "2                    0.0            2  \n",
       "3                    0.0            3  \n",
       "4                    0.0            3  "
      ]
     },
     "execution_count": 12,
     "metadata": {},
     "output_type": "execute_result"
    }
   ],
   "source": [
    "agg_train_trans.head()"
   ]
  },
  {
   "cell_type": "markdown",
   "metadata": {},
   "source": [
    "**Test Transactions Data**"
   ]
  },
  {
   "cell_type": "code",
   "execution_count": 13,
   "metadata": {},
   "outputs": [],
   "source": [
    "# Load Data\n",
    "test_trans = pd.DataFrame()\n",
    "chunksize = 100000\n",
    "for chunk in pd.read_csv('./Data2/transactions.csv', chunksize=chunksize):\n",
    "    df = chunk[chunk.msno.isin(march_churn.msno.tolist())]\n",
    "    test_trans = test_trans.append(df)\n",
    "test_trans.reset_index(drop=True, inplace=True)"
   ]
  },
  {
   "cell_type": "code",
   "execution_count": 14,
   "metadata": {},
   "outputs": [],
   "source": [
    "# Convert transaction date into date time object\n",
    "test_trans['transaction_date'] = test_trans.transaction_date.apply(lambda x: pd.to_datetime(datetime.strptime(str(x), \"%Y%m%d\").date() if pd.notnull(x) else None))\n",
    "\n",
    "# Filter December - February\n",
    "test_trans = test_trans.loc[(test_trans.transaction_date <= '02-28-2017') & (test_trans.transaction_date >= '12-01-2016')]"
   ]
  },
  {
   "cell_type": "code",
   "execution_count": 15,
   "metadata": {},
   "outputs": [],
   "source": [
    "# Payment Plan dummies\n",
    "test_trans['payment_plan_7'] = (test_trans.payment_plan_days == 7) * 1\n",
    "test_trans['payment_plan_30'] = (test_trans.payment_plan_days == 30) * 1\n",
    "\n",
    "# Discounts Received\n",
    "test_trans['discount_received'] = test_trans.plan_list_price - test_trans.actual_amount_paid\n",
    "\n",
    "# Finding aggregrated average\n",
    "agg_test_trans = test_trans.groupby(['msno']).mean().reset_index()\n",
    "agg_test_trans = agg_test_trans.drop(['payment_method_id', 'plan_list_price', 'payment_plan_days', 'membership_expire_date'], axis = 1)\n",
    "\n",
    "new_col = ['msno']\n",
    "new_col.extend('avg_' + agg_test_trans.columns[1:])\n",
    "\n",
    "agg_test_trans.columns = new_col\n",
    "\n",
    "# Transactions count \n",
    "agg_test_trans['trans_count'] = test_trans.groupby(['msno']).size().reset_index()[0]"
   ]
  },
  {
   "cell_type": "code",
   "execution_count": 16,
   "metadata": {},
   "outputs": [
    {
     "data": {
      "text/html": [
       "<div>\n",
       "<style scoped>\n",
       "    .dataframe tbody tr th:only-of-type {\n",
       "        vertical-align: middle;\n",
       "    }\n",
       "\n",
       "    .dataframe tbody tr th {\n",
       "        vertical-align: top;\n",
       "    }\n",
       "\n",
       "    .dataframe thead th {\n",
       "        text-align: right;\n",
       "    }\n",
       "</style>\n",
       "<table border=\"1\" class=\"dataframe\">\n",
       "  <thead>\n",
       "    <tr style=\"text-align: right;\">\n",
       "      <th></th>\n",
       "      <th>msno</th>\n",
       "      <th>avg_actual_amount_paid</th>\n",
       "      <th>avg_is_auto_renew</th>\n",
       "      <th>avg_is_cancel</th>\n",
       "      <th>avg_payment_plan_7</th>\n",
       "      <th>avg_payment_plan_30</th>\n",
       "      <th>avg_discount_received</th>\n",
       "      <th>trans_count</th>\n",
       "    </tr>\n",
       "  </thead>\n",
       "  <tbody>\n",
       "    <tr>\n",
       "      <th>0</th>\n",
       "      <td>+++hVY1rZox/33YtvDgmKA2Frg/2qhkz12B9ylCvh8o=</td>\n",
       "      <td>99.0</td>\n",
       "      <td>1.0</td>\n",
       "      <td>0.0</td>\n",
       "      <td>0.0</td>\n",
       "      <td>1.0</td>\n",
       "      <td>0.0</td>\n",
       "      <td>3</td>\n",
       "    </tr>\n",
       "    <tr>\n",
       "      <th>1</th>\n",
       "      <td>++/UDNo9DLrxT8QVGiDi1OnWfczAdEwThaVyD0fXO50=</td>\n",
       "      <td>149.0</td>\n",
       "      <td>1.0</td>\n",
       "      <td>0.0</td>\n",
       "      <td>0.0</td>\n",
       "      <td>1.0</td>\n",
       "      <td>0.0</td>\n",
       "      <td>2</td>\n",
       "    </tr>\n",
       "    <tr>\n",
       "      <th>2</th>\n",
       "      <td>++1GCIyXZO7834NjDKmcK1lBVLQi9PsN6sOC7wfW+8g=</td>\n",
       "      <td>99.0</td>\n",
       "      <td>1.0</td>\n",
       "      <td>0.0</td>\n",
       "      <td>0.0</td>\n",
       "      <td>1.0</td>\n",
       "      <td>0.0</td>\n",
       "      <td>3</td>\n",
       "    </tr>\n",
       "    <tr>\n",
       "      <th>3</th>\n",
       "      <td>++2Ju1OdxLSyexwhZ/C0glNK0DMIfUjsFpk9lt8Dll8=</td>\n",
       "      <td>99.0</td>\n",
       "      <td>1.0</td>\n",
       "      <td>0.0</td>\n",
       "      <td>0.0</td>\n",
       "      <td>1.0</td>\n",
       "      <td>0.0</td>\n",
       "      <td>3</td>\n",
       "    </tr>\n",
       "    <tr>\n",
       "      <th>4</th>\n",
       "      <td>++3Z+W8OPnpbHYfrKwqRKN1bF83XEbxjdYUolhGdHZg=</td>\n",
       "      <td>149.0</td>\n",
       "      <td>1.0</td>\n",
       "      <td>0.0</td>\n",
       "      <td>0.0</td>\n",
       "      <td>1.0</td>\n",
       "      <td>0.0</td>\n",
       "      <td>3</td>\n",
       "    </tr>\n",
       "  </tbody>\n",
       "</table>\n",
       "</div>"
      ],
      "text/plain": [
       "                                           msno  avg_actual_amount_paid  \\\n",
       "0  +++hVY1rZox/33YtvDgmKA2Frg/2qhkz12B9ylCvh8o=                    99.0   \n",
       "1  ++/UDNo9DLrxT8QVGiDi1OnWfczAdEwThaVyD0fXO50=                   149.0   \n",
       "2  ++1GCIyXZO7834NjDKmcK1lBVLQi9PsN6sOC7wfW+8g=                    99.0   \n",
       "3  ++2Ju1OdxLSyexwhZ/C0glNK0DMIfUjsFpk9lt8Dll8=                    99.0   \n",
       "4  ++3Z+W8OPnpbHYfrKwqRKN1bF83XEbxjdYUolhGdHZg=                   149.0   \n",
       "\n",
       "   avg_is_auto_renew  avg_is_cancel  avg_payment_plan_7  avg_payment_plan_30  \\\n",
       "0                1.0            0.0                 0.0                  1.0   \n",
       "1                1.0            0.0                 0.0                  1.0   \n",
       "2                1.0            0.0                 0.0                  1.0   \n",
       "3                1.0            0.0                 0.0                  1.0   \n",
       "4                1.0            0.0                 0.0                  1.0   \n",
       "\n",
       "   avg_discount_received  trans_count  \n",
       "0                    0.0            3  \n",
       "1                    0.0            2  \n",
       "2                    0.0            3  \n",
       "3                    0.0            3  \n",
       "4                    0.0            3  "
      ]
     },
     "execution_count": 16,
     "metadata": {},
     "output_type": "execute_result"
    }
   ],
   "source": [
    "agg_test_trans.head()"
   ]
  },
  {
   "cell_type": "markdown",
   "metadata": {},
   "source": [
    "### User Log Data\n",
    "\n",
    "We will look at user behavior the month before month of interest. Therefore, for February churn data, we will look at the activity log for January.\n",
    "\n",
    "New features to be created include:\n",
    "* Days since last log in \n",
    "* activity logged for month\n",
    "* mean number of songs per month according to % of song listened\n",
    "* mean rate of songs\n",
    "* total seconds for month\n",
    "* mean unique songs listened per session"
   ]
  },
  {
   "cell_type": "markdown",
   "metadata": {},
   "source": [
    "**Train User Log Data**"
   ]
  },
  {
   "cell_type": "code",
   "execution_count": 17,
   "metadata": {},
   "outputs": [],
   "source": [
    "# Load data\n",
    "train_user_logs = pd.read_csv('./EDA_Data/user_logs_modified.csv')\n",
    "\n",
    "# Convert transaction date into date time object\n",
    "train_user_logs['date'] = pd.to_datetime(train_user_logs.date)\n",
    "\n",
    "# Filter January\n",
    "train_user_logs = train_user_logs.loc[(train_user_logs.date <= '01-31-2017') & (train_user_logs.date >= '01-01-2017')]"
   ]
  },
  {
   "cell_type": "code",
   "execution_count": 19,
   "metadata": {},
   "outputs": [],
   "source": [
    "# Days since last log-in\n",
    "last_login = train_user_logs.sort_values(by='date', ascending=False)\n",
    "last_login.drop_duplicates(subset = ['msno'], keep='first', inplace = True)\n",
    "last_login['days_since_login'] = last_login.date.apply(lambda x: (pd.Timestamp(2017,1,31) - x).days)\n",
    "last_login = last_login[['msno', 'days_since_login']]"
   ]
  },
  {
   "cell_type": "code",
   "execution_count": 20,
   "metadata": {},
   "outputs": [],
   "source": [
    "# Rate of songs\n",
    "num_list = ['num_25', 'num_50', 'num_75', 'num_985', 'num_100']\n",
    "\n",
    "for num in num_list:\n",
    "    colname = 'rate_' + num\n",
    "    train_user_logs[colname] = train_user_logs[num] / train_user_logs[num_list].sum(axis=1)"
   ]
  },
  {
   "cell_type": "code",
   "execution_count": 21,
   "metadata": {},
   "outputs": [],
   "source": [
    "# Average aggregates\n",
    "agg_train_user_logs = train_user_logs.groupby(['msno']).mean().reset_index()\n",
    "agg_train_user_logs = agg_train_user_logs.drop(['total_secs'], axis=1)\n",
    "new_col = ['msno']\n",
    "new_col.extend('avg_' + agg_train_user_logs.columns[1:])\n",
    "\n",
    "agg_train_user_logs.columns = new_col\n",
    "\n",
    "# Total Seconds Listened\n",
    "agg_train_user_logs['total_secs'] = train_user_logs[['msno', 'total_secs']].groupby(['msno']).sum().reset_index()['total_secs']\n",
    "\n",
    "# Log count\n",
    "agg_train_user_logs['log_count'] = train_user_logs.groupby(['msno']).size().reset_index()[0]\n",
    "\n",
    "# Merge with last login\n",
    "agg_train_user_logs = pd.merge(left=agg_train_user_logs, right = last_login, on=['msno'])"
   ]
  },
  {
   "cell_type": "code",
   "execution_count": 213,
   "metadata": {},
   "outputs": [
    {
     "data": {
      "text/html": [
       "<div>\n",
       "<style scoped>\n",
       "    .dataframe tbody tr th:only-of-type {\n",
       "        vertical-align: middle;\n",
       "    }\n",
       "\n",
       "    .dataframe tbody tr th {\n",
       "        vertical-align: top;\n",
       "    }\n",
       "\n",
       "    .dataframe thead th {\n",
       "        text-align: right;\n",
       "    }\n",
       "</style>\n",
       "<table border=\"1\" class=\"dataframe\">\n",
       "  <thead>\n",
       "    <tr style=\"text-align: right;\">\n",
       "      <th></th>\n",
       "      <th>msno</th>\n",
       "      <th>avg_num_25</th>\n",
       "      <th>avg_num_50</th>\n",
       "      <th>avg_num_75</th>\n",
       "      <th>avg_num_985</th>\n",
       "      <th>avg_num_100</th>\n",
       "      <th>avg_num_unq</th>\n",
       "      <th>avg_rate_num_25</th>\n",
       "      <th>avg_rate_num_50</th>\n",
       "      <th>avg_rate_num_75</th>\n",
       "      <th>avg_rate_num_985</th>\n",
       "      <th>avg_rate_num_100</th>\n",
       "      <th>total_secs</th>\n",
       "      <th>log_count</th>\n",
       "      <th>days_since_login</th>\n",
       "    </tr>\n",
       "  </thead>\n",
       "  <tbody>\n",
       "    <tr>\n",
       "      <th>0</th>\n",
       "      <td>+++snpr7pmobhLKUgSHTv/mpkqgBT0tQJ0zQj6qKrqc=</td>\n",
       "      <td>13.538462</td>\n",
       "      <td>6.384615</td>\n",
       "      <td>3.461538</td>\n",
       "      <td>2.846154</td>\n",
       "      <td>28.153846</td>\n",
       "      <td>47.384615</td>\n",
       "      <td>0.192707</td>\n",
       "      <td>0.090342</td>\n",
       "      <td>0.050522</td>\n",
       "      <td>0.058059</td>\n",
       "      <td>0.608369</td>\n",
       "      <td>114372.977</td>\n",
       "      <td>13</td>\n",
       "      <td>18</td>\n",
       "    </tr>\n",
       "    <tr>\n",
       "      <th>1</th>\n",
       "      <td>++3A6JMzYJeron30GTcDostfXoAl8rTBuB2M8GeVdNU=</td>\n",
       "      <td>2.769231</td>\n",
       "      <td>1.307692</td>\n",
       "      <td>0.538462</td>\n",
       "      <td>0.230769</td>\n",
       "      <td>19.538462</td>\n",
       "      <td>21.384615</td>\n",
       "      <td>0.101807</td>\n",
       "      <td>0.028927</td>\n",
       "      <td>0.015999</td>\n",
       "      <td>0.007223</td>\n",
       "      <td>0.846044</td>\n",
       "      <td>62019.975</td>\n",
       "      <td>13</td>\n",
       "      <td>3</td>\n",
       "    </tr>\n",
       "    <tr>\n",
       "      <th>2</th>\n",
       "      <td>++BBU1qnsavj2eC5j5G6dTda9ntLhRiz+pidG73im5s=</td>\n",
       "      <td>10.000000</td>\n",
       "      <td>4.000000</td>\n",
       "      <td>2.250000</td>\n",
       "      <td>1.500000</td>\n",
       "      <td>150.500000</td>\n",
       "      <td>108.500000</td>\n",
       "      <td>0.061138</td>\n",
       "      <td>0.025993</td>\n",
       "      <td>0.013027</td>\n",
       "      <td>0.008687</td>\n",
       "      <td>0.891155</td>\n",
       "      <td>142027.073</td>\n",
       "      <td>4</td>\n",
       "      <td>0</td>\n",
       "    </tr>\n",
       "    <tr>\n",
       "      <th>3</th>\n",
       "      <td>++DcyRE+ZfLtlKGigvv9dv5EQ4KAhHhiN9LM9X+F1vw=</td>\n",
       "      <td>4.000000</td>\n",
       "      <td>2.000000</td>\n",
       "      <td>1.000000</td>\n",
       "      <td>1.000000</td>\n",
       "      <td>31.000000</td>\n",
       "      <td>32.000000</td>\n",
       "      <td>0.102564</td>\n",
       "      <td>0.051282</td>\n",
       "      <td>0.025641</td>\n",
       "      <td>0.025641</td>\n",
       "      <td>0.794872</td>\n",
       "      <td>8437.787</td>\n",
       "      <td>1</td>\n",
       "      <td>29</td>\n",
       "    </tr>\n",
       "    <tr>\n",
       "      <th>4</th>\n",
       "      <td>++N9C3T2DFC2uRZ9LYOJW0KSq1sG++54neJYETDmkkI=</td>\n",
       "      <td>21.250000</td>\n",
       "      <td>4.000000</td>\n",
       "      <td>2.000000</td>\n",
       "      <td>2.750000</td>\n",
       "      <td>39.000000</td>\n",
       "      <td>41.500000</td>\n",
       "      <td>0.297542</td>\n",
       "      <td>0.070592</td>\n",
       "      <td>0.042423</td>\n",
       "      <td>0.043075</td>\n",
       "      <td>0.546368</td>\n",
       "      <td>43269.788</td>\n",
       "      <td>4</td>\n",
       "      <td>0</td>\n",
       "    </tr>\n",
       "  </tbody>\n",
       "</table>\n",
       "</div>"
      ],
      "text/plain": [
       "                                           msno  avg_num_25  avg_num_50  \\\n",
       "0  +++snpr7pmobhLKUgSHTv/mpkqgBT0tQJ0zQj6qKrqc=   13.538462    6.384615   \n",
       "1  ++3A6JMzYJeron30GTcDostfXoAl8rTBuB2M8GeVdNU=    2.769231    1.307692   \n",
       "2  ++BBU1qnsavj2eC5j5G6dTda9ntLhRiz+pidG73im5s=   10.000000    4.000000   \n",
       "3  ++DcyRE+ZfLtlKGigvv9dv5EQ4KAhHhiN9LM9X+F1vw=    4.000000    2.000000   \n",
       "4  ++N9C3T2DFC2uRZ9LYOJW0KSq1sG++54neJYETDmkkI=   21.250000    4.000000   \n",
       "\n",
       "   avg_num_75  avg_num_985  avg_num_100  avg_num_unq  avg_rate_num_25  \\\n",
       "0    3.461538     2.846154    28.153846    47.384615         0.192707   \n",
       "1    0.538462     0.230769    19.538462    21.384615         0.101807   \n",
       "2    2.250000     1.500000   150.500000   108.500000         0.061138   \n",
       "3    1.000000     1.000000    31.000000    32.000000         0.102564   \n",
       "4    2.000000     2.750000    39.000000    41.500000         0.297542   \n",
       "\n",
       "   avg_rate_num_50  avg_rate_num_75  avg_rate_num_985  avg_rate_num_100  \\\n",
       "0         0.090342         0.050522          0.058059          0.608369   \n",
       "1         0.028927         0.015999          0.007223          0.846044   \n",
       "2         0.025993         0.013027          0.008687          0.891155   \n",
       "3         0.051282         0.025641          0.025641          0.794872   \n",
       "4         0.070592         0.042423          0.043075          0.546368   \n",
       "\n",
       "   total_secs  log_count  days_since_login  \n",
       "0  114372.977         13                18  \n",
       "1   62019.975         13                 3  \n",
       "2  142027.073          4                 0  \n",
       "3    8437.787          1                29  \n",
       "4   43269.788          4                 0  "
      ]
     },
     "execution_count": 213,
     "metadata": {},
     "output_type": "execute_result"
    }
   ],
   "source": [
    "agg_train_user_logs.head()"
   ]
  },
  {
   "cell_type": "markdown",
   "metadata": {},
   "source": [
    "**Test User Log Data**"
   ]
  },
  {
   "cell_type": "code",
   "execution_count": 27,
   "metadata": {},
   "outputs": [],
   "source": [
    "# Load Data\n",
    "test_user_logs = pd.DataFrame()\n",
    "chunksize = 100000\n",
    "for chunk in pd.read_csv('./Data2/user_logs.csv', chunksize=chunksize):\n",
    "    df = chunk[(chunk.msno.isin(march_churn.msno.tolist())) & (chunk.date >= 20170201)]\n",
    "    test_user_logs = test_user_logs.append(df)\n",
    "test_user_logs.reset_index(drop=True, inplace=True)\n",
    "\n",
    "test_user_logs.date = test_user_logs.date.apply(lambda x: pd.to_datetime(datetime.strptime(str(int(x)), \"%Y%m%d\").date() if pd.notnull(x) else None))"
   ]
  },
  {
   "cell_type": "code",
   "execution_count": 28,
   "metadata": {},
   "outputs": [],
   "source": [
    "# Days since last log-in\n",
    "last_login = test_user_logs.sort_values(by='date', ascending=False)\n",
    "last_login.drop_duplicates(subset = ['msno'], keep='first', inplace = True)\n",
    "last_login['days_since_login'] = last_login.date.apply(lambda x: (pd.Timestamp(2017,2,28) - x).days)\n",
    "last_login = last_login[['msno', 'days_since_login']]\n",
    "\n",
    "# Rate of songs\n",
    "num_list = ['num_25', 'num_50', 'num_75', 'num_985', 'num_100']\n",
    "\n",
    "for num in num_list:\n",
    "    colname = 'rate_' + num\n",
    "    test_user_logs[colname] = test_user_logs[num] / test_user_logs[num_list].sum(axis=1)"
   ]
  },
  {
   "cell_type": "code",
   "execution_count": 29,
   "metadata": {},
   "outputs": [],
   "source": [
    "# Average aggregates\n",
    "agg_test_user_logs = test_user_logs.groupby(['msno']).mean().reset_index()\n",
    "agg_test_user_logs = agg_test_user_logs.drop(['total_secs'], axis=1)\n",
    "new_col = ['msno']\n",
    "new_col.extend('avg_' + agg_test_user_logs.columns[1:])\n",
    "\n",
    "agg_test_user_logs.columns = new_col\n",
    "\n",
    "# Total Seconds Listened\n",
    "agg_test_user_logs['total_secs'] = test_user_logs[['msno', 'total_secs']].groupby(['msno']).sum().reset_index()['total_secs']\n",
    "\n",
    "# Log count\n",
    "agg_test_user_logs['log_count'] = test_user_logs.groupby(['msno']).size().reset_index()[0]\n",
    "\n",
    "# Merge with last login\n",
    "agg_test_user_logs = pd.merge(left=agg_test_user_logs, right = last_login, on=['msno'])"
   ]
  },
  {
   "cell_type": "code",
   "execution_count": 229,
   "metadata": {},
   "outputs": [
    {
     "data": {
      "text/html": [
       "<div>\n",
       "<style scoped>\n",
       "    .dataframe tbody tr th:only-of-type {\n",
       "        vertical-align: middle;\n",
       "    }\n",
       "\n",
       "    .dataframe tbody tr th {\n",
       "        vertical-align: top;\n",
       "    }\n",
       "\n",
       "    .dataframe thead th {\n",
       "        text-align: right;\n",
       "    }\n",
       "</style>\n",
       "<table border=\"1\" class=\"dataframe\">\n",
       "  <thead>\n",
       "    <tr style=\"text-align: right;\">\n",
       "      <th></th>\n",
       "      <th>msno</th>\n",
       "      <th>avg_num_25</th>\n",
       "      <th>avg_num_50</th>\n",
       "      <th>avg_num_75</th>\n",
       "      <th>avg_num_985</th>\n",
       "      <th>avg_num_100</th>\n",
       "      <th>avg_num_unq</th>\n",
       "      <th>avg_rate_num_25</th>\n",
       "      <th>avg_rate_num_50</th>\n",
       "      <th>avg_rate_num_75</th>\n",
       "      <th>avg_rate_num_985</th>\n",
       "      <th>avg_rate_num_100</th>\n",
       "      <th>total_secs</th>\n",
       "      <th>log_count</th>\n",
       "      <th>days_since_login</th>\n",
       "    </tr>\n",
       "  </thead>\n",
       "  <tbody>\n",
       "    <tr>\n",
       "      <th>0</th>\n",
       "      <td>+++hVY1rZox/33YtvDgmKA2Frg/2qhkz12B9ylCvh8o=</td>\n",
       "      <td>3.750000</td>\n",
       "      <td>1.750000</td>\n",
       "      <td>2.000000</td>\n",
       "      <td>2.750000</td>\n",
       "      <td>8.250000</td>\n",
       "      <td>15.750000</td>\n",
       "      <td>0.177454</td>\n",
       "      <td>0.096097</td>\n",
       "      <td>0.137764</td>\n",
       "      <td>0.113060</td>\n",
       "      <td>0.475626</td>\n",
       "      <td>12555.289</td>\n",
       "      <td>4</td>\n",
       "      <td>23</td>\n",
       "    </tr>\n",
       "    <tr>\n",
       "      <th>1</th>\n",
       "      <td>++3Z+W8OPnpbHYfrKwqRKN1bF83XEbxjdYUolhGdHZg=</td>\n",
       "      <td>23.000000</td>\n",
       "      <td>15.000000</td>\n",
       "      <td>5.000000</td>\n",
       "      <td>3.000000</td>\n",
       "      <td>16.000000</td>\n",
       "      <td>54.000000</td>\n",
       "      <td>0.370968</td>\n",
       "      <td>0.241935</td>\n",
       "      <td>0.080645</td>\n",
       "      <td>0.048387</td>\n",
       "      <td>0.258065</td>\n",
       "      <td>7436.634</td>\n",
       "      <td>1</td>\n",
       "      <td>1</td>\n",
       "    </tr>\n",
       "    <tr>\n",
       "      <th>2</th>\n",
       "      <td>++3wqX72HmowxFh5MrHvNi5Ce8D3ldo4zaUL932TYbs=</td>\n",
       "      <td>15.500000</td>\n",
       "      <td>3.916667</td>\n",
       "      <td>1.500000</td>\n",
       "      <td>1.333333</td>\n",
       "      <td>2.666667</td>\n",
       "      <td>21.750000</td>\n",
       "      <td>0.538051</td>\n",
       "      <td>0.178647</td>\n",
       "      <td>0.056028</td>\n",
       "      <td>0.053441</td>\n",
       "      <td>0.173833</td>\n",
       "      <td>19650.887</td>\n",
       "      <td>12</td>\n",
       "      <td>5</td>\n",
       "    </tr>\n",
       "    <tr>\n",
       "      <th>3</th>\n",
       "      <td>++95tJZADNg8U8HKbYdxbbXIRsO6pw1zBK4tHI7BtZo=</td>\n",
       "      <td>0.250000</td>\n",
       "      <td>0.250000</td>\n",
       "      <td>0.000000</td>\n",
       "      <td>0.500000</td>\n",
       "      <td>6.250000</td>\n",
       "      <td>6.500000</td>\n",
       "      <td>0.025000</td>\n",
       "      <td>0.025000</td>\n",
       "      <td>0.000000</td>\n",
       "      <td>0.093750</td>\n",
       "      <td>0.856250</td>\n",
       "      <td>7307.666</td>\n",
       "      <td>4</td>\n",
       "      <td>0</td>\n",
       "    </tr>\n",
       "    <tr>\n",
       "      <th>4</th>\n",
       "      <td>++FM6zdGj2whewSf10HHTRTeg2/jnxq3NQJKeYmAKwY=</td>\n",
       "      <td>8.294118</td>\n",
       "      <td>2.176471</td>\n",
       "      <td>1.294118</td>\n",
       "      <td>1.882353</td>\n",
       "      <td>26.411765</td>\n",
       "      <td>30.705882</td>\n",
       "      <td>0.211964</td>\n",
       "      <td>0.047110</td>\n",
       "      <td>0.030209</td>\n",
       "      <td>0.066705</td>\n",
       "      <td>0.644013</td>\n",
       "      <td>107729.972</td>\n",
       "      <td>17</td>\n",
       "      <td>8</td>\n",
       "    </tr>\n",
       "  </tbody>\n",
       "</table>\n",
       "</div>"
      ],
      "text/plain": [
       "                                           msno  avg_num_25  avg_num_50  \\\n",
       "0  +++hVY1rZox/33YtvDgmKA2Frg/2qhkz12B9ylCvh8o=    3.750000    1.750000   \n",
       "1  ++3Z+W8OPnpbHYfrKwqRKN1bF83XEbxjdYUolhGdHZg=   23.000000   15.000000   \n",
       "2  ++3wqX72HmowxFh5MrHvNi5Ce8D3ldo4zaUL932TYbs=   15.500000    3.916667   \n",
       "3  ++95tJZADNg8U8HKbYdxbbXIRsO6pw1zBK4tHI7BtZo=    0.250000    0.250000   \n",
       "4  ++FM6zdGj2whewSf10HHTRTeg2/jnxq3NQJKeYmAKwY=    8.294118    2.176471   \n",
       "\n",
       "   avg_num_75  avg_num_985  avg_num_100  avg_num_unq  avg_rate_num_25  \\\n",
       "0    2.000000     2.750000     8.250000    15.750000         0.177454   \n",
       "1    5.000000     3.000000    16.000000    54.000000         0.370968   \n",
       "2    1.500000     1.333333     2.666667    21.750000         0.538051   \n",
       "3    0.000000     0.500000     6.250000     6.500000         0.025000   \n",
       "4    1.294118     1.882353    26.411765    30.705882         0.211964   \n",
       "\n",
       "   avg_rate_num_50  avg_rate_num_75  avg_rate_num_985  avg_rate_num_100  \\\n",
       "0         0.096097         0.137764          0.113060          0.475626   \n",
       "1         0.241935         0.080645          0.048387          0.258065   \n",
       "2         0.178647         0.056028          0.053441          0.173833   \n",
       "3         0.025000         0.000000          0.093750          0.856250   \n",
       "4         0.047110         0.030209          0.066705          0.644013   \n",
       "\n",
       "   total_secs  log_count  days_since_login  \n",
       "0   12555.289          4                23  \n",
       "1    7436.634          1                 1  \n",
       "2   19650.887         12                 5  \n",
       "3    7307.666          4                 0  \n",
       "4  107729.972         17                 8  "
      ]
     },
     "execution_count": 229,
     "metadata": {},
     "output_type": "execute_result"
    }
   ],
   "source": [
    "agg_test_user_logs.head()"
   ]
  },
  {
   "cell_type": "markdown",
   "metadata": {},
   "source": [
    "## Data Preprocessing"
   ]
  },
  {
   "cell_type": "markdown",
   "metadata": {},
   "source": [
    "**Train Data**"
   ]
  },
  {
   "cell_type": "code",
   "execution_count": 31,
   "metadata": {},
   "outputs": [],
   "source": [
    "# Merge all variables together\n",
    "feb_df = pd.merge(left=feb_churn, right = feb_cat_data, on = 'msno', how = 'right')\n",
    "feb_df = pd.merge(left=feb_df, right = agg_train_trans, on = 'msno', how = 'left')\n",
    "feb_df = pd.merge(left=feb_df, right = agg_train_user_logs, on = 'msno', how = 'left')\n",
    "\n",
    "# Fill in missing variables\n",
    "feb_df['trans_count'].fillna(0, inplace=True)\n",
    "feb_df['avg_payment_plan_30'].fillna(1, inplace=True)\n",
    "\n",
    "from sklearn.preprocessing import Imputer\n",
    "imputer = Imputer(missing_values = 'NaN', strategy = 'mean', axis = 0)\n",
    "imputer = imputer.fit(feb_df.iloc[:, 28:35])\n",
    "feb_df.iloc[:, 28:35] = imputer.transform(feb_df.iloc[:, 28:35])\n",
    "\n",
    "feb_df['log_count'].fillna(0, inplace=True)\n",
    "feb_df['days_since_login'].fillna(31, inplace=True)\n",
    "\n",
    "imputer = Imputer(missing_values = 'NaN', strategy = 'mean', axis = 0)\n",
    "imputer = imputer.fit(feb_df.iloc[:, 36:48])\n",
    "feb_df.iloc[:, 36:48] = imputer.transform(feb_df.iloc[:, 36:48])"
   ]
  },
  {
   "cell_type": "code",
   "execution_count": 32,
   "metadata": {},
   "outputs": [],
   "source": [
    "y_feb = feb_df.iloc[:,1]\n",
    "X_feb = feb_df.iloc[:,2:]"
   ]
  },
  {
   "cell_type": "markdown",
   "metadata": {},
   "source": [
    "**Test Data**"
   ]
  },
  {
   "cell_type": "code",
   "execution_count": 33,
   "metadata": {},
   "outputs": [],
   "source": [
    "# Merge all variables together\n",
    "march_df = pd.merge(left=march_churn, right = march_cat_data, on = 'msno', how = 'right')\n",
    "march_df = pd.merge(left=march_df, right = agg_test_trans, on = 'msno', how = 'left')\n",
    "march_df = pd.merge(left=march_df, right = agg_test_user_logs, on = 'msno', how = 'left')\n",
    "\n",
    "# Fill in missing variables\n",
    "march_df['trans_count'].fillna(0, inplace=True)\n",
    "march_df['avg_payment_plan_30'].fillna(1, inplace=True)\n",
    "\n",
    "imputer = Imputer(missing_values = 'NaN', strategy = 'mean', axis = 0)\n",
    "imputer = imputer.fit(march_df.iloc[:, 28:35])\n",
    "march_df.iloc[:, 28:35] = imputer.transform(march_df.iloc[:, 28:35])\n",
    "\n",
    "march_df['log_count'].fillna(0, inplace=True)\n",
    "march_df['days_since_login'].fillna(31, inplace=True)\n",
    "\n",
    "imputer = Imputer(missing_values = 'NaN', strategy = 'mean', axis = 0)\n",
    "imputer = imputer.fit(march_df.iloc[:, 36:48])\n",
    "march_df.iloc[:, 36:48] = imputer.transform(march_df.iloc[:, 36:48])"
   ]
  },
  {
   "cell_type": "code",
   "execution_count": 34,
   "metadata": {},
   "outputs": [],
   "source": [
    "y_march = march_df.iloc[:,1]\n",
    "X_march = march_df.iloc[:,2:]"
   ]
  },
  {
   "cell_type": "markdown",
   "metadata": {},
   "source": [
    "## Classification Model"
   ]
  },
  {
   "cell_type": "markdown",
   "metadata": {},
   "source": [
    "We use different classification model to see which default estimator works most effectively without tuning. We will then perform hyperparameter tuning on the most effective model. The metric used is the mean log loss for accuracy over 5-fold cross-validation because we want to be confident with our labels, not just accurate.\n",
    "\n",
    "The training will be done on 80% of the data. The remaining 20% will be our hold-out set that will be left untouched until the final model has been selected and tuned. Since the range of values of the X features varies widely, we will normalize the data before training the model."
   ]
  },
  {
   "cell_type": "code",
   "execution_count": 35,
   "metadata": {},
   "outputs": [],
   "source": [
    "# Load libraries\n",
    "\n",
    "from sklearn.linear_model import LogisticRegression\n",
    "from sklearn.ensemble import RandomForestClassifier\n",
    "from xgboost import XGBClassifier\n",
    "\n",
    "from sklearn.preprocessing import StandardScaler\n",
    "\n",
    "from sklearn.pipeline import Pipeline\n",
    "\n",
    "from sklearn.model_selection import train_test_split\n",
    "from sklearn.model_selection import cross_val_score\n",
    "from sklearn.model_selection import GridSearchCV\n",
    "\n",
    "from sklearn.metrics import roc_curve\n",
    "from sklearn.metrics import log_loss\n",
    "import matplotlib.pyplot as plt"
   ]
  },
  {
   "cell_type": "markdown",
   "metadata": {},
   "source": [
    "#### Logistic Regression"
   ]
  },
  {
   "cell_type": "code",
   "execution_count": 37,
   "metadata": {},
   "outputs": [
    {
     "name": "stdout",
     "output_type": "stream",
     "text": [
      "Logistic Regression Cross-Validation Scores:\n",
      "0.46\n",
      "0.47\n",
      "0.46\n",
      "0.46\n",
      "0.47\n",
      "Average Score on 5-Folds: 0.46\n"
     ]
    }
   ],
   "source": [
    "# Build Model\n",
    "from sklearn.model_selection import cross_val_score\n",
    "clf = LogisticRegression()\n",
    "steps = [('scaler', StandardScaler()),\n",
    "         ('logreg', clf)]\n",
    "pipeline = Pipeline(steps)\n",
    "\n",
    "pipeline.fit(X_feb, y_feb)\n",
    "\n",
    "cross_val_scores= cross_val_score(pipeline, X_feb, y_feb, cv=5, scoring='neg_log_loss')\n",
    "scores = {}\n",
    "scores[\"Logistic Regression\"] = np.mean(cross_val_scores) * -1\n",
    "\n",
    "print(\"Logistic Regression Cross-Validation Scores:\")\n",
    "for score in (cross_val_scores * -1):\n",
    "    print(f'{round(score,2)}')\n",
    "print(f\"Average Score on 5-Folds: {(round(scores['Logistic Regression'],2))}\")"
   ]
  },
  {
   "cell_type": "code",
   "execution_count": 39,
   "metadata": {},
   "outputs": [
    {
     "data": {
      "image/png": "[encoded data removed]",
      "text/plain": [
       "<Figure size 432x288 with 1 Axes>"
      ]
     },
     "metadata": {
      "needs_background": "light"
     },
     "output_type": "display_data"
    }
   ],
   "source": [
    "# Compute predicted probabilities: y_pred_prob\n",
    "y_pred_prob = pipeline.predict_proba(X_feb)[:,1]\n",
    "\n",
    "# Generate ROC curve values: fpr, tpr, thresholds\n",
    "fpr, tpr, thresholds = roc_curve(y_feb, y_pred_prob)\n",
    "\n",
    "# Plot ROC curve\n",
    "plt.plot([0, 1], [0, 1], 'k--')\n",
    "plt.plot(fpr, tpr)\n",
    "plt.xlabel('False Positive Rate')\n",
    "plt.ylabel('True Positive Rate')\n",
    "plt.title(f'ROC Curve: Logistic Regression (Accuracy Score: {round(pipeline.score(X_feb, y_feb),3)})')\n",
    "plt.show()"
   ]
  },
  {
   "cell_type": "code",
   "execution_count": 40,
   "metadata": {},
   "outputs": [
    {
     "data": {
      "text/plain": [
       "0.8133021039454024"
      ]
     },
     "execution_count": 40,
     "metadata": {},
     "output_type": "execute_result"
    }
   ],
   "source": [
    "pipeline.score(X_feb, y_feb)"
   ]
  },
  {
   "cell_type": "markdown",
   "metadata": {},
   "source": [
    "#### Random Forest"
   ]
  },
  {
   "cell_type": "code",
   "execution_count": 41,
   "metadata": {},
   "outputs": [
    {
     "name": "stdout",
     "output_type": "stream",
     "text": [
      "Random Forest Cross-Validation Scores:\n",
      "1.4\n",
      "1.48\n",
      "1.39\n",
      "1.46\n",
      "1.45\n",
      "Average Score on 5-Folds: 1.44\n"
     ]
    }
   ],
   "source": [
    "# Build Model\n",
    "clf = RandomForestClassifier(random_state=42)\n",
    "steps = [('scaler', StandardScaler()),\n",
    "         ('RandomForest', clf)]\n",
    "pipeline = Pipeline(steps)\n",
    "\n",
    "#parameters = {'Classifier__n_estimators': [500,1000,100]}\n",
    "pipeline.fit(X_feb, y_feb)\n",
    "\n",
    "cross_val_scores= cross_val_score(pipeline, X_feb, y_feb, cv=5, scoring='neg_log_loss')\n",
    "scores[\"Random Forest\"] = np.mean(cross_val_scores) * -1\n",
    "\n",
    "print(\"Random Forest Cross-Validation Scores:\")\n",
    "for score in (cross_val_scores * -1):\n",
    "    print(f'{round(score,2)}')\n",
    "print(f'Average Score on 5-Folds: {round(scores[\"Random Forest\"],2)}')"
   ]
  },
  {
   "cell_type": "code",
   "execution_count": 467,
   "metadata": {},
   "outputs": [
    {
     "data": {
      "image/png": "[encoded data removed]",
      "text/plain": [
       "<Figure size 432x288 with 1 Axes>"
      ]
     },
     "metadata": {
      "needs_background": "light"
     },
     "output_type": "display_data"
    }
   ],
   "source": [
    "# Compute predicted probabilities: y_pred_prob\n",
    "y_pred_prob = pipeline.predict_proba(X_feb)[:,1]\n",
    "\n",
    "# Generate ROC curve values: fpr, tpr, thresholds\n",
    "fpr, tpr, thresholds = roc_curve(y_feb, y_pred_prob)\n",
    "\n",
    "# Plot ROC curve\n",
    "plt.plot([0, 1], [0, 1], 'k--')\n",
    "plt.plot(fpr, tpr)\n",
    "plt.xlabel('False Positive Rate')\n",
    "plt.ylabel('True Positive Rate')\n",
    "plt.title(f'ROC Curve: Random Forest (Accuracy Score: {round(pipeline.score(X_feb, y_feb), 3)})')\n",
    "plt.show()"
   ]
  },
  {
   "cell_type": "markdown",
   "metadata": {},
   "source": [
    "#### Adaptive Boosting Classifier"
   ]
  },
  {
   "cell_type": "code",
   "execution_count": 479,
   "metadata": {},
   "outputs": [
    {
     "name": "stdout",
     "output_type": "stream",
     "text": [
      "AdaBoost Cross-Validation Scores:\n",
      "0.68\n",
      "0.68\n",
      "0.68\n",
      "0.68\n",
      "0.68\n",
      "Average Score on 5-Folds: 0.68\n"
     ]
    }
   ],
   "source": [
    "from sklearn.ensemble import AdaBoostClassifier\n",
    "\n",
    "clf = AdaBoostClassifier(random_state=42)\n",
    "steps = [('scaler', StandardScaler()),\n",
    "         ('AdaBoost', clf)]\n",
    "pipeline = Pipeline(steps)\n",
    "pipeline.fit(X_feb, y_feb)\n",
    "\n",
    "cross_val_scores= cross_val_score(pipeline, X_feb, y_feb, cv=5, scoring='neg_log_loss')\n",
    "scores[\"AdaBoost\"] = np.mean(cross_val_scores) * -1\n",
    "\n",
    "print(\"AdaBoost Cross-Validation Scores:\")\n",
    "for score in (cross_val_scores * -1):\n",
    "    print(f'{round(score,2)}')\n",
    "print(f'Average Score on 5-Folds: {round(scores[\"AdaBoost\"],2)}')"
   ]
  },
  {
   "cell_type": "code",
   "execution_count": 469,
   "metadata": {},
   "outputs": [
    {
     "data": {
      "image/png": "[encoded data removed]",
      "text/plain": [
       "<Figure size 432x288 with 1 Axes>"
      ]
     },
     "metadata": {
      "needs_background": "light"
     },
     "output_type": "display_data"
    }
   ],
   "source": [
    "# Compute predicted probabilities: y_pred_prob\n",
    "y_pred_prob = pipeline.predict_proba(X_feb)[:,1]\n",
    "\n",
    "# Generate ROC curve values: fpr, tpr, thresholds\n",
    "fpr, tpr, thresholds = roc_curve(y_feb, y_pred_prob)\n",
    "\n",
    "# Plot ROC curve\n",
    "plt.plot([0, 1], [0, 1], 'k--')\n",
    "plt.plot(fpr, tpr)\n",
    "plt.xlabel('False Positive Rate')\n",
    "plt.ylabel('True Positive Rate')\n",
    "plt.title(f'ROC Curve: AdaBoost (Accuracy Score: {round(pipeline.score(X_feb, y_feb), 3)})')\n",
    "plt.show()"
   ]
  },
  {
   "cell_type": "markdown",
   "metadata": {},
   "source": [
    "#### Gradient Boosting Classifier"
   ]
  },
  {
   "cell_type": "code",
   "execution_count": 480,
   "metadata": {},
   "outputs": [
    {
     "name": "stdout",
     "output_type": "stream",
     "text": [
      "GradientBoost Cross-Validation Scores:\n",
      "0.42\n",
      "0.43\n",
      "0.43\n",
      "0.42\n",
      "0.43\n",
      "Average Score on 5-Folds: 0.43\n"
     ]
    }
   ],
   "source": [
    "from sklearn.ensemble import GradientBoostingClassifier\n",
    "clf = GradientBoostingClassifier(random_state=42)\n",
    "steps = [('scaler', StandardScaler()),\n",
    "         ('GradientBoost', clf)]\n",
    "pipeline = Pipeline(steps)\n",
    "pipeline.fit(X_feb, y_feb)\n",
    "\n",
    "cross_val_scores= cross_val_score(pipeline, X_feb, y_feb, cv=5, scoring='neg_log_loss')\n",
    "scores[\"GradientBoost\"] = np.mean(cross_val_scores) * -1\n",
    "\n",
    "print(\"GradientBoost Cross-Validation Scores:\")\n",
    "for score in (cross_val_scores * -1):\n",
    "    print(f'{round(score,2)}')\n",
    "print(f'Average Score on 5-Folds: {round(scores[\"GradientBoost\"],2)}')"
   ]
  },
  {
   "cell_type": "code",
   "execution_count": 471,
   "metadata": {},
   "outputs": [
    {
     "data": {
      "image/png": "[encoded data removed]",
      "text/plain": [
       "<Figure size 432x288 with 1 Axes>"
      ]
     },
     "metadata": {
      "needs_background": "light"
     },
     "output_type": "display_data"
    }
   ],
   "source": [
    "# Compute predicted probabilities: y_pred_prob\n",
    "y_pred_prob = pipeline.predict_proba(X_feb)[:,1]\n",
    "\n",
    "# Generate ROC curve values: fpr, tpr, thresholds\n",
    "fpr, tpr, thresholds = roc_curve(y_feb, y_pred_prob)\n",
    "\n",
    "# Plot ROC curve\n",
    "plt.plot([0, 1], [0, 1], 'k--')\n",
    "plt.plot(fpr, tpr)\n",
    "plt.xlabel('False Positive Rate')\n",
    "plt.ylabel('True Positive Rate')\n",
    "plt.title(f'ROC Curve: Gradient Boost (Accuracy Score: {round(pipeline.score(X_train, y_train), 3)})')\n",
    "plt.show()"
   ]
  },
  {
   "cell_type": "markdown",
   "metadata": {},
   "source": [
    "#### Extreme Gradient Boosting"
   ]
  },
  {
   "cell_type": "code",
   "execution_count": 481,
   "metadata": {},
   "outputs": [
    {
     "name": "stdout",
     "output_type": "stream",
     "text": [
      "XGradientBoost Cross-Validation Scores:\n",
      "0.42\n",
      "0.43\n",
      "0.43\n",
      "0.42\n",
      "0.43\n",
      "Average Score on 5-Folds: 0.43\n"
     ]
    }
   ],
   "source": [
    "clf = XGBClassifier(random_state=42)\n",
    "steps = [('scaler', StandardScaler()),\n",
    "         ('XGradientBoost', clf)]\n",
    "pipeline = Pipeline(steps)\n",
    "pipeline.fit(X_feb, y_feb)\n",
    "\n",
    "cross_val_scores= cross_val_score(pipeline, X_feb, y_feb, cv=5, scoring='neg_log_loss')\n",
    "scores[\"XGradientBoost\"] = np.mean(cross_val_scores) * -1\n",
    "\n",
    "print(\"XGradientBoost Cross-Validation Scores:\")\n",
    "for score in (cross_val_scores * -1):\n",
    "    print(f'{round(score,2)}')\n",
    "print(f'Average Score on 5-Folds: {round(scores[\"XGradientBoost\"],2)}')"
   ]
  },
  {
   "cell_type": "code",
   "execution_count": 475,
   "metadata": {},
   "outputs": [
    {
     "data": {
      "image/png": "[encoded data removed]",
      "text/plain": [
       "<Figure size 432x288 with 1 Axes>"
      ]
     },
     "metadata": {
      "needs_background": "light"
     },
     "output_type": "display_data"
    }
   ],
   "source": [
    "# Compute predicted probabilities: y_pred_prob\n",
    "y_pred_prob = pipeline.predict_proba(X_feb)[:,1]\n",
    "\n",
    "# Generate ROC curve values: fpr, tpr, thresholds\n",
    "fpr, tpr, thresholds = roc_curve(y_feb, y_pred_prob)\n",
    "\n",
    "# Plot ROC curve\n",
    "plt.plot([0, 1], [0, 1], 'k--')\n",
    "plt.plot(fpr, tpr)\n",
    "plt.xlabel('False Positive Rate')\n",
    "plt.ylabel('True Positive Rate')\n",
    "plt.title(f'ROC Curve: XGradient Boost (Accuracy Score: {round(pipeline.score(X_feb, y_feb), 3)})')\n",
    "plt.show()"
   ]
  },
  {
   "cell_type": "code",
   "execution_count": 488,
   "metadata": {},
   "outputs": [
    {
     "name": "stdout",
     "output_type": "stream",
     "text": [
      "('XGradientBoost', 0.4278696677673399)\n",
      "('GradientBoost', 0.428462087175941)\n",
      "('Logistic Regression', 0.4629922200086612)\n",
      "('AdaBoost', 0.6816917932601727)\n",
      "('Random Forest', 1.4643558751548718)\n"
     ]
    }
   ],
   "source": [
    "scores = sorted(scores.items(), key=lambda score: score[1])\n",
    "\n",
    "for i in range(len(scores)):\n",
    "    print((scores[i][0], scores[i][1]))"
   ]
  },
  {
   "cell_type": "markdown",
   "metadata": {},
   "source": [
    "XGradientBoost seems to be the most effective model with the lowest log loss score of 0.427. We will hypertune the parameters of this classifer and perform principal component analysis to better the model."
   ]
  },
  {
   "cell_type": "markdown",
   "metadata": {},
   "source": [
    "### Fine Tuning Hyperparameters"
   ]
  },
  {
   "cell_type": "markdown",
   "metadata": {},
   "source": [
    "We will be adjusting the following parameters:\n",
    "* max_depth\n",
    "* learning_rate\n",
    "* colsample_bytree"
   ]
  },
  {
   "cell_type": "code",
   "execution_count": 495,
   "metadata": {},
   "outputs": [
    {
     "data": {
      "text/plain": [
       "GridSearchCV(cv='warn', error_score='raise-deprecating',\n",
       "       estimator=Pipeline(memory=None,\n",
       "     steps=[('scaler', StandardScaler(copy=True, with_mean=True, with_std=True)), ('XGB', XGBClassifier(base_score=0.5, booster='gbtree', colsample_bylevel=1,\n",
       "       colsample_bytree=1, gamma=0, learning_rate=0.1, max_delta_step=0,\n",
       "       max_depth=3, min_child_weight...       reg_alpha=0, reg_lambda=1, scale_pos_weight=1, seed=None,\n",
       "       silent=True, subsample=1))]),\n",
       "       fit_params=None, iid='warn', n_jobs=None,\n",
       "       param_grid={'XGB__max_depth': range(6, 11), 'XGB__learning_rate': array([0.01, 0.02, 0.03, 0.04, 0.05, 0.06, 0.07, 0.08, 0.09, 0.1 ]), 'XGB__colsample_bytree': array([0.3, 0.4, 0.5, 0.6, 0.7, 0.8, 0.9])},\n",
       "       pre_dispatch='2*n_jobs', refit=True, return_train_score='warn',\n",
       "       scoring=None, verbose=0)"
      ]
     },
     "execution_count": 495,
     "metadata": {},
     "output_type": "execute_result"
    }
   ],
   "source": [
    "model = XGBClassifier()\n",
    "steps = [('scaler', StandardScaler()),\n",
    "         ('XGB', model)]\n",
    "pipeline = Pipeline(steps)\n",
    "\n",
    "parameters = {'XGB__max_depth': range(6,11),\n",
    "             'XGB__learning_rate': np.arange(0.01,0.11,.01),\n",
    "             'XGB__colsample_bytree': np.arange(0.3, 0.9, 0.1)}\n",
    "\n",
    "cv = GridSearchCV(pipeline, param_grid=parameters)\n",
    "cv.fit(X_train, y_train)"
   ]
  },
  {
   "cell_type": "code",
   "execution_count": 496,
   "metadata": {},
   "outputs": [
    {
     "data": {
      "text/plain": [
       "{'XGB__colsample_bytree': 0.8000000000000003,\n",
       " 'XGB__learning_rate': 0.05,\n",
       " 'XGB__max_depth': 8}"
      ]
     },
     "execution_count": 496,
     "metadata": {},
     "output_type": "execute_result"
    }
   ],
   "source": [
    "cv.best_params_"
   ]
  },
  {
   "cell_type": "code",
   "execution_count": 497,
   "metadata": {},
   "outputs": [
    {
     "data": {
      "text/plain": [
       "0.8392965311149699"
      ]
     },
     "execution_count": 497,
     "metadata": {},
     "output_type": "execute_result"
    }
   ],
   "source": [
    "cv.score(X_train, y_train, sco)"
   ]
  },
  {
   "cell_type": "code",
   "execution_count": 512,
   "metadata": {},
   "outputs": [
    {
     "data": {
      "text/plain": [
       "array([-0.41379306, -0.42190345, -0.41630123, -0.41446563, -0.42198864])"
      ]
     },
     "execution_count": 512,
     "metadata": {},
     "output_type": "execute_result"
    }
   ],
   "source": [
    "cross_val_score(final_model, X_train, y_train, cv=5, scoring='neg_log_loss')"
   ]
  },
  {
   "cell_type": "code",
   "execution_count": 522,
   "metadata": {},
   "outputs": [
    {
     "data": {
      "text/plain": [
       "0.39406185962392304"
      ]
     },
     "execution_count": 522,
     "metadata": {},
     "output_type": "execute_result"
    }
   ],
   "source": [
    "# Compute predicted probabilities: y_pred_prob\n",
    "y_pred_prob = cv.predict_proba(X_feb)[:,1]\n",
    "log_loss(y_feb, y_pred_prob)"
   ]
  },
  {
   "cell_type": "markdown",
   "metadata": {},
   "source": [
    "According to the GridSearch cross validation, the best parameters are colsample_bytree: 0.8, learning_rate: 0.05, and max_depth: 8. This model results in 83.9% accuracy and a log loss of 0.388, which is a slight improvement from the default model."
   ]
  },
  {
   "cell_type": "code",
   "execution_count": 47,
   "metadata": {},
   "outputs": [],
   "source": [
    "final_model = XGBClassifier(max_depth = 8, learning_rate = 0.05, colsample_bytree = 0.8)"
   ]
  },
  {
   "cell_type": "markdown",
   "metadata": {},
   "source": [
    "## Feature Selection"
   ]
  },
  {
   "cell_type": "markdown",
   "metadata": {},
   "source": [
    "We can further improve the model by taking feature importance into account. Below, we use Mutual Information (MI) as a scoring method to rank each feature. Mutual information between two random variables is a non-negative value, which measures the dependency between the variables. It is equal to zero if and only if two random variables are independent, and higher values mean higher dependency."
   ]
  },
  {
   "cell_type": "code",
   "execution_count": 509,
   "metadata": {},
   "outputs": [
    {
     "name": "stdout",
     "output_type": "stream",
     "text": [
      "Score of \"avg_is_auto_renew\": 0.19\n",
      "Score of \"trans_count\": 0.15\n",
      "Score of \"avg_actual_amount_paid\": 0.13\n",
      "Score of \"avg_is_cancel\": 0.08\n",
      "Score of \"avg_payment_plan_7\": 0.07\n",
      "Score of \"avg_discount_received\": 0.06\n",
      "Score of \"registered_via_7\": 0.06\n",
      "Score of \"avg_payment_plan_30\": 0.03\n",
      "Score of \"age\": 0.02\n",
      "Score of \"registered_via_4\": 0.02\n"
     ]
    }
   ],
   "source": [
    "from sklearn.feature_selection import SelectKBest\n",
    "from sklearn.feature_selection import mutual_info_classif\n",
    "\n",
    "kbest = SelectKBest(score_func=mutual_info_classif, k=5)\n",
    "kbest.fit(X_feb, y_feb)\n",
    "\n",
    "feature_names = X_feb.columns\n",
    "feature_scores = list(zip(feature_names, kbest.scores_))\n",
    "\n",
    "feature_scores.sort(key=lambda x:x[1], reverse=True)\n",
    "\n",
    "for item in feature_scores[:10]:\n",
    "    print(f\"Score of \\\"{item[0]}\\\": {round(item[1], 2)}\")"
   ]
  },
  {
   "cell_type": "code",
   "execution_count": 588,
   "metadata": {},
   "outputs": [
    {
     "name": "stdout",
     "output_type": "stream",
     "text": [
      "Score with Only the Top 30 Features: 0.3919\n",
      "Score with Only the Top 32 Features: 0.3901\n",
      "Score with Only the Top 35 Features: 0.3896\n",
      "Score with Only the Top 40 Features: 0.3907\n",
      "Score with Only the Top 42 Features: 0.3899\n",
      "Score with Only the Top 48 Features: 0.3887\n"
     ]
    }
   ],
   "source": [
    "kbestscores = []\n",
    "\n",
    "sc = StandardScaler()\n",
    "X_feb_norm = sc.fit_transform(X_feb)\n",
    "\n",
    "for rank in [30, 32, 35, 40, 42, 48]:\n",
    "    kbest = SelectKBest(score_func=mutual_info_classif, \\\n",
    "                        k=rank)\n",
    "    kbest.fit(X_feb_norm, y_feb)\n",
    "    X_new = kbest.transform(X_feb_norm)\n",
    "\n",
    "    X_train, X_test, y_train, y_test = train_test_split(X_new, y_feb, test_size=0.2, random_state=42)\n",
    "\n",
    "    final_model.fit(X_train, y_train)\n",
    "\n",
    "    y_pred_prob = final_model.predict_proba(X_train)[:,1]\n",
    "    gbr_score = log_loss(y_train, y_pred_prob)\n",
    "    kbestscores.append((rank, gbr_score))\n",
    "\n",
    "for item in kbestscores:\n",
    "    print(f\"Score with Only the Top {item[0]} Features: {round(item[1],4)}\")"
   ]
  },
  {
   "cell_type": "markdown",
   "metadata": {},
   "source": [
    "## PCA (Dimension Reduction)"
   ]
  },
  {
   "cell_type": "code",
   "execution_count": 586,
   "metadata": {},
   "outputs": [
    {
     "data": {
      "image/png": "[encoded data removed]",
      "text/plain": [
       "<Figure size 432x288 with 1 Axes>"
      ]
     },
     "metadata": {
      "needs_background": "light"
     },
     "output_type": "display_data"
    }
   ],
   "source": [
    "# Normalize feature set\n",
    "from sklearn.preprocessing import StandardScaler\n",
    "\n",
    "sc = StandardScaler()\n",
    "X_train = sc.fit_transform(X_feb)\n",
    "X_test = sc.transform(X_march)\n",
    "\n",
    "# Applying PCA\n",
    "from sklearn.decomposition import PCA\n",
    "\n",
    "pca = PCA()  \n",
    "X_train = pca.fit_transform(X_train)  \n",
    "X_test = pca.transform(X_test)  \n",
    "\n",
    "# PCA CDF\n",
    "explained_variance = pca.explained_variance_ratio_     \n",
    "pca_df = pd.DataFrame(list(zip(range(1,49), np.cumsum(explained_variance))), columns = ['number', 'explained_variance'])\n",
    "\n",
    "# Plot CDF\n",
    "plt.plot(np.cumsum(explained_variance), marker='o', alpha = 0.5)\n",
    "plt.title('CDF of PCA')\n",
    "plt.xlabel('# of PCA components')\n",
    "plt.ylabel('CDF')\n",
    "plt.show()"
   ]
  },
  {
   "cell_type": "code",
   "execution_count": 575,
   "metadata": {},
   "outputs": [
    {
     "data": {
      "text/html": [
       "<div>\n",
       "<style scoped>\n",
       "    .dataframe tbody tr th:only-of-type {\n",
       "        vertical-align: middle;\n",
       "    }\n",
       "\n",
       "    .dataframe tbody tr th {\n",
       "        vertical-align: top;\n",
       "    }\n",
       "\n",
       "    .dataframe thead th {\n",
       "        text-align: right;\n",
       "    }\n",
       "</style>\n",
       "<table border=\"1\" class=\"dataframe\">\n",
       "  <thead>\n",
       "    <tr style=\"text-align: right;\">\n",
       "      <th></th>\n",
       "      <th>number</th>\n",
       "      <th>explained_variance</th>\n",
       "    </tr>\n",
       "  </thead>\n",
       "  <tbody>\n",
       "    <tr>\n",
       "      <th>28</th>\n",
       "      <td>29</td>\n",
       "      <td>0.819446</td>\n",
       "    </tr>\n",
       "    <tr>\n",
       "      <th>29</th>\n",
       "      <td>30</td>\n",
       "      <td>0.838448</td>\n",
       "    </tr>\n",
       "    <tr>\n",
       "      <th>30</th>\n",
       "      <td>31</td>\n",
       "      <td>0.856410</td>\n",
       "    </tr>\n",
       "    <tr>\n",
       "      <th>31</th>\n",
       "      <td>32</td>\n",
       "      <td>0.874048</td>\n",
       "    </tr>\n",
       "    <tr>\n",
       "      <th>32</th>\n",
       "      <td>33</td>\n",
       "      <td>0.890449</td>\n",
       "    </tr>\n",
       "    <tr>\n",
       "      <th>33</th>\n",
       "      <td>34</td>\n",
       "      <td>0.906596</td>\n",
       "    </tr>\n",
       "    <tr>\n",
       "      <th>34</th>\n",
       "      <td>35</td>\n",
       "      <td>0.921476</td>\n",
       "    </tr>\n",
       "    <tr>\n",
       "      <th>35</th>\n",
       "      <td>36</td>\n",
       "      <td>0.934251</td>\n",
       "    </tr>\n",
       "    <tr>\n",
       "      <th>36</th>\n",
       "      <td>37</td>\n",
       "      <td>0.945005</td>\n",
       "    </tr>\n",
       "  </tbody>\n",
       "</table>\n",
       "</div>"
      ],
      "text/plain": [
       "    number  explained_variance\n",
       "28      29            0.819446\n",
       "29      30            0.838448\n",
       "30      31            0.856410\n",
       "31      32            0.874048\n",
       "32      33            0.890449\n",
       "33      34            0.906596\n",
       "34      35            0.921476\n",
       "35      36            0.934251\n",
       "36      37            0.945005"
      ]
     },
     "execution_count": 575,
     "metadata": {},
     "output_type": "execute_result"
    }
   ],
   "source": [
    "# PCA explain 80 - 95% variance\n",
    "pca_df[(pca_df.explained_variance > .8) & (pca_df.explained_variance < .95)]"
   ]
  },
  {
   "cell_type": "code",
   "execution_count": 582,
   "metadata": {},
   "outputs": [
    {
     "name": "stdout",
     "output_type": "stream",
     "text": [
      "Score with Only the Top 29 Features: 0.4062\n",
      "Score with Only the Top 30 Features: 0.4067\n",
      "Score with Only the Top 31 Features: 0.405\n",
      "Score with Only the Top 32 Features: 0.4055\n",
      "Score with Only the Top 33 Features: 0.4038\n",
      "Score with Only the Top 34 Features: 0.4023\n",
      "Score with Only the Top 35 Features: 0.3998\n",
      "Score with Only the Top 36 Features: 0.3974\n",
      "Score with Only the Top 37 Features: 0.3958\n"
     ]
    }
   ],
   "source": [
    "pcabest = []\n",
    "for i in range(29, 38):\n",
    "    pca = PCA(n_components=i)  \n",
    "    X_new = pca.fit_transform(X_train)  \n",
    "    final_model.fit(X_new, y_feb)\n",
    "    y_pred_prob = final_model.predict_proba(X_new)[:,1]\n",
    "    gbr_score = log_loss(y_feb, y_pred_prob)\n",
    "    pcabest.append((i, gbr_score))    \n",
    "    \n",
    "for item in pcabest:\n",
    "    print(f\"Score with Only {item[0]} PCA components: {round(item[1],4)}\")"
   ]
  },
  {
   "cell_type": "markdown",
   "metadata": {},
   "source": [
    "## Fitting the Final Model"
   ]
  },
  {
   "cell_type": "code",
   "execution_count": 48,
   "metadata": {},
   "outputs": [
    {
     "data": {
      "text/plain": [
       "XGBClassifier(base_score=0.5, booster='gbtree', colsample_bylevel=1,\n",
       "       colsample_bytree=0.8, gamma=0, learning_rate=0.05, max_delta_step=0,\n",
       "       max_depth=8, min_child_weight=1, missing=None, n_estimators=100,\n",
       "       n_jobs=1, nthread=None, objective='binary:logistic', random_state=0,\n",
       "       reg_alpha=0, reg_lambda=1, scale_pos_weight=1, seed=None,\n",
       "       silent=True, subsample=1)"
      ]
     },
     "execution_count": 48,
     "metadata": {},
     "output_type": "execute_result"
    }
   ],
   "source": [
    "from sklearn.feature_selection import SelectKBest\n",
    "from sklearn.feature_selection import mutual_info_classif\n",
    "from sklearn.preprocessing import StandardScaler\n",
    "\n",
    "sc = StandardScaler()\n",
    "X_feb_norm = sc.fit_transform(X_feb)\n",
    "# Fit the final model on train data\n",
    "kbest = SelectKBest(score_func=mutual_info_classif, k = 35)\n",
    "kbest.fit(X_feb_norm, y_feb)\n",
    "X_new = kbest.transform(X_feb_norm)\n",
    "\n",
    "final_model.fit(X_new, y_feb)"
   ]
  },
  {
   "cell_type": "code",
   "execution_count": 53,
   "metadata": {},
   "outputs": [
    {
     "name": "stdout",
     "output_type": "stream",
     "text": [
      "Accuracy score: 0.8369906715664499\n",
      "Log Loss: 0.39342863247443444\n"
     ]
    }
   ],
   "source": [
    "# Scores for Train data\n",
    "y_pred_prob = final_model.predict_proba(X_new)[:,1]\n",
    "\n",
    "print(f'Accuracy score: {final_model.score(X_new, y_feb)}')\n",
    "print(f'Log Loss: {log_loss(y_feb, y_pred_prob)}')"
   ]
  },
  {
   "cell_type": "code",
   "execution_count": 50,
   "metadata": {},
   "outputs": [
    {
     "name": "stdout",
     "output_type": "stream",
     "text": [
      "Accuracy score: 0.7885331300825811\n",
      "Log Loss: 0.46549521458662974\n"
     ]
    }
   ],
   "source": [
    "# Using final model on test data\n",
    "sc = StandardScaler()\n",
    "X_mar_norm = sc.fit_transform(X_march)\n",
    "X_test = kbest.transform(X_mar_norm)\n",
    "\n",
    "y_pred_prob = final_model.predict_proba(X_test)[:,1]\n",
    "\n",
    "print(f'Accuracy score: {final_model.score(X_test, y_march)}')\n",
    "print(f'Log Loss: {log_loss(y_march, y_pred_prob)}')"
   ]
  }
 ],
 "metadata": {
  "kernelspec": {
   "display_name": "Python 3",
   "language": "python",
   "name": "python3"
  },
  "language_info": {
   "codemirror_mode": {
    "name": "ipython",
    "version": 3
   },
   "file_extension": ".py",
   "mimetype": "text/x-python",
   "name": "python",
   "nbconvert_exporter": "python",
   "pygments_lexer": "ipython3",
   "version": "3.7.1"
  }
 },
 "nbformat": 4,
 "nbformat_minor": 2
}
