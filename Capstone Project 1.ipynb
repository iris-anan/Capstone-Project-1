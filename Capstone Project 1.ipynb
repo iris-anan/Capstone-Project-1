{
 "cells": [
  {
   "cell_type": "markdown",
   "metadata": {},
   "source": [
    "# Load Libaries"
   ]
  },
  {
   "cell_type": "code",
   "execution_count": 1,
   "metadata": {},
   "outputs": [],
   "source": [
    "import pandas as pd\n",
    "import time\n",
    "from datetime import datetime\n",
    "\n",
    "# Data Visualization\n",
    "import matplotlib.pyplot as plt"
   ]
  },
  {
   "cell_type": "markdown",
   "metadata": {},
   "source": [
    "# Exploring File Structure and Cleaning Data"
   ]
  },
  {
   "cell_type": "markdown",
   "metadata": {},
   "source": [
    "## Train Data"
   ]
  },
  {
   "cell_type": "markdown",
   "metadata": {},
   "source": [
    "The train set contains user ids and whether they have churned in March 2017. \n",
    "* is_churn = 1 means churn\n",
    "* is_churn = 0 means renewal"
   ]
  },
  {
   "cell_type": "code",
   "execution_count": 2,
   "metadata": {},
   "outputs": [
    {
     "name": "stdout",
     "output_type": "stream",
     "text": [
      "<class 'pandas.core.frame.DataFrame'>\n",
      "RangeIndex: 992931 entries, 0 to 992930\n",
      "Data columns (total 2 columns):\n",
      "msno        992931 non-null object\n",
      "is_churn    992931 non-null int64\n",
      "dtypes: int64(1), object(1)\n",
      "memory usage: 15.2+ MB\n"
     ]
    }
   ],
   "source": [
    "train = pd.read_csv('./Data2/train.csv')\n",
    "train.info()"
   ]
  },
  {
   "cell_type": "code",
   "execution_count": 4,
   "metadata": {},
   "outputs": [
    {
     "data": {
      "text/html": [
       "<div>\n",
       "<style scoped>\n",
       "    .dataframe tbody tr th:only-of-type {\n",
       "        vertical-align: middle;\n",
       "    }\n",
       "\n",
       "    .dataframe tbody tr th {\n",
       "        vertical-align: top;\n",
       "    }\n",
       "\n",
       "    .dataframe thead th {\n",
       "        text-align: right;\n",
       "    }\n",
       "</style>\n",
       "<table border=\"1\" class=\"dataframe\">\n",
       "  <thead>\n",
       "    <tr style=\"text-align: right;\">\n",
       "      <th></th>\n",
       "      <th>is_churn</th>\n",
       "    </tr>\n",
       "  </thead>\n",
       "  <tbody>\n",
       "    <tr>\n",
       "      <th>count</th>\n",
       "      <td>992931.000000</td>\n",
       "    </tr>\n",
       "    <tr>\n",
       "      <th>mean</th>\n",
       "      <td>0.063923</td>\n",
       "    </tr>\n",
       "    <tr>\n",
       "      <th>std</th>\n",
       "      <td>0.244616</td>\n",
       "    </tr>\n",
       "    <tr>\n",
       "      <th>min</th>\n",
       "      <td>0.000000</td>\n",
       "    </tr>\n",
       "    <tr>\n",
       "      <th>25%</th>\n",
       "      <td>0.000000</td>\n",
       "    </tr>\n",
       "    <tr>\n",
       "      <th>50%</th>\n",
       "      <td>0.000000</td>\n",
       "    </tr>\n",
       "    <tr>\n",
       "      <th>75%</th>\n",
       "      <td>0.000000</td>\n",
       "    </tr>\n",
       "    <tr>\n",
       "      <th>max</th>\n",
       "      <td>1.000000</td>\n",
       "    </tr>\n",
       "  </tbody>\n",
       "</table>\n",
       "</div>"
      ],
      "text/plain": [
       "            is_churn\n",
       "count  992931.000000\n",
       "mean        0.063923\n",
       "std         0.244616\n",
       "min         0.000000\n",
       "25%         0.000000\n",
       "50%         0.000000\n",
       "75%         0.000000\n",
       "max         1.000000"
      ]
     },
     "execution_count": 4,
     "metadata": {},
     "output_type": "execute_result"
    }
   ],
   "source": [
    "train.describe()"
   ]
  },
  {
   "cell_type": "markdown",
   "metadata": {},
   "source": [
    "The train set contains churn information for 992,931 users. A majority of the users have renewed their subscription (is_churn = 0); only 6.4% have churned. \n",
    "\n",
    "Since it is a very biased training set, the majority group must be downsampled to ensure equal representation when creating the predictive model. We will do this now so that we will only be cleaning data needed for building the model."
   ]
  },
  {
   "cell_type": "code",
   "execution_count": 3,
   "metadata": {},
   "outputs": [],
   "source": [
    "#Split train data into churn and no churn dataframes\n",
    "train_churn = train[train.is_churn == 1]\n",
    "train_nochurn = train[train.is_churn == 0]\n",
    "\n",
    "#Sample nochurn group\n",
    "nochurn_sample = train_nochurn.msno.sample(n=75000, random_state=3).tolist()\n",
    "train_nochurn = train[train.msno.isin(nochurn_sample)]\n",
    "\n",
    "#Combine the two dataframes\n",
    "train = pd.concat([train_churn, train_nochurn])\n",
    "train.reset_index(drop=True, inplace=True)"
   ]
  },
  {
   "cell_type": "code",
   "execution_count": 4,
   "metadata": {},
   "outputs": [
    {
     "data": {
      "text/html": [
       "<div>\n",
       "<style scoped>\n",
       "    .dataframe tbody tr th:only-of-type {\n",
       "        vertical-align: middle;\n",
       "    }\n",
       "\n",
       "    .dataframe tbody tr th {\n",
       "        vertical-align: top;\n",
       "    }\n",
       "\n",
       "    .dataframe thead th {\n",
       "        text-align: right;\n",
       "    }\n",
       "</style>\n",
       "<table border=\"1\" class=\"dataframe\">\n",
       "  <thead>\n",
       "    <tr style=\"text-align: right;\">\n",
       "      <th></th>\n",
       "      <th>is_churn</th>\n",
       "    </tr>\n",
       "  </thead>\n",
       "  <tbody>\n",
       "    <tr>\n",
       "      <th>count</th>\n",
       "      <td>138471.000000</td>\n",
       "    </tr>\n",
       "    <tr>\n",
       "      <th>mean</th>\n",
       "      <td>0.458370</td>\n",
       "    </tr>\n",
       "    <tr>\n",
       "      <th>std</th>\n",
       "      <td>0.498266</td>\n",
       "    </tr>\n",
       "    <tr>\n",
       "      <th>min</th>\n",
       "      <td>0.000000</td>\n",
       "    </tr>\n",
       "    <tr>\n",
       "      <th>25%</th>\n",
       "      <td>0.000000</td>\n",
       "    </tr>\n",
       "    <tr>\n",
       "      <th>50%</th>\n",
       "      <td>0.000000</td>\n",
       "    </tr>\n",
       "    <tr>\n",
       "      <th>75%</th>\n",
       "      <td>1.000000</td>\n",
       "    </tr>\n",
       "    <tr>\n",
       "      <th>max</th>\n",
       "      <td>1.000000</td>\n",
       "    </tr>\n",
       "  </tbody>\n",
       "</table>\n",
       "</div>"
      ],
      "text/plain": [
       "            is_churn\n",
       "count  138471.000000\n",
       "mean        0.458370\n",
       "std         0.498266\n",
       "min         0.000000\n",
       "25%         0.000000\n",
       "50%         0.000000\n",
       "75%         1.000000\n",
       "max         1.000000"
      ]
     },
     "execution_count": 4,
     "metadata": {},
     "output_type": "execute_result"
    }
   ],
   "source": [
    "train.describe()"
   ]
  },
  {
   "cell_type": "code",
   "execution_count": 44,
   "metadata": {},
   "outputs": [],
   "source": [
    "members.to_csv('members_modified.csv', index=False)"
   ]
  },
  {
   "cell_type": "markdown",
   "metadata": {},
   "source": [
    "The data now has 138,471 users, but it is no longer biased with 45.8% being churned."
   ]
  },
  {
   "cell_type": "markdown",
   "metadata": {},
   "source": [
    "## Members Data"
   ]
  },
  {
   "cell_type": "markdown",
   "metadata": {},
   "source": [
    "The members dataset contains user information. \n",
    "* msno\n",
    "* city\n",
    "* bd: age\n",
    "* gender\n",
    "* registered_via: registration method\n",
    "* registration_init_time: format %Y%m%d"
   ]
  },
  {
   "cell_type": "code",
   "execution_count": 27,
   "metadata": {},
   "outputs": [
    {
     "name": "stdout",
     "output_type": "stream",
     "text": [
      "<class 'pandas.core.frame.DataFrame'>\n",
      "RangeIndex: 6769473 entries, 0 to 6769472\n",
      "Data columns (total 6 columns):\n",
      "msno                      object\n",
      "city                      int64\n",
      "bd                        int64\n",
      "gender                    object\n",
      "registered_via            int64\n",
      "registration_init_time    int64\n",
      "dtypes: int64(4), object(2)\n",
      "memory usage: 309.9+ MB\n"
     ]
    }
   ],
   "source": [
    "members = pd.read_csv('./Data/members_v3.csv')\n",
    "members.info()"
   ]
  },
  {
   "cell_type": "markdown",
   "metadata": {},
   "source": [
    "The dataset provides user information for 6,769,473 user which is an abundance compared to the information we have in the train dataset. We will filter down the dataset to only those in the train data."
   ]
  },
  {
   "cell_type": "code",
   "execution_count": 19,
   "metadata": {},
   "outputs": [
    {
     "name": "stdout",
     "output_type": "stream",
     "text": [
      "<class 'pandas.core.frame.DataFrame'>\n",
      "RangeIndex: 123815 entries, 0 to 123814\n",
      "Data columns (total 6 columns):\n",
      "msno                      123815 non-null object\n",
      "city                      123815 non-null int64\n",
      "bd                        123815 non-null int64\n",
      "gender                    63206 non-null object\n",
      "registered_via            123815 non-null int64\n",
      "registration_init_time    123815 non-null int64\n",
      "dtypes: int64(4), object(2)\n",
      "memory usage: 5.7+ MB\n"
     ]
    }
   ],
   "source": [
    "members = members[members.msno.isin(train.msno.tolist())]\n",
    "members.reset_index(drop=True, inplace=True)\n",
    "members.info()"
   ]
  },
  {
   "cell_type": "markdown",
   "metadata": {},
   "source": [
    "Now we've cut down the data to 123,815. Therefore, we do not have some of the members data for all users in the train set. <br>\n",
    "\n",
    "We are missing a lot of data for gender.\n",
    "\n",
    "There are a few of the columns are in the wrong data type. \n",
    "* **registration_init_time** (the date the user registered on) should be a datetime object\n",
    "* **city** (represented by integers) should be a categorical variable\n",
    "* **gender** (Male or Female) should be a categorical variable\n",
    "* **registration_via** (represented by integers) should be a categorical variable"
   ]
  },
  {
   "cell_type": "code",
   "execution_count": 20,
   "metadata": {},
   "outputs": [],
   "source": [
    "members['registration_init_time'] = members.registration_init_time.apply(lambda x: datetime.strptime(str(x), \"%Y%m%d\").date() if pd.notnull(x) else None)\n",
    "members['city'] = members.city.astype('category')\n",
    "members['gender'] = members.gender.astype('category')\n",
    "members['registered_via'] = members.registered_via.astype('category')"
   ]
  },
  {
   "cell_type": "code",
   "execution_count": 21,
   "metadata": {},
   "outputs": [
    {
     "name": "stdout",
     "output_type": "stream",
     "text": [
      "<class 'pandas.core.frame.DataFrame'>\n",
      "RangeIndex: 123815 entries, 0 to 123814\n",
      "Data columns (total 6 columns):\n",
      "msno                      123815 non-null object\n",
      "city                      123815 non-null category\n",
      "bd                        123815 non-null int64\n",
      "gender                    63206 non-null category\n",
      "registered_via            123815 non-null category\n",
      "registration_init_time    123815 non-null object\n",
      "dtypes: category(3), int64(1), object(2)\n",
      "memory usage: 3.2+ MB\n"
     ]
    }
   ],
   "source": [
    "members.info()"
   ]
  },
  {
   "cell_type": "code",
   "execution_count": 26,
   "metadata": {},
   "outputs": [
    {
     "name": "stdout",
     "output_type": "stream",
     "text": [
      "count    63188.000000\n",
      "mean        28.764370\n",
      "std          8.851143\n",
      "min          1.000000\n",
      "25%         22.000000\n",
      "50%         27.000000\n",
      "75%         33.000000\n",
      "max        100.000000\n",
      "Name: bd, dtype: float64\n"
     ]
    },
    {
     "data": {
      "image/png": "[encoded data removed]",
      "text/plain": [
       "<Figure size 432x288 with 1 Axes>"
      ]
     },
     "metadata": {
      "needs_background": "light"
     },
     "output_type": "display_data"
    }
   ],
   "source": [
    "print(members.bd.describe())\n",
    "members.boxplot(column = 'bd')\n",
    "plt.show()"
   ]
  },
  {
   "cell_type": "markdown",
   "metadata": {},
   "source": [
    "According to the table, the data contains members who are -48 years old while the max age is 1052. This doesn't make sense. You can also visually see that there are a lot of outliers.\n",
    "\n",
    "To make sure these data points do not skew the data, we will cap the age range from 1 - 100 and treat 0 as missing data."
   ]
  },
  {
   "cell_type": "code",
   "execution_count": 23,
   "metadata": {},
   "outputs": [],
   "source": [
    "members['bd'] = members.bd.apply(lambda x: int(x) if x in range(1,101) else None)"
   ]
  },
  {
   "cell_type": "code",
   "execution_count": 24,
   "metadata": {},
   "outputs": [
    {
     "data": {
      "text/html": [
       "<div>\n",
       "<style scoped>\n",
       "    .dataframe tbody tr th:only-of-type {\n",
       "        vertical-align: middle;\n",
       "    }\n",
       "\n",
       "    .dataframe tbody tr th {\n",
       "        vertical-align: top;\n",
       "    }\n",
       "\n",
       "    .dataframe thead th {\n",
       "        text-align: right;\n",
       "    }\n",
       "</style>\n",
       "<table border=\"1\" class=\"dataframe\">\n",
       "  <thead>\n",
       "    <tr style=\"text-align: right;\">\n",
       "      <th></th>\n",
       "      <th>bd</th>\n",
       "    </tr>\n",
       "  </thead>\n",
       "  <tbody>\n",
       "    <tr>\n",
       "      <th>count</th>\n",
       "      <td>63188.000000</td>\n",
       "    </tr>\n",
       "    <tr>\n",
       "      <th>mean</th>\n",
       "      <td>28.764370</td>\n",
       "    </tr>\n",
       "    <tr>\n",
       "      <th>std</th>\n",
       "      <td>8.851143</td>\n",
       "    </tr>\n",
       "    <tr>\n",
       "      <th>min</th>\n",
       "      <td>1.000000</td>\n",
       "    </tr>\n",
       "    <tr>\n",
       "      <th>25%</th>\n",
       "      <td>22.000000</td>\n",
       "    </tr>\n",
       "    <tr>\n",
       "      <th>50%</th>\n",
       "      <td>27.000000</td>\n",
       "    </tr>\n",
       "    <tr>\n",
       "      <th>75%</th>\n",
       "      <td>33.000000</td>\n",
       "    </tr>\n",
       "    <tr>\n",
       "      <th>max</th>\n",
       "      <td>100.000000</td>\n",
       "    </tr>\n",
       "  </tbody>\n",
       "</table>\n",
       "</div>"
      ],
      "text/plain": [
       "                 bd\n",
       "count  63188.000000\n",
       "mean      28.764370\n",
       "std        8.851143\n",
       "min        1.000000\n",
       "25%       22.000000\n",
       "50%       27.000000\n",
       "75%       33.000000\n",
       "max      100.000000"
      ]
     },
     "execution_count": 24,
     "metadata": {},
     "output_type": "execute_result"
    }
   ],
   "source": [
    "members.describe()"
   ]
  },
  {
   "cell_type": "markdown",
   "metadata": {},
   "source": [
    "Removing those outliers cut out more than half, but it's better to only keep data that make sense."
   ]
  },
  {
   "cell_type": "markdown",
   "metadata": {},
   "source": [
    "## Transactions data"
   ]
  },
  {
   "cell_type": "markdown",
   "metadata": {},
   "source": [
    "The transactions dataset describes the monetary transactions users have made on their accounts. \n",
    "* msno: user id\n",
    "* payment_method_id: payment method\n",
    "* payment_plan_days: length of membership plan in days\n",
    "* plan_list_price: in New Taiwan Dollar (NTD)\n",
    "* actual_amount_paid: in New Taiwan Dollar (NTD)\n",
    "* is_auto_renew\n",
    "* transaction_date: format %Y%m%d\n",
    "* membership_expire_date: format %Y%m%d\n",
    "* is_cancel: whether or not the user canceled the membership in this transaction"
   ]
  },
  {
   "cell_type": "code",
   "execution_count": 2,
   "metadata": {},
   "outputs": [
    {
     "name": "stdout",
     "output_type": "stream",
     "text": [
      "<class 'pandas.core.frame.DataFrame'>\n",
      "RangeIndex: 21547746 entries, 0 to 21547745\n",
      "Data columns (total 9 columns):\n",
      "msno                      object\n",
      "payment_method_id         int64\n",
      "payment_plan_days         int64\n",
      "plan_list_price           int64\n",
      "actual_amount_paid        int64\n",
      "is_auto_renew             int64\n",
      "transaction_date          int64\n",
      "membership_expire_date    int64\n",
      "is_cancel                 int64\n",
      "dtypes: int64(8), object(1)\n",
      "memory usage: 1.4+ GB\n"
     ]
    }
   ],
   "source": [
    "transactions = pd.read_csv('./Data2/transactions.csv')\n",
    "transactions.info()"
   ]
  },
  {
   "cell_type": "code",
   "execution_count": 35,
   "metadata": {},
   "outputs": [
    {
     "data": {
      "text/plain": [
       "2363626"
      ]
     },
     "execution_count": 35,
     "metadata": {},
     "output_type": "execute_result"
    }
   ],
   "source": [
    "len(set(transactions.msno))"
   ]
  },
  {
   "cell_type": "markdown",
   "metadata": {},
   "source": [
    "Although the dataset has 21,547,745 entries, it seems that a user can make multiple transactions, meaning that the dataset contains transactional data for 2,363,626 users. However, we only need those in the train data."
   ]
  },
  {
   "cell_type": "code",
   "execution_count": 36,
   "metadata": {
    "scrolled": false
   },
   "outputs": [
    {
     "name": "stdout",
     "output_type": "stream",
     "text": [
      "<class 'pandas.core.frame.DataFrame'>\n",
      "RangeIndex: 1909677 entries, 0 to 1909676\n",
      "Data columns (total 9 columns):\n",
      "msno                      object\n",
      "payment_method_id         int64\n",
      "payment_plan_days         int64\n",
      "plan_list_price           int64\n",
      "actual_amount_paid        int64\n",
      "is_auto_renew             int64\n",
      "transaction_date          int64\n",
      "membership_expire_date    int64\n",
      "is_cancel                 int64\n",
      "dtypes: int64(8), object(1)\n",
      "memory usage: 131.1+ MB\n"
     ]
    }
   ],
   "source": [
    "transactions = transactions[transactions.msno.isin(train.msno.tolist())]\n",
    "transactions.reset_index(drop=True, inplace=True)\n",
    "transactions.info()"
   ]
  },
  {
   "cell_type": "code",
   "execution_count": 37,
   "metadata": {},
   "outputs": [
    {
     "data": {
      "text/plain": [
       "138471"
      ]
     },
     "execution_count": 37,
     "metadata": {},
     "output_type": "execute_result"
    }
   ],
   "source": [
    "len(set(transactions.msno))"
   ]
  },
  {
   "cell_type": "markdown",
   "metadata": {},
   "source": [
    "We have at least one transaction for every user!"
   ]
  },
  {
   "cell_type": "markdown",
   "metadata": {},
   "source": [
    "Again, a few columns are in the wrong data type:\n",
    "* **payment_method_id** (represented by integers) should be a categorical variable\n",
    "* **is_auto_renew** should be a categorical variable\n",
    "* **transaction_date** should be datetime object\n",
    "* **member_expire_date** should be datetime object\n",
    "* **is_cancel** should be a categorical variable"
   ]
  },
  {
   "cell_type": "code",
   "execution_count": 38,
   "metadata": {},
   "outputs": [],
   "source": [
    "from datetime import datetime\n",
    "cat = ['payment_method_id', 'is_auto_renew', 'is_cancel']\n",
    "for col in cat:\n",
    "    transactions[col] = transactions[col].astype('category')\n",
    "\n",
    "transactions['transaction_date'] = transactions['transaction_date'].apply(lambda x: datetime.strptime(str(x), \"%Y%m%d\").date() if pd.notnull(x) else None)\n",
    "transactions['membership_expire_date'] = transactions['membership_expire_date'].apply(lambda x: datetime.strptime(str(x), \"%Y%m%d\").date() if pd.notnull(x) else None)"
   ]
  },
  {
   "cell_type": "code",
   "execution_count": 39,
   "metadata": {
    "scrolled": true
   },
   "outputs": [
    {
     "data": {
      "text/html": [
       "<div>\n",
       "<style scoped>\n",
       "    .dataframe tbody tr th:only-of-type {\n",
       "        vertical-align: middle;\n",
       "    }\n",
       "\n",
       "    .dataframe tbody tr th {\n",
       "        vertical-align: top;\n",
       "    }\n",
       "\n",
       "    .dataframe thead th {\n",
       "        text-align: right;\n",
       "    }\n",
       "</style>\n",
       "<table border=\"1\" class=\"dataframe\">\n",
       "  <thead>\n",
       "    <tr style=\"text-align: right;\">\n",
       "      <th></th>\n",
       "      <th>payment_plan_days</th>\n",
       "      <th>plan_list_price</th>\n",
       "      <th>actual_amount_paid</th>\n",
       "    </tr>\n",
       "  </thead>\n",
       "  <tbody>\n",
       "    <tr>\n",
       "      <th>count</th>\n",
       "      <td>1.909677e+06</td>\n",
       "      <td>1.909677e+06</td>\n",
       "      <td>1.909677e+06</td>\n",
       "    </tr>\n",
       "    <tr>\n",
       "      <th>mean</th>\n",
       "      <td>3.147768e+01</td>\n",
       "      <td>1.407167e+02</td>\n",
       "      <td>1.445365e+02</td>\n",
       "    </tr>\n",
       "    <tr>\n",
       "      <th>std</th>\n",
       "      <td>2.691498e+01</td>\n",
       "      <td>1.157037e+02</td>\n",
       "      <td>1.138081e+02</td>\n",
       "    </tr>\n",
       "    <tr>\n",
       "      <th>min</th>\n",
       "      <td>0.000000e+00</td>\n",
       "      <td>0.000000e+00</td>\n",
       "      <td>0.000000e+00</td>\n",
       "    </tr>\n",
       "    <tr>\n",
       "      <th>25%</th>\n",
       "      <td>3.000000e+01</td>\n",
       "      <td>9.900000e+01</td>\n",
       "      <td>9.900000e+01</td>\n",
       "    </tr>\n",
       "    <tr>\n",
       "      <th>50%</th>\n",
       "      <td>3.000000e+01</td>\n",
       "      <td>1.490000e+02</td>\n",
       "      <td>1.490000e+02</td>\n",
       "    </tr>\n",
       "    <tr>\n",
       "      <th>75%</th>\n",
       "      <td>3.000000e+01</td>\n",
       "      <td>1.490000e+02</td>\n",
       "      <td>1.490000e+02</td>\n",
       "    </tr>\n",
       "    <tr>\n",
       "      <th>max</th>\n",
       "      <td>4.500000e+02</td>\n",
       "      <td>2.000000e+03</td>\n",
       "      <td>2.000000e+03</td>\n",
       "    </tr>\n",
       "  </tbody>\n",
       "</table>\n",
       "</div>"
      ],
      "text/plain": [
       "       payment_plan_days  plan_list_price  actual_amount_paid\n",
       "count       1.909677e+06     1.909677e+06        1.909677e+06\n",
       "mean        3.147768e+01     1.407167e+02        1.445365e+02\n",
       "std         2.691498e+01     1.157037e+02        1.138081e+02\n",
       "min         0.000000e+00     0.000000e+00        0.000000e+00\n",
       "25%         3.000000e+01     9.900000e+01        9.900000e+01\n",
       "50%         3.000000e+01     1.490000e+02        1.490000e+02\n",
       "75%         3.000000e+01     1.490000e+02        1.490000e+02\n",
       "max         4.500000e+02     2.000000e+03        2.000000e+03"
      ]
     },
     "execution_count": 39,
     "metadata": {},
     "output_type": "execute_result"
    }
   ],
   "source": [
    "transactions.describe()"
   ]
  },
  {
   "cell_type": "markdown",
   "metadata": {},
   "source": [
    "There does not seem to be any missing data. However, the fact that the minimum value for all 3 columns is 0 is worth investigating into since the data might use 0 as placeholders for missing data. "
   ]
  },
  {
   "cell_type": "code",
   "execution_count": 40,
   "metadata": {},
   "outputs": [
    {
     "data": {
      "text/html": [
       "<div>\n",
       "<style scoped>\n",
       "    .dataframe tbody tr th:only-of-type {\n",
       "        vertical-align: middle;\n",
       "    }\n",
       "\n",
       "    .dataframe tbody tr th {\n",
       "        vertical-align: top;\n",
       "    }\n",
       "\n",
       "    .dataframe thead th {\n",
       "        text-align: right;\n",
       "    }\n",
       "</style>\n",
       "<table border=\"1\" class=\"dataframe\">\n",
       "  <thead>\n",
       "    <tr style=\"text-align: right;\">\n",
       "      <th></th>\n",
       "      <th>msno</th>\n",
       "      <th>payment_method_id</th>\n",
       "      <th>payment_plan_days</th>\n",
       "      <th>plan_list_price</th>\n",
       "      <th>actual_amount_paid</th>\n",
       "      <th>is_auto_renew</th>\n",
       "      <th>transaction_date</th>\n",
       "      <th>membership_expire_date</th>\n",
       "      <th>is_cancel</th>\n",
       "    </tr>\n",
       "  </thead>\n",
       "  <tbody>\n",
       "    <tr>\n",
       "      <th>244</th>\n",
       "      <td>+PDRqxCUcwjf0pnshEarm4OLSiIwCnleg8CGDYQRSLk=</td>\n",
       "      <td>34</td>\n",
       "      <td>0</td>\n",
       "      <td>0</td>\n",
       "      <td>149</td>\n",
       "      <td>1</td>\n",
       "      <td>2015-08-31</td>\n",
       "      <td>2015-09-30</td>\n",
       "      <td>0</td>\n",
       "    </tr>\n",
       "    <tr>\n",
       "      <th>245</th>\n",
       "      <td>FvaiCA/DAbGupjQkBTcIXgGH7gSIX5erXWkKU6brrDo=</td>\n",
       "      <td>34</td>\n",
       "      <td>0</td>\n",
       "      <td>0</td>\n",
       "      <td>149</td>\n",
       "      <td>1</td>\n",
       "      <td>2015-08-31</td>\n",
       "      <td>2015-09-30</td>\n",
       "      <td>0</td>\n",
       "    </tr>\n",
       "    <tr>\n",
       "      <th>246</th>\n",
       "      <td>GjgFeNhx91KoyPHvYryrRcMhrQ3Q++LWrKD+OtEd68s=</td>\n",
       "      <td>31</td>\n",
       "      <td>0</td>\n",
       "      <td>0</td>\n",
       "      <td>149</td>\n",
       "      <td>1</td>\n",
       "      <td>2015-08-31</td>\n",
       "      <td>2015-09-30</td>\n",
       "      <td>0</td>\n",
       "    </tr>\n",
       "    <tr>\n",
       "      <th>249</th>\n",
       "      <td>vEi+fKPqQOfxWc5XWIXNrIWGfBlWyM2uz5kNVgALzgg=</td>\n",
       "      <td>33</td>\n",
       "      <td>0</td>\n",
       "      <td>0</td>\n",
       "      <td>149</td>\n",
       "      <td>1</td>\n",
       "      <td>2015-06-30</td>\n",
       "      <td>2015-07-31</td>\n",
       "      <td>0</td>\n",
       "    </tr>\n",
       "    <tr>\n",
       "      <th>255</th>\n",
       "      <td>OhSuMZNvVEA4Wx2/t7sJc08w98GZGJyE+7RNVxd9Or8=</td>\n",
       "      <td>34</td>\n",
       "      <td>0</td>\n",
       "      <td>0</td>\n",
       "      <td>149</td>\n",
       "      <td>1</td>\n",
       "      <td>2015-07-31</td>\n",
       "      <td>2015-08-31</td>\n",
       "      <td>0</td>\n",
       "    </tr>\n",
       "  </tbody>\n",
       "</table>\n",
       "</div>"
      ],
      "text/plain": [
       "                                             msno payment_method_id  \\\n",
       "244  +PDRqxCUcwjf0pnshEarm4OLSiIwCnleg8CGDYQRSLk=                34   \n",
       "245  FvaiCA/DAbGupjQkBTcIXgGH7gSIX5erXWkKU6brrDo=                34   \n",
       "246  GjgFeNhx91KoyPHvYryrRcMhrQ3Q++LWrKD+OtEd68s=                31   \n",
       "249  vEi+fKPqQOfxWc5XWIXNrIWGfBlWyM2uz5kNVgALzgg=                33   \n",
       "255  OhSuMZNvVEA4Wx2/t7sJc08w98GZGJyE+7RNVxd9Or8=                34   \n",
       "\n",
       "     payment_plan_days  plan_list_price  actual_amount_paid is_auto_renew  \\\n",
       "244                  0                0                 149             1   \n",
       "245                  0                0                 149             1   \n",
       "246                  0                0                 149             1   \n",
       "249                  0                0                 149             1   \n",
       "255                  0                0                 149             1   \n",
       "\n",
       "    transaction_date membership_expire_date is_cancel  \n",
       "244       2015-08-31             2015-09-30         0  \n",
       "245       2015-08-31             2015-09-30         0  \n",
       "246       2015-08-31             2015-09-30         0  \n",
       "249       2015-06-30             2015-07-31         0  \n",
       "255       2015-07-31             2015-08-31         0  "
      ]
     },
     "execution_count": 40,
     "metadata": {},
     "output_type": "execute_result"
    }
   ],
   "source": [
    "transactions[transactions.payment_plan_days == 0].head()"
   ]
  },
  {
   "cell_type": "code",
   "execution_count": 41,
   "metadata": {
    "scrolled": true
   },
   "outputs": [
    {
     "data": {
      "text/html": [
       "<div>\n",
       "<style scoped>\n",
       "    .dataframe tbody tr th:only-of-type {\n",
       "        vertical-align: middle;\n",
       "    }\n",
       "\n",
       "    .dataframe tbody tr th {\n",
       "        vertical-align: top;\n",
       "    }\n",
       "\n",
       "    .dataframe thead th {\n",
       "        text-align: right;\n",
       "    }\n",
       "</style>\n",
       "<table border=\"1\" class=\"dataframe\">\n",
       "  <thead>\n",
       "    <tr style=\"text-align: right;\">\n",
       "      <th></th>\n",
       "      <th>msno</th>\n",
       "      <th>payment_method_id</th>\n",
       "      <th>payment_plan_days</th>\n",
       "      <th>plan_list_price</th>\n",
       "      <th>actual_amount_paid</th>\n",
       "      <th>is_auto_renew</th>\n",
       "      <th>transaction_date</th>\n",
       "      <th>membership_expire_date</th>\n",
       "      <th>is_cancel</th>\n",
       "    </tr>\n",
       "  </thead>\n",
       "  <tbody>\n",
       "    <tr>\n",
       "      <th>31</th>\n",
       "      <td>nttAL0YZASkTcHZH0nX7CsS1oUc5wLqMeJUqQSepslU=</td>\n",
       "      <td>35</td>\n",
       "      <td>7</td>\n",
       "      <td>0</td>\n",
       "      <td>0</td>\n",
       "      <td>0</td>\n",
       "      <td>2016-02-25</td>\n",
       "      <td>2016-03-25</td>\n",
       "      <td>0</td>\n",
       "    </tr>\n",
       "    <tr>\n",
       "      <th>111</th>\n",
       "      <td>lcQXwJNfBYda++AXuj9AzhWIMNyT52P2p1B1X4fRGDY=</td>\n",
       "      <td>35</td>\n",
       "      <td>7</td>\n",
       "      <td>0</td>\n",
       "      <td>0</td>\n",
       "      <td>0</td>\n",
       "      <td>2016-11-13</td>\n",
       "      <td>2016-11-20</td>\n",
       "      <td>0</td>\n",
       "    </tr>\n",
       "    <tr>\n",
       "      <th>114</th>\n",
       "      <td>TQBYDWyUqupf4EdTxSnO/4autGakpwxZJWNSSy25ROg=</td>\n",
       "      <td>38</td>\n",
       "      <td>7</td>\n",
       "      <td>0</td>\n",
       "      <td>0</td>\n",
       "      <td>0</td>\n",
       "      <td>2016-10-28</td>\n",
       "      <td>2017-03-19</td>\n",
       "      <td>0</td>\n",
       "    </tr>\n",
       "    <tr>\n",
       "      <th>350</th>\n",
       "      <td>6KrgpnP6HHn78FFbeTXG9kbR2XALAWMG1GrJSoLiHl8=</td>\n",
       "      <td>35</td>\n",
       "      <td>7</td>\n",
       "      <td>0</td>\n",
       "      <td>0</td>\n",
       "      <td>0</td>\n",
       "      <td>2015-06-07</td>\n",
       "      <td>2015-06-15</td>\n",
       "      <td>0</td>\n",
       "    </tr>\n",
       "    <tr>\n",
       "      <th>425</th>\n",
       "      <td>WWfFnkLCRMu6rA98VMHuQ7wAjlw4yI7wimym/tcUHw0=</td>\n",
       "      <td>35</td>\n",
       "      <td>7</td>\n",
       "      <td>0</td>\n",
       "      <td>0</td>\n",
       "      <td>0</td>\n",
       "      <td>2015-06-09</td>\n",
       "      <td>2015-06-15</td>\n",
       "      <td>0</td>\n",
       "    </tr>\n",
       "  </tbody>\n",
       "</table>\n",
       "</div>"
      ],
      "text/plain": [
       "                                             msno payment_method_id  \\\n",
       "31   nttAL0YZASkTcHZH0nX7CsS1oUc5wLqMeJUqQSepslU=                35   \n",
       "111  lcQXwJNfBYda++AXuj9AzhWIMNyT52P2p1B1X4fRGDY=                35   \n",
       "114  TQBYDWyUqupf4EdTxSnO/4autGakpwxZJWNSSy25ROg=                38   \n",
       "350  6KrgpnP6HHn78FFbeTXG9kbR2XALAWMG1GrJSoLiHl8=                35   \n",
       "425  WWfFnkLCRMu6rA98VMHuQ7wAjlw4yI7wimym/tcUHw0=                35   \n",
       "\n",
       "     payment_plan_days  plan_list_price  actual_amount_paid is_auto_renew  \\\n",
       "31                   7                0                   0             0   \n",
       "111                  7                0                   0             0   \n",
       "114                  7                0                   0             0   \n",
       "350                  7                0                   0             0   \n",
       "425                  7                0                   0             0   \n",
       "\n",
       "    transaction_date membership_expire_date is_cancel  \n",
       "31        2016-02-25             2016-03-25         0  \n",
       "111       2016-11-13             2016-11-20         0  \n",
       "114       2016-10-28             2017-03-19         0  \n",
       "350       2015-06-07             2015-06-15         0  \n",
       "425       2015-06-09             2015-06-15         0  "
      ]
     },
     "execution_count": 41,
     "metadata": {},
     "output_type": "execute_result"
    }
   ],
   "source": [
    "transactions[transactions.actual_amount_paid == 0].head()"
   ]
  },
  {
   "cell_type": "markdown",
   "metadata": {},
   "source": [
    "After investigation, the 0 values seem to actually represent the value. It might just mean that the user did not choose a set plan and paying by the month. Those paying 0 NTD may be on a free trial period."
   ]
  },
  {
   "cell_type": "markdown",
   "metadata": {},
   "source": [
    "## User Log Data"
   ]
  },
  {
   "cell_type": "markdown",
   "metadata": {},
   "source": [
    "The user log dataset describes listening behaviors of a user at the daily level.\n",
    "\n",
    "* msno: user id\n",
    "* date: format %Y%m%d\n",
    "* num_25: # of songs played less than 25% of the song length\n",
    "* num_50: # of songs played between 25% to 50% of the song length\n",
    "* num_75: # of songs played between 50% to 75% of of the song length\n",
    "* num_985: # of songs played between 75% to 98.5% of the song length\n",
    "* num_100: # of songs played over 98.5% of the song length\n",
    "* num_unq: # of unique songs played\n",
    "* total_secs: total seconds played\n",
    "<br>\n",
    "\n",
    "The dataset is quite large, so it must be loaded and processed in chunks. For this project, only user logs of those in the train set is needed."
   ]
  },
  {
   "cell_type": "code",
   "execution_count": 6,
   "metadata": {},
   "outputs": [],
   "source": [
    "user_logs = pd.DataFrame()\n",
    "chunksize = 100000\n",
    "for chunk in pd.read_csv('./Data2/user_logs.csv', chunksize=chunksize):\n",
    "    df = chunk[chunk.msno.isin(train.msno.tolist())]\n",
    "    user_logs = user_logs.append(df)\n",
    "user_logs.reset_index(drop=True, inplace=True)"
   ]
  },
  {
   "cell_type": "code",
   "execution_count": 7,
   "metadata": {},
   "outputs": [
    {
     "name": "stdout",
     "output_type": "stream",
     "text": [
      "<class 'pandas.core.frame.DataFrame'>\n",
      "RangeIndex: 10927698 entries, 0 to 10927697\n",
      "Data columns (total 9 columns):\n",
      "msno          object\n",
      "date          float64\n",
      "num_25        float64\n",
      "num_50        float64\n",
      "num_75        float64\n",
      "num_985       float64\n",
      "num_100       float64\n",
      "num_unq       float64\n",
      "total_secs    float64\n",
      "dtypes: float64(8), object(1)\n",
      "memory usage: 750.3+ MB\n"
     ]
    }
   ],
   "source": [
    "user_logs.info()"
   ]
  },
  {
   "cell_type": "code",
   "execution_count": 15,
   "metadata": {},
   "outputs": [
    {
     "data": {
      "text/plain": [
       "115730"
      ]
     },
     "execution_count": 15,
     "metadata": {},
     "output_type": "execute_result"
    }
   ],
   "source": [
    "len(set(user_logs.msno))"
   ]
  },
  {
   "cell_type": "markdown",
   "metadata": {},
   "source": [
    "There are 10,927,698 rows of data for 115,730 unique users. Unfortunately, we do not have activity logged for every user in the train set. <br>\n",
    "\n",
    "Only the date column is in the wrong format; it should be a datetime object."
   ]
  },
  {
   "cell_type": "code",
   "execution_count": 13,
   "metadata": {},
   "outputs": [],
   "source": [
    "from datetime import datetime\n",
    "user_logs['date'] = user_logs['date'].astype('int')\n",
    "user_logs['date'] = user_logs['date'].apply(lambda x: datetime.strptime(str(x), \"%Y%m%d\").date() if pd.notnull(x) else None)"
   ]
  },
  {
   "cell_type": "code",
   "execution_count": 16,
   "metadata": {},
   "outputs": [
    {
     "data": {
      "text/html": [
       "<div>\n",
       "<style scoped>\n",
       "    .dataframe tbody tr th:only-of-type {\n",
       "        vertical-align: middle;\n",
       "    }\n",
       "\n",
       "    .dataframe tbody tr th {\n",
       "        vertical-align: top;\n",
       "    }\n",
       "\n",
       "    .dataframe thead th {\n",
       "        text-align: right;\n",
       "    }\n",
       "</style>\n",
       "<table border=\"1\" class=\"dataframe\">\n",
       "  <thead>\n",
       "    <tr style=\"text-align: right;\">\n",
       "      <th></th>\n",
       "      <th>num_25</th>\n",
       "      <th>num_50</th>\n",
       "      <th>num_75</th>\n",
       "      <th>num_985</th>\n",
       "      <th>num_100</th>\n",
       "      <th>num_unq</th>\n",
       "      <th>total_secs</th>\n",
       "    </tr>\n",
       "  </thead>\n",
       "  <tbody>\n",
       "    <tr>\n",
       "      <th>count</th>\n",
       "      <td>1.092770e+07</td>\n",
       "      <td>1.092770e+07</td>\n",
       "      <td>1.092770e+07</td>\n",
       "      <td>1.092770e+07</td>\n",
       "      <td>1.092770e+07</td>\n",
       "      <td>1.092770e+07</td>\n",
       "      <td>1.092770e+07</td>\n",
       "    </tr>\n",
       "    <tr>\n",
       "      <th>mean</th>\n",
       "      <td>6.644989e+00</td>\n",
       "      <td>1.663333e+00</td>\n",
       "      <td>1.035472e+00</td>\n",
       "      <td>1.146277e+00</td>\n",
       "      <td>3.084736e+01</td>\n",
       "      <td>3.047673e+01</td>\n",
       "      <td>-1.316696e+12</td>\n",
       "    </tr>\n",
       "    <tr>\n",
       "      <th>std</th>\n",
       "      <td>1.408790e+01</td>\n",
       "      <td>4.220735e+00</td>\n",
       "      <td>2.187627e+00</td>\n",
       "      <td>2.764054e+00</td>\n",
       "      <td>4.117336e+01</td>\n",
       "      <td>3.369864e+01</td>\n",
       "      <td>1.104759e+14</td>\n",
       "    </tr>\n",
       "    <tr>\n",
       "      <th>min</th>\n",
       "      <td>0.000000e+00</td>\n",
       "      <td>0.000000e+00</td>\n",
       "      <td>0.000000e+00</td>\n",
       "      <td>0.000000e+00</td>\n",
       "      <td>0.000000e+00</td>\n",
       "      <td>1.000000e+00</td>\n",
       "      <td>-9.223372e+15</td>\n",
       "    </tr>\n",
       "    <tr>\n",
       "      <th>25%</th>\n",
       "      <td>0.000000e+00</td>\n",
       "      <td>0.000000e+00</td>\n",
       "      <td>0.000000e+00</td>\n",
       "      <td>0.000000e+00</td>\n",
       "      <td>7.000000e+00</td>\n",
       "      <td>8.000000e+00</td>\n",
       "      <td>1.967135e+03</td>\n",
       "    </tr>\n",
       "    <tr>\n",
       "      <th>50%</th>\n",
       "      <td>2.000000e+00</td>\n",
       "      <td>1.000000e+00</td>\n",
       "      <td>0.000000e+00</td>\n",
       "      <td>0.000000e+00</td>\n",
       "      <td>1.700000e+01</td>\n",
       "      <td>1.900000e+01</td>\n",
       "      <td>4.713599e+03</td>\n",
       "    </tr>\n",
       "    <tr>\n",
       "      <th>75%</th>\n",
       "      <td>7.000000e+00</td>\n",
       "      <td>2.000000e+00</td>\n",
       "      <td>1.000000e+00</td>\n",
       "      <td>1.000000e+00</td>\n",
       "      <td>3.800000e+01</td>\n",
       "      <td>4.000000e+01</td>\n",
       "      <td>1.032347e+04</td>\n",
       "    </tr>\n",
       "    <tr>\n",
       "      <th>max</th>\n",
       "      <td>3.759000e+03</td>\n",
       "      <td>6.580000e+02</td>\n",
       "      <td>6.720000e+02</td>\n",
       "      <td>1.093000e+03</td>\n",
       "      <td>9.295000e+03</td>\n",
       "      <td>1.444000e+03</td>\n",
       "      <td>9.223372e+15</td>\n",
       "    </tr>\n",
       "  </tbody>\n",
       "</table>\n",
       "</div>"
      ],
      "text/plain": [
       "             num_25        num_50        num_75       num_985       num_100  \\\n",
       "count  1.092770e+07  1.092770e+07  1.092770e+07  1.092770e+07  1.092770e+07   \n",
       "mean   6.644989e+00  1.663333e+00  1.035472e+00  1.146277e+00  3.084736e+01   \n",
       "std    1.408790e+01  4.220735e+00  2.187627e+00  2.764054e+00  4.117336e+01   \n",
       "min    0.000000e+00  0.000000e+00  0.000000e+00  0.000000e+00  0.000000e+00   \n",
       "25%    0.000000e+00  0.000000e+00  0.000000e+00  0.000000e+00  7.000000e+00   \n",
       "50%    2.000000e+00  1.000000e+00  0.000000e+00  0.000000e+00  1.700000e+01   \n",
       "75%    7.000000e+00  2.000000e+00  1.000000e+00  1.000000e+00  3.800000e+01   \n",
       "max    3.759000e+03  6.580000e+02  6.720000e+02  1.093000e+03  9.295000e+03   \n",
       "\n",
       "            num_unq    total_secs  \n",
       "count  1.092770e+07  1.092770e+07  \n",
       "mean   3.047673e+01 -1.316696e+12  \n",
       "std    3.369864e+01  1.104759e+14  \n",
       "min    1.000000e+00 -9.223372e+15  \n",
       "25%    8.000000e+00  1.967135e+03  \n",
       "50%    1.900000e+01  4.713599e+03  \n",
       "75%    4.000000e+01  1.032347e+04  \n",
       "max    1.444000e+03  9.223372e+15  "
      ]
     },
     "execution_count": 16,
     "metadata": {},
     "output_type": "execute_result"
    }
   ],
   "source": [
    "user_logs.describe()"
   ]
  },
  {
   "cell_type": "markdown",
   "metadata": {},
   "source": [
    "There are no missing values here; therefore the data cleaning is all completed!"
   ]
  }
 ],
 "metadata": {
  "kernelspec": {
   "display_name": "Python 3",
   "language": "python",
   "name": "python3"
  },
  "language_info": {
   "codemirror_mode": {
    "name": "ipython",
    "version": 3
   },
   "file_extension": ".py",
   "mimetype": "text/x-python",
   "name": "python",
   "nbconvert_exporter": "python",
   "pygments_lexer": "ipython3",
   "version": "3.7.1"
  }
 },
 "nbformat": 4,
 "nbformat_minor": 2
}
