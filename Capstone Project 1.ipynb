{
 "cells": [
  {
   "cell_type": "markdown",
   "metadata": {},
   "source": [
    "# 1. Load Libaries"
   ]
  },
  {
   "cell_type": "code",
   "execution_count": 1,
   "metadata": {},
   "outputs": [],
   "source": [
    "import pandas as pd\n",
    "import time\n",
    "from datetime import datetime\n",
    "\n",
    "# Data Visualization\n",
    "import matplotlib.pyplot as plt"
   ]
  },
  {
   "cell_type": "markdown",
   "metadata": {},
   "source": [
    "# 2. Load Data"
   ]
  },
  {
   "cell_type": "code",
   "execution_count": null,
   "metadata": {},
   "outputs": [],
   "source": [
    "train = pd.read_csv('./Data/train_v2.csv')\n",
    "members = pd.read_csv('./Data/members_v3.csv')\n",
    "transactions = pd.read_csv('./Data/transactions_v2.csv')\n",
    "user_logs = pd.read_csv('./Data/user_logs_v2.csv')"
   ]
  },
  {
   "cell_type": "markdown",
   "metadata": {},
   "source": [
    "# 3. Exploring File Structure and Cleaning Data"
   ]
  },
  {
   "cell_type": "markdown",
   "metadata": {},
   "source": [
    "## Train Data"
   ]
  },
  {
   "cell_type": "markdown",
   "metadata": {},
   "source": [
    "The train set contains user ids and whether they have churned in March 2017. \n",
    "* is_churn = 1 means churn\n",
    "* is_churn = 0 means renewal"
   ]
  },
  {
   "cell_type": "code",
   "execution_count": 3,
   "metadata": {},
   "outputs": [
    {
     "name": "stdout",
     "output_type": "stream",
     "text": [
      "<class 'pandas.core.frame.DataFrame'>\n",
      "RangeIndex: 970960 entries, 0 to 970959\n",
      "Data columns (total 2 columns):\n",
      "msno        970960 non-null object\n",
      "is_churn    970960 non-null int64\n",
      "dtypes: int64(1), object(1)\n",
      "memory usage: 14.8+ MB\n"
     ]
    }
   ],
   "source": [
    "train = pd.read_csv('./Data/train_v2.csv')\n",
    "train.info()"
   ]
  },
  {
   "cell_type": "code",
   "execution_count": 3,
   "metadata": {},
   "outputs": [
    {
     "data": {
      "text/html": [
       "<div>\n",
       "<style scoped>\n",
       "    .dataframe tbody tr th:only-of-type {\n",
       "        vertical-align: middle;\n",
       "    }\n",
       "\n",
       "    .dataframe tbody tr th {\n",
       "        vertical-align: top;\n",
       "    }\n",
       "\n",
       "    .dataframe thead th {\n",
       "        text-align: right;\n",
       "    }\n",
       "</style>\n",
       "<table border=\"1\" class=\"dataframe\">\n",
       "  <thead>\n",
       "    <tr style=\"text-align: right;\">\n",
       "      <th></th>\n",
       "      <th>is_churn</th>\n",
       "    </tr>\n",
       "  </thead>\n",
       "  <tbody>\n",
       "    <tr>\n",
       "      <th>count</th>\n",
       "      <td>970960.000000</td>\n",
       "    </tr>\n",
       "    <tr>\n",
       "      <th>mean</th>\n",
       "      <td>0.089942</td>\n",
       "    </tr>\n",
       "    <tr>\n",
       "      <th>std</th>\n",
       "      <td>0.286099</td>\n",
       "    </tr>\n",
       "    <tr>\n",
       "      <th>min</th>\n",
       "      <td>0.000000</td>\n",
       "    </tr>\n",
       "    <tr>\n",
       "      <th>25%</th>\n",
       "      <td>0.000000</td>\n",
       "    </tr>\n",
       "    <tr>\n",
       "      <th>50%</th>\n",
       "      <td>0.000000</td>\n",
       "    </tr>\n",
       "    <tr>\n",
       "      <th>75%</th>\n",
       "      <td>0.000000</td>\n",
       "    </tr>\n",
       "    <tr>\n",
       "      <th>max</th>\n",
       "      <td>1.000000</td>\n",
       "    </tr>\n",
       "  </tbody>\n",
       "</table>\n",
       "</div>"
      ],
      "text/plain": [
       "            is_churn\n",
       "count  970960.000000\n",
       "mean        0.089942\n",
       "std         0.286099\n",
       "min         0.000000\n",
       "25%         0.000000\n",
       "50%         0.000000\n",
       "75%         0.000000\n",
       "max         1.000000"
      ]
     },
     "execution_count": 3,
     "metadata": {},
     "output_type": "execute_result"
    }
   ],
   "source": [
    "train.describe()"
   ]
  },
  {
   "cell_type": "markdown",
   "metadata": {},
   "source": [
    "The train set contains churn information for 970,960 users. Fortunately, there are no missing values in this dataset, so there is nothing to clean. \n",
    "\n",
    "It is interesting to note that a majority of the users have renewed their subscription (is_churn = 0); only 8.9% have churned. "
   ]
  },
  {
   "cell_type": "markdown",
   "metadata": {},
   "source": [
    "## Members Data"
   ]
  },
  {
   "cell_type": "markdown",
   "metadata": {},
   "source": [
    "The members dataset contains user information. \n",
    "* msno\n",
    "* city\n",
    "* bd: age\n",
    "* gender\n",
    "* registered_via: registration method\n",
    "* registration_init_time: format %Y%m%d"
   ]
  },
  {
   "cell_type": "code",
   "execution_count": 5,
   "metadata": {},
   "outputs": [
    {
     "name": "stdout",
     "output_type": "stream",
     "text": [
      "<class 'pandas.core.frame.DataFrame'>\n",
      "RangeIndex: 6769473 entries, 0 to 6769472\n",
      "Data columns (total 6 columns):\n",
      "msno                      object\n",
      "city                      int64\n",
      "bd                        int64\n",
      "gender                    object\n",
      "registered_via            int64\n",
      "registration_init_time    int64\n",
      "dtypes: int64(4), object(2)\n",
      "memory usage: 309.9+ MB\n"
     ]
    }
   ],
   "source": [
    "members = pd.read_csv('./Data/members_v3.csv')\n",
    "members.info()"
   ]
  },
  {
   "cell_type": "markdown",
   "metadata": {},
   "source": [
    "The dataset provides user information for 6769473 user which is an abundance compared to the information we have in the train dataset. We will filter down the dataset to only those in the train data."
   ]
  },
  {
   "cell_type": "code",
   "execution_count": 8,
   "metadata": {},
   "outputs": [
    {
     "name": "stdout",
     "output_type": "stream",
     "text": [
      "<class 'pandas.core.frame.DataFrame'>\n",
      "RangeIndex: 860967 entries, 0 to 860966\n",
      "Data columns (total 6 columns):\n",
      "msno                      860967 non-null object\n",
      "city                      860967 non-null int64\n",
      "bd                        860967 non-null int64\n",
      "gender                    388905 non-null object\n",
      "registered_via            860967 non-null int64\n",
      "registration_init_time    860967 non-null int64\n",
      "dtypes: int64(4), object(2)\n",
      "memory usage: 39.4+ MB\n"
     ]
    }
   ],
   "source": [
    "members = members[members.msno.isin(train.msno.tolist())]\n",
    "members.reset_index(drop=True, inplace=True)\n",
    "members.info()"
   ]
  },
  {
   "cell_type": "markdown",
   "metadata": {},
   "source": [
    "Now we've cut down the data to 860967 which is the relevant data. \n",
    "\n",
    "There are a few of the columns are in the wrong data type. \n",
    "* **registration_init_time** (the date the user registered on) should be a datetime object\n",
    "* **city** (represented by integers) should be a categorical variable\n",
    "* **gender** (Male or Female) should be a categorical variable\n",
    "* **registration_via** (represented by integers) should be a categorical variable"
   ]
  },
  {
   "cell_type": "code",
   "execution_count": 9,
   "metadata": {},
   "outputs": [],
   "source": [
    "members['registration_init_time'] = members.registration_init_time.apply(lambda x: datetime.strptime(str(x), \"%Y%m%d\").date() if pd.notnull(x) else None)\n",
    "members['city'] = members.city.astype('category')\n",
    "members['gender'] = members.gender.astype('category')\n",
    "members['registered_via'] = members.registered_via.astype('category')"
   ]
  },
  {
   "cell_type": "code",
   "execution_count": 7,
   "metadata": {},
   "outputs": [
    {
     "name": "stdout",
     "output_type": "stream",
     "text": [
      "<class 'pandas.core.frame.DataFrame'>\n",
      "RangeIndex: 6769473 entries, 0 to 6769472\n",
      "Data columns (total 6 columns):\n",
      "msno                      object\n",
      "city                      category\n",
      "bd                        int64\n",
      "gender                    category\n",
      "registered_via            category\n",
      "registration_init_time    object\n",
      "dtypes: category(3), int64(1), object(2)\n",
      "memory usage: 174.3+ MB\n"
     ]
    }
   ],
   "source": [
    "members.info()"
   ]
  },
  {
   "cell_type": "code",
   "execution_count": 8,
   "metadata": {},
   "outputs": [
    {
     "name": "stdout",
     "output_type": "stream",
     "text": [
      "count    6.769473e+06\n",
      "mean     9.795794e+00\n",
      "std      1.792590e+01\n",
      "min     -7.168000e+03\n",
      "25%      0.000000e+00\n",
      "50%      0.000000e+00\n",
      "75%      2.100000e+01\n",
      "max      2.016000e+03\n",
      "Name: bd, dtype: float64\n"
     ]
    },
    {
     "data": {
      "image/png": "[encoded data removed]",
      "text/plain": [
       "<Figure size 432x288 with 1 Axes>"
      ]
     },
     "metadata": {
      "needs_background": "light"
     },
     "output_type": "display_data"
    }
   ],
   "source": [
    "print(members.bd.describe())\n",
    "members.boxplot(column = 'bd')\n",
    "plt.show()"
   ]
  },
  {
   "cell_type": "markdown",
   "metadata": {},
   "source": [
    "According to the table, the data contains members who are -3152 years old while the max age is 2016. This doesn't make sense. You can also visually see that there are a lot of outliers.\n",
    "\n",
    "To make sure these data points do not skew the data, we will cap the age range from 1 - 100 and treat 0 as missing data."
   ]
  },
  {
   "cell_type": "code",
   "execution_count": 10,
   "metadata": {},
   "outputs": [],
   "source": [
    "members['bd'] = members.bd.apply(lambda x: int(x) if x in range(1,101) else None)"
   ]
  },
  {
   "cell_type": "code",
   "execution_count": 72,
   "metadata": {},
   "outputs": [
    {
     "data": {
      "text/html": [
       "<div>\n",
       "<style scoped>\n",
       "    .dataframe tbody tr th:only-of-type {\n",
       "        vertical-align: middle;\n",
       "    }\n",
       "\n",
       "    .dataframe tbody tr th {\n",
       "        vertical-align: top;\n",
       "    }\n",
       "\n",
       "    .dataframe thead th {\n",
       "        text-align: right;\n",
       "    }\n",
       "</style>\n",
       "<table border=\"1\" class=\"dataframe\">\n",
       "  <thead>\n",
       "    <tr style=\"text-align: right;\">\n",
       "      <th></th>\n",
       "      <th>bd</th>\n",
       "    </tr>\n",
       "  </thead>\n",
       "  <tbody>\n",
       "    <tr>\n",
       "      <th>count</th>\n",
       "      <td>386715.000000</td>\n",
       "    </tr>\n",
       "    <tr>\n",
       "      <th>mean</th>\n",
       "      <td>29.904216</td>\n",
       "    </tr>\n",
       "    <tr>\n",
       "      <th>std</th>\n",
       "      <td>8.920391</td>\n",
       "    </tr>\n",
       "    <tr>\n",
       "      <th>min</th>\n",
       "      <td>1.000000</td>\n",
       "    </tr>\n",
       "    <tr>\n",
       "      <th>25%</th>\n",
       "      <td>24.000000</td>\n",
       "    </tr>\n",
       "    <tr>\n",
       "      <th>50%</th>\n",
       "      <td>28.000000</td>\n",
       "    </tr>\n",
       "    <tr>\n",
       "      <th>75%</th>\n",
       "      <td>34.000000</td>\n",
       "    </tr>\n",
       "    <tr>\n",
       "      <th>max</th>\n",
       "      <td>100.000000</td>\n",
       "    </tr>\n",
       "  </tbody>\n",
       "</table>\n",
       "</div>"
      ],
      "text/plain": [
       "                  bd\n",
       "count  386715.000000\n",
       "mean       29.904216\n",
       "std         8.920391\n",
       "min         1.000000\n",
       "25%        24.000000\n",
       "50%        28.000000\n",
       "75%        34.000000\n",
       "max       100.000000"
      ]
     },
     "execution_count": 72,
     "metadata": {},
     "output_type": "execute_result"
    }
   ],
   "source": [
    "members.describe()"
   ]
  },
  {
   "cell_type": "markdown",
   "metadata": {},
   "source": [
    "Removing those outliers cut out more than half, but it's better to only keep data that make sense."
   ]
  },
  {
   "cell_type": "markdown",
   "metadata": {},
   "source": [
    "## Transactions data"
   ]
  },
  {
   "cell_type": "markdown",
   "metadata": {},
   "source": [
    "The transactions dataset describes the monetary transactions users have made on their accounts. \n",
    "* msno: user id\n",
    "* payment_method_id: payment method\n",
    "* payment_plan_days: length of membership plan in days\n",
    "* plan_list_price: in New Taiwan Dollar (NTD)\n",
    "* actual_amount_paid: in New Taiwan Dollar (NTD)\n",
    "* is_auto_renew\n",
    "* transaction_date: format %Y%m%d\n",
    "* membership_expire_date: format %Y%m%d\n",
    "* is_cancel: whether or not the user canceled the membership in this transaction"
   ]
  },
  {
   "cell_type": "code",
   "execution_count": 11,
   "metadata": {},
   "outputs": [
    {
     "name": "stdout",
     "output_type": "stream",
     "text": [
      "<class 'pandas.core.frame.DataFrame'>\n",
      "RangeIndex: 1431009 entries, 0 to 1431008\n",
      "Data columns (total 9 columns):\n",
      "msno                      1431009 non-null object\n",
      "payment_method_id         1431009 non-null int64\n",
      "payment_plan_days         1431009 non-null int64\n",
      "plan_list_price           1431009 non-null int64\n",
      "actual_amount_paid        1431009 non-null int64\n",
      "is_auto_renew             1431009 non-null int64\n",
      "transaction_date          1431009 non-null int64\n",
      "membership_expire_date    1431009 non-null int64\n",
      "is_cancel                 1431009 non-null int64\n",
      "dtypes: int64(8), object(1)\n",
      "memory usage: 98.3+ MB\n"
     ]
    }
   ],
   "source": [
    "transactions = pd.read_csv('./Data/transactions_v2.csv')\n",
    "transactions.info()"
   ]
  },
  {
   "cell_type": "code",
   "execution_count": 11,
   "metadata": {},
   "outputs": [
    {
     "data": {
      "text/plain": [
       "1197050"
      ]
     },
     "execution_count": 11,
     "metadata": {},
     "output_type": "execute_result"
    }
   ],
   "source": [
    "len(set(transactions.msno))"
   ]
  },
  {
   "cell_type": "markdown",
   "metadata": {},
   "source": [
    "Although the dataset has 1431009 entries, it seems that a user can make multiple transactions, meaning that the dataset contains transactional data for 1197050 users. However, we only need those in the train data."
   ]
  },
  {
   "cell_type": "code",
   "execution_count": 12,
   "metadata": {},
   "outputs": [
    {
     "name": "stdout",
     "output_type": "stream",
     "text": [
      "<class 'pandas.core.frame.DataFrame'>\n",
      "RangeIndex: 1132036 entries, 0 to 1132035\n",
      "Data columns (total 9 columns):\n",
      "msno                      1132036 non-null object\n",
      "payment_method_id         1132036 non-null int64\n",
      "payment_plan_days         1132036 non-null int64\n",
      "plan_list_price           1132036 non-null int64\n",
      "actual_amount_paid        1132036 non-null int64\n",
      "is_auto_renew             1132036 non-null int64\n",
      "transaction_date          1132036 non-null int64\n",
      "membership_expire_date    1132036 non-null int64\n",
      "is_cancel                 1132036 non-null int64\n",
      "dtypes: int64(8), object(1)\n",
      "memory usage: 77.7+ MB\n"
     ]
    }
   ],
   "source": [
    "transactions = transactions[transactions.msno.isin(train.msno.tolist())]\n",
    "transactions.reset_index(drop=True, inplace=True)\n",
    "transactions.info()"
   ]
  },
  {
   "cell_type": "markdown",
   "metadata": {},
   "source": [
    "Again, a few columns are in the wrong data type:\n",
    "* **payment_method_id** (represented by integers) should be a categorical variable\n",
    "* **is_auto_renew** should be a categorical variable\n",
    "* **transaction_date** should be datetime object\n",
    "* **member_expire_date** should be datetime object\n",
    "* **is_cancel** should be a categorical variable"
   ]
  },
  {
   "cell_type": "code",
   "execution_count": 13,
   "metadata": {},
   "outputs": [],
   "source": [
    "from datetime import datetime\n",
    "cat = ['payment_method_id', 'is_auto_renew', 'is_cancel']\n",
    "for col in cat:\n",
    "    transactions[col] = transactions[col].astype('category')\n",
    "\n",
    "transactions['transaction_date'] = transactions['transaction_date'].apply(lambda x: datetime.strptime(str(x), \"%Y%m%d\").date() if pd.notnull(x) else None)\n",
    "transactions['membership_expire_date'] = transactions['membership_expire_date'].apply(lambda x: datetime.strptime(str(x), \"%Y%m%d\").date() if pd.notnull(x) else None)"
   ]
  },
  {
   "cell_type": "code",
   "execution_count": 24,
   "metadata": {},
   "outputs": [
    {
     "data": {
      "text/html": [
       "<div>\n",
       "<style scoped>\n",
       "    .dataframe tbody tr th:only-of-type {\n",
       "        vertical-align: middle;\n",
       "    }\n",
       "\n",
       "    .dataframe tbody tr th {\n",
       "        vertical-align: top;\n",
       "    }\n",
       "\n",
       "    .dataframe thead th {\n",
       "        text-align: right;\n",
       "    }\n",
       "</style>\n",
       "<table border=\"1\" class=\"dataframe\">\n",
       "  <thead>\n",
       "    <tr style=\"text-align: right;\">\n",
       "      <th></th>\n",
       "      <th>payment_plan_days</th>\n",
       "      <th>plan_list_price</th>\n",
       "      <th>actual_amount_paid</th>\n",
       "    </tr>\n",
       "  </thead>\n",
       "  <tbody>\n",
       "    <tr>\n",
       "      <th>count</th>\n",
       "      <td>1.132036e+06</td>\n",
       "      <td>1.132036e+06</td>\n",
       "      <td>1.132036e+06</td>\n",
       "    </tr>\n",
       "    <tr>\n",
       "      <th>mean</th>\n",
       "      <td>3.356030e+01</td>\n",
       "      <td>1.455336e+02</td>\n",
       "      <td>1.450239e+02</td>\n",
       "    </tr>\n",
       "    <tr>\n",
       "      <th>std</th>\n",
       "      <td>3.179832e+01</td>\n",
       "      <td>1.331882e+02</td>\n",
       "      <td>1.333376e+02</td>\n",
       "    </tr>\n",
       "    <tr>\n",
       "      <th>min</th>\n",
       "      <td>0.000000e+00</td>\n",
       "      <td>0.000000e+00</td>\n",
       "      <td>0.000000e+00</td>\n",
       "    </tr>\n",
       "    <tr>\n",
       "      <th>25%</th>\n",
       "      <td>3.000000e+01</td>\n",
       "      <td>9.900000e+01</td>\n",
       "      <td>9.900000e+01</td>\n",
       "    </tr>\n",
       "    <tr>\n",
       "      <th>50%</th>\n",
       "      <td>3.000000e+01</td>\n",
       "      <td>1.490000e+02</td>\n",
       "      <td>1.490000e+02</td>\n",
       "    </tr>\n",
       "    <tr>\n",
       "      <th>75%</th>\n",
       "      <td>3.000000e+01</td>\n",
       "      <td>1.490000e+02</td>\n",
       "      <td>1.490000e+02</td>\n",
       "    </tr>\n",
       "    <tr>\n",
       "      <th>max</th>\n",
       "      <td>4.500000e+02</td>\n",
       "      <td>2.000000e+03</td>\n",
       "      <td>2.000000e+03</td>\n",
       "    </tr>\n",
       "  </tbody>\n",
       "</table>\n",
       "</div>"
      ],
      "text/plain": [
       "       payment_plan_days  plan_list_price  actual_amount_paid\n",
       "count       1.132036e+06     1.132036e+06        1.132036e+06\n",
       "mean        3.356030e+01     1.455336e+02        1.450239e+02\n",
       "std         3.179832e+01     1.331882e+02        1.333376e+02\n",
       "min         0.000000e+00     0.000000e+00        0.000000e+00\n",
       "25%         3.000000e+01     9.900000e+01        9.900000e+01\n",
       "50%         3.000000e+01     1.490000e+02        1.490000e+02\n",
       "75%         3.000000e+01     1.490000e+02        1.490000e+02\n",
       "max         4.500000e+02     2.000000e+03        2.000000e+03"
      ]
     },
     "execution_count": 24,
     "metadata": {},
     "output_type": "execute_result"
    }
   ],
   "source": [
    "transactions.describe()"
   ]
  },
  {
   "cell_type": "markdown",
   "metadata": {},
   "source": [
    "There does not seem to be any missing data. However, the fact that the minimum value for all 3 columns is 0 is worth investigating into since the data might use 0 as placeholders for missing data. "
   ]
  },
  {
   "cell_type": "code",
   "execution_count": 18,
   "metadata": {},
   "outputs": [
    {
     "data": {
      "text/html": [
       "<div>\n",
       "<style scoped>\n",
       "    .dataframe tbody tr th:only-of-type {\n",
       "        vertical-align: middle;\n",
       "    }\n",
       "\n",
       "    .dataframe tbody tr th {\n",
       "        vertical-align: top;\n",
       "    }\n",
       "\n",
       "    .dataframe thead th {\n",
       "        text-align: right;\n",
       "    }\n",
       "</style>\n",
       "<table border=\"1\" class=\"dataframe\">\n",
       "  <thead>\n",
       "    <tr style=\"text-align: right;\">\n",
       "      <th></th>\n",
       "      <th>msno</th>\n",
       "      <th>payment_method_id</th>\n",
       "      <th>payment_plan_days</th>\n",
       "      <th>plan_list_price</th>\n",
       "      <th>actual_amount_paid</th>\n",
       "      <th>is_auto_renew</th>\n",
       "      <th>transaction_date</th>\n",
       "      <th>membership_expire_date</th>\n",
       "      <th>is_cancel</th>\n",
       "    </tr>\n",
       "  </thead>\n",
       "  <tbody>\n",
       "    <tr>\n",
       "      <th>285</th>\n",
       "      <td>0bAK8hFztHoYGFNDktYu66rw4KWeOnvcnlLxsuXSXSw=</td>\n",
       "      <td>41</td>\n",
       "      <td>0</td>\n",
       "      <td>0</td>\n",
       "      <td>149</td>\n",
       "      <td>1</td>\n",
       "      <td>2015-04-26</td>\n",
       "      <td>2017-06-24</td>\n",
       "      <td>1</td>\n",
       "    </tr>\n",
       "    <tr>\n",
       "      <th>1168</th>\n",
       "      <td>8NOQhq2g9B4hhDQbhUuwXBOmp6mNfLwxmhGdDDG9fHY=</td>\n",
       "      <td>41</td>\n",
       "      <td>0</td>\n",
       "      <td>0</td>\n",
       "      <td>149</td>\n",
       "      <td>1</td>\n",
       "      <td>2015-05-07</td>\n",
       "      <td>2018-04-07</td>\n",
       "      <td>0</td>\n",
       "    </tr>\n",
       "    <tr>\n",
       "      <th>1544</th>\n",
       "      <td>C1h8A4MS1ounYf4DkMN316gXlSTMK8xIHLI16sPa/is=</td>\n",
       "      <td>41</td>\n",
       "      <td>0</td>\n",
       "      <td>0</td>\n",
       "      <td>119</td>\n",
       "      <td>1</td>\n",
       "      <td>2015-04-24</td>\n",
       "      <td>2017-07-24</td>\n",
       "      <td>0</td>\n",
       "    </tr>\n",
       "    <tr>\n",
       "      <th>2128</th>\n",
       "      <td>HGKfudttieegLoo89jy/76cUuqCzVA76I/yRJ0GZvZA=</td>\n",
       "      <td>41</td>\n",
       "      <td>0</td>\n",
       "      <td>0</td>\n",
       "      <td>149</td>\n",
       "      <td>1</td>\n",
       "      <td>2015-05-05</td>\n",
       "      <td>2017-07-03</td>\n",
       "      <td>1</td>\n",
       "    </tr>\n",
       "    <tr>\n",
       "      <th>2295</th>\n",
       "      <td>Iw/oJ98lTiX5PLT7FTUBF+ArbxWy+hKXDce/E3sEIOg=</td>\n",
       "      <td>41</td>\n",
       "      <td>0</td>\n",
       "      <td>0</td>\n",
       "      <td>119</td>\n",
       "      <td>1</td>\n",
       "      <td>2015-05-12</td>\n",
       "      <td>2017-07-20</td>\n",
       "      <td>0</td>\n",
       "    </tr>\n",
       "  </tbody>\n",
       "</table>\n",
       "</div>"
      ],
      "text/plain": [
       "                                              msno payment_method_id  \\\n",
       "285   0bAK8hFztHoYGFNDktYu66rw4KWeOnvcnlLxsuXSXSw=                41   \n",
       "1168  8NOQhq2g9B4hhDQbhUuwXBOmp6mNfLwxmhGdDDG9fHY=                41   \n",
       "1544  C1h8A4MS1ounYf4DkMN316gXlSTMK8xIHLI16sPa/is=                41   \n",
       "2128  HGKfudttieegLoo89jy/76cUuqCzVA76I/yRJ0GZvZA=                41   \n",
       "2295  Iw/oJ98lTiX5PLT7FTUBF+ArbxWy+hKXDce/E3sEIOg=                41   \n",
       "\n",
       "      payment_plan_days  plan_list_price  actual_amount_paid is_auto_renew  \\\n",
       "285                   0                0                 149             1   \n",
       "1168                  0                0                 149             1   \n",
       "1544                  0                0                 119             1   \n",
       "2128                  0                0                 149             1   \n",
       "2295                  0                0                 119             1   \n",
       "\n",
       "     transaction_date membership_expire_date is_cancel  \n",
       "285        2015-04-26             2017-06-24         1  \n",
       "1168       2015-05-07             2018-04-07         0  \n",
       "1544       2015-04-24             2017-07-24         0  \n",
       "2128       2015-05-05             2017-07-03         1  \n",
       "2295       2015-05-12             2017-07-20         0  "
      ]
     },
     "execution_count": 18,
     "metadata": {},
     "output_type": "execute_result"
    }
   ],
   "source": [
    "transactions[transactions.payment_plan_days == 0].head()"
   ]
  },
  {
   "cell_type": "code",
   "execution_count": 16,
   "metadata": {
    "scrolled": true
   },
   "outputs": [
    {
     "data": {
      "text/html": [
       "<div>\n",
       "<style scoped>\n",
       "    .dataframe tbody tr th:only-of-type {\n",
       "        vertical-align: middle;\n",
       "    }\n",
       "\n",
       "    .dataframe tbody tr th {\n",
       "        vertical-align: top;\n",
       "    }\n",
       "\n",
       "    .dataframe thead th {\n",
       "        text-align: right;\n",
       "    }\n",
       "</style>\n",
       "<table border=\"1\" class=\"dataframe\">\n",
       "  <thead>\n",
       "    <tr style=\"text-align: right;\">\n",
       "      <th></th>\n",
       "      <th>msno</th>\n",
       "      <th>payment_method_id</th>\n",
       "      <th>payment_plan_days</th>\n",
       "      <th>plan_list_price</th>\n",
       "      <th>actual_amount_paid</th>\n",
       "      <th>is_auto_renew</th>\n",
       "      <th>transaction_date</th>\n",
       "      <th>membership_expire_date</th>\n",
       "      <th>is_cancel</th>\n",
       "    </tr>\n",
       "  </thead>\n",
       "  <tbody>\n",
       "    <tr>\n",
       "      <th>93</th>\n",
       "      <td>+mXgXN9NisBdSTP04s9rygfqrxis9eC2rHOGYVgpS2A=</td>\n",
       "      <td>29</td>\n",
       "      <td>30</td>\n",
       "      <td>180</td>\n",
       "      <td>0</td>\n",
       "      <td>1</td>\n",
       "      <td>2017-03-20</td>\n",
       "      <td>2017-03-22</td>\n",
       "      <td>0</td>\n",
       "    </tr>\n",
       "    <tr>\n",
       "      <th>344</th>\n",
       "      <td>14Qnt6Q1XFdn5zg+JOx5/Mt7bkR06ljlIgTDJpvFQ9Y=</td>\n",
       "      <td>38</td>\n",
       "      <td>7</td>\n",
       "      <td>0</td>\n",
       "      <td>0</td>\n",
       "      <td>0</td>\n",
       "      <td>2016-07-20</td>\n",
       "      <td>2017-05-03</td>\n",
       "      <td>0</td>\n",
       "    </tr>\n",
       "    <tr>\n",
       "      <th>411</th>\n",
       "      <td>1gX54MfX0NMX47+cAbzPjwlBBXspYCi82Zvkrh+i+Ec=</td>\n",
       "      <td>29</td>\n",
       "      <td>30</td>\n",
       "      <td>180</td>\n",
       "      <td>0</td>\n",
       "      <td>1</td>\n",
       "      <td>2017-03-15</td>\n",
       "      <td>2017-03-17</td>\n",
       "      <td>0</td>\n",
       "    </tr>\n",
       "    <tr>\n",
       "      <th>450</th>\n",
       "      <td>22SToZIZmPwkxOuxCoQN9oyBLE53cZmr/jYj8WA6ZzM=</td>\n",
       "      <td>17</td>\n",
       "      <td>240</td>\n",
       "      <td>0</td>\n",
       "      <td>0</td>\n",
       "      <td>0</td>\n",
       "      <td>2017-03-07</td>\n",
       "      <td>2017-03-10</td>\n",
       "      <td>0</td>\n",
       "    </tr>\n",
       "    <tr>\n",
       "      <th>552</th>\n",
       "      <td>2y/qhXUfMcoD/UjTUjNX9fjgyQ38xHrnJyj/RUvGRO0=</td>\n",
       "      <td>29</td>\n",
       "      <td>30</td>\n",
       "      <td>180</td>\n",
       "      <td>0</td>\n",
       "      <td>1</td>\n",
       "      <td>2017-03-26</td>\n",
       "      <td>2017-03-28</td>\n",
       "      <td>0</td>\n",
       "    </tr>\n",
       "  </tbody>\n",
       "</table>\n",
       "</div>"
      ],
      "text/plain": [
       "                                             msno payment_method_id  \\\n",
       "93   +mXgXN9NisBdSTP04s9rygfqrxis9eC2rHOGYVgpS2A=                29   \n",
       "344  14Qnt6Q1XFdn5zg+JOx5/Mt7bkR06ljlIgTDJpvFQ9Y=                38   \n",
       "411  1gX54MfX0NMX47+cAbzPjwlBBXspYCi82Zvkrh+i+Ec=                29   \n",
       "450  22SToZIZmPwkxOuxCoQN9oyBLE53cZmr/jYj8WA6ZzM=                17   \n",
       "552  2y/qhXUfMcoD/UjTUjNX9fjgyQ38xHrnJyj/RUvGRO0=                29   \n",
       "\n",
       "     payment_plan_days  plan_list_price  actual_amount_paid is_auto_renew  \\\n",
       "93                  30              180                   0             1   \n",
       "344                  7                0                   0             0   \n",
       "411                 30              180                   0             1   \n",
       "450                240                0                   0             0   \n",
       "552                 30              180                   0             1   \n",
       "\n",
       "    transaction_date membership_expire_date is_cancel  \n",
       "93        2017-03-20             2017-03-22         0  \n",
       "344       2016-07-20             2017-05-03         0  \n",
       "411       2017-03-15             2017-03-17         0  \n",
       "450       2017-03-07             2017-03-10         0  \n",
       "552       2017-03-26             2017-03-28         0  "
      ]
     },
     "execution_count": 16,
     "metadata": {},
     "output_type": "execute_result"
    }
   ],
   "source": [
    "transactions[transactions.actual_amount_paid == 0].head()"
   ]
  },
  {
   "cell_type": "markdown",
   "metadata": {},
   "source": [
    "After investigation, the 0 values seem to actually represent the value. It might just mean that the user did not choose a set plan and paying by the month. Those paying 0 NTD may be on a free trial period."
   ]
  },
  {
   "cell_type": "markdown",
   "metadata": {},
   "source": [
    "## User Log Data"
   ]
  },
  {
   "cell_type": "markdown",
   "metadata": {},
   "source": [
    "The user log dataset describes listening behaviors of a user at the daily level.\n",
    "\n",
    "* msno: user id\n",
    "* date: format %Y%m%d\n",
    "* num_25: # of songs played less than 25% of the song length\n",
    "* num_50: # of songs played between 25% to 50% of the song length\n",
    "* num_75: # of songs played between 50% to 75% of of the song length\n",
    "* num_985: # of songs played between 75% to 98.5% of the song length\n",
    "* num_100: # of songs played over 98.5% of the song length\n",
    "* num_unq: # of unique songs played\n",
    "* total_secs: total seconds played"
   ]
  },
  {
   "cell_type": "code",
   "execution_count": 14,
   "metadata": {},
   "outputs": [
    {
     "name": "stdout",
     "output_type": "stream",
     "text": [
      "<class 'pandas.core.frame.DataFrame'>\n",
      "RangeIndex: 18396362 entries, 0 to 18396361\n",
      "Data columns (total 9 columns):\n",
      "msno          object\n",
      "date          int64\n",
      "num_25        int64\n",
      "num_50        int64\n",
      "num_75        int64\n",
      "num_985       int64\n",
      "num_100       int64\n",
      "num_unq       int64\n",
      "total_secs    float64\n",
      "dtypes: float64(1), int64(7), object(1)\n",
      "memory usage: 1.2+ GB\n"
     ]
    }
   ],
   "source": [
    "user_logs = pd.read_csv('./Data/user_logs_v2.csv')\n",
    "user_logs.info()"
   ]
  },
  {
   "cell_type": "markdown",
   "metadata": {},
   "source": [
    "There are 18396361 rows of data. However, we only really need the user logs for the users in our train data, so we will filter down the dataset."
   ]
  },
  {
   "cell_type": "code",
   "execution_count": 15,
   "metadata": {},
   "outputs": [
    {
     "name": "stdout",
     "output_type": "stream",
     "text": [
      "<class 'pandas.core.frame.DataFrame'>\n",
      "RangeIndex: 13532944 entries, 0 to 13532943\n",
      "Data columns (total 9 columns):\n",
      "msno          object\n",
      "date          int64\n",
      "num_25        int64\n",
      "num_50        int64\n",
      "num_75        int64\n",
      "num_985       int64\n",
      "num_100       int64\n",
      "num_unq       int64\n",
      "total_secs    float64\n",
      "dtypes: float64(1), int64(7), object(1)\n",
      "memory usage: 929.2+ MB\n"
     ]
    }
   ],
   "source": [
    "user_logs = user_logs[user_logs.msno.isin(train.msno.tolist())]\n",
    "user_logs.reset_index(drop=True, inplace=True)\n",
    "user_logs.info()"
   ]
  },
  {
   "cell_type": "markdown",
   "metadata": {},
   "source": [
    "Only the date column is in the wrong format; it should be a datetime object."
   ]
  },
  {
   "cell_type": "code",
   "execution_count": 16,
   "metadata": {},
   "outputs": [],
   "source": [
    "user_logs['date'] = user_logs['date'].apply(lambda x: datetime.strptime(str(x), \"%Y%m%d\").date() if pd.notnull(x) else None)"
   ]
  },
  {
   "cell_type": "code",
   "execution_count": 30,
   "metadata": {},
   "outputs": [
    {
     "data": {
      "text/html": [
       "<div>\n",
       "<style scoped>\n",
       "    .dataframe tbody tr th:only-of-type {\n",
       "        vertical-align: middle;\n",
       "    }\n",
       "\n",
       "    .dataframe tbody tr th {\n",
       "        vertical-align: top;\n",
       "    }\n",
       "\n",
       "    .dataframe thead th {\n",
       "        text-align: right;\n",
       "    }\n",
       "</style>\n",
       "<table border=\"1\" class=\"dataframe\">\n",
       "  <thead>\n",
       "    <tr style=\"text-align: right;\">\n",
       "      <th></th>\n",
       "      <th>num_25</th>\n",
       "      <th>num_50</th>\n",
       "      <th>num_75</th>\n",
       "      <th>num_985</th>\n",
       "      <th>num_100</th>\n",
       "      <th>num_unq</th>\n",
       "      <th>total_secs</th>\n",
       "    </tr>\n",
       "  </thead>\n",
       "  <tbody>\n",
       "    <tr>\n",
       "      <th>count</th>\n",
       "      <td>1.353294e+07</td>\n",
       "      <td>1.353294e+07</td>\n",
       "      <td>1.353294e+07</td>\n",
       "      <td>1.353294e+07</td>\n",
       "      <td>1.353294e+07</td>\n",
       "      <td>1.353294e+07</td>\n",
       "      <td>1.353294e+07</td>\n",
       "    </tr>\n",
       "    <tr>\n",
       "      <th>mean</th>\n",
       "      <td>6.064857e+00</td>\n",
       "      <td>1.464016e+00</td>\n",
       "      <td>9.225333e-01</td>\n",
       "      <td>1.043397e+00</td>\n",
       "      <td>2.988009e+01</td>\n",
       "      <td>2.854063e+01</td>\n",
       "      <td>7.793904e+03</td>\n",
       "    </tr>\n",
       "    <tr>\n",
       "      <th>std</th>\n",
       "      <td>1.324969e+01</td>\n",
       "      <td>3.724314e+00</td>\n",
       "      <td>1.858066e+00</td>\n",
       "      <td>2.807856e+00</td>\n",
       "      <td>4.023682e+01</td>\n",
       "      <td>3.176500e+01</td>\n",
       "      <td>9.722439e+03</td>\n",
       "    </tr>\n",
       "    <tr>\n",
       "      <th>min</th>\n",
       "      <td>0.000000e+00</td>\n",
       "      <td>0.000000e+00</td>\n",
       "      <td>0.000000e+00</td>\n",
       "      <td>0.000000e+00</td>\n",
       "      <td>0.000000e+00</td>\n",
       "      <td>1.000000e+00</td>\n",
       "      <td>1.000000e-03</td>\n",
       "    </tr>\n",
       "    <tr>\n",
       "      <th>25%</th>\n",
       "      <td>0.000000e+00</td>\n",
       "      <td>0.000000e+00</td>\n",
       "      <td>0.000000e+00</td>\n",
       "      <td>0.000000e+00</td>\n",
       "      <td>7.000000e+00</td>\n",
       "      <td>8.000000e+00</td>\n",
       "      <td>1.941920e+03</td>\n",
       "    </tr>\n",
       "    <tr>\n",
       "      <th>50%</th>\n",
       "      <td>2.000000e+00</td>\n",
       "      <td>0.000000e+00</td>\n",
       "      <td>0.000000e+00</td>\n",
       "      <td>0.000000e+00</td>\n",
       "      <td>1.600000e+01</td>\n",
       "      <td>1.800000e+01</td>\n",
       "      <td>4.514544e+03</td>\n",
       "    </tr>\n",
       "    <tr>\n",
       "      <th>75%</th>\n",
       "      <td>7.000000e+00</td>\n",
       "      <td>2.000000e+00</td>\n",
       "      <td>1.000000e+00</td>\n",
       "      <td>1.000000e+00</td>\n",
       "      <td>3.600000e+01</td>\n",
       "      <td>3.700000e+01</td>\n",
       "      <td>9.693216e+03</td>\n",
       "    </tr>\n",
       "    <tr>\n",
       "      <th>max</th>\n",
       "      <td>5.213000e+03</td>\n",
       "      <td>8.310000e+02</td>\n",
       "      <td>3.780000e+02</td>\n",
       "      <td>1.010000e+03</td>\n",
       "      <td>9.838000e+03</td>\n",
       "      <td>4.925000e+03</td>\n",
       "      <td>2.307918e+06</td>\n",
       "    </tr>\n",
       "  </tbody>\n",
       "</table>\n",
       "</div>"
      ],
      "text/plain": [
       "             num_25        num_50        num_75       num_985       num_100  \\\n",
       "count  1.353294e+07  1.353294e+07  1.353294e+07  1.353294e+07  1.353294e+07   \n",
       "mean   6.064857e+00  1.464016e+00  9.225333e-01  1.043397e+00  2.988009e+01   \n",
       "std    1.324969e+01  3.724314e+00  1.858066e+00  2.807856e+00  4.023682e+01   \n",
       "min    0.000000e+00  0.000000e+00  0.000000e+00  0.000000e+00  0.000000e+00   \n",
       "25%    0.000000e+00  0.000000e+00  0.000000e+00  0.000000e+00  7.000000e+00   \n",
       "50%    2.000000e+00  0.000000e+00  0.000000e+00  0.000000e+00  1.600000e+01   \n",
       "75%    7.000000e+00  2.000000e+00  1.000000e+00  1.000000e+00  3.600000e+01   \n",
       "max    5.213000e+03  8.310000e+02  3.780000e+02  1.010000e+03  9.838000e+03   \n",
       "\n",
       "            num_unq    total_secs  \n",
       "count  1.353294e+07  1.353294e+07  \n",
       "mean   2.854063e+01  7.793904e+03  \n",
       "std    3.176500e+01  9.722439e+03  \n",
       "min    1.000000e+00  1.000000e-03  \n",
       "25%    8.000000e+00  1.941920e+03  \n",
       "50%    1.800000e+01  4.514544e+03  \n",
       "75%    3.700000e+01  9.693216e+03  \n",
       "max    4.925000e+03  2.307918e+06  "
      ]
     },
     "execution_count": 30,
     "metadata": {},
     "output_type": "execute_result"
    }
   ],
   "source": [
    "user_logs.describe()"
   ]
  },
  {
   "cell_type": "markdown",
   "metadata": {},
   "source": [
    "There are no missing values here; therefore the data cleaning is all completed!"
   ]
  }
 ],
 "metadata": {
  "kernelspec": {
   "display_name": "Python 3",
   "language": "python",
   "name": "python3"
  },
  "language_info": {
   "codemirror_mode": {
    "name": "ipython",
    "version": 3
   },
   "file_extension": ".py",
   "mimetype": "text/x-python",
   "name": "python",
   "nbconvert_exporter": "python",
   "pygments_lexer": "ipython3",
   "version": "3.7.1"
  }
 },
 "nbformat": 4,
 "nbformat_minor": 2
}
